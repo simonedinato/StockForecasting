{
 "cells": [
  {
   "cell_type": "markdown",
   "source": [
    "# Reinforcement Learning"
   ],
   "metadata": {
    "collapsed": false
   },
   "id": "ba14fa86b7707f83"
  },
  {
   "cell_type": "markdown",
   "source": [
    "# Introduction\n",
    "\n",
    "Reinforcement Learning is a branch of machine learning that focuses on how agents should act in an environment to maximize a notion of cumulative reward. Unlike supervised learning, where algorithms are trained on labeled examples, RL learns from a trial-and-error process based on the environment's responses to its actions.\n",
    "\n",
    "Differences between RL and other learning methods:\n",
    "\n",
    "- **Supervised learning**: Algorithms learn from labeled examples, trying to predict label based on the training set;\n",
    "- **Unsupervised learning**: Algorithms try to find patterns in the data, without any labels;\n",
    "- **Reinforcement learning**: Agent learns to make decision through rewards (or punishments) received from its actions.\n",
    "\n",
    "**Key elements:**\n",
    "\n",
    "- Agent:\n",
    "\n",
    "    - **Definition**: The agent is the entity that makes decisions and learns through interaction with the environment. In RL, the agent chooses actions to take based on its current policy.\n",
    "    - **Role in RL**: The agent is at the center of learning in RL. Its goal is to learn the best possible policy, that is, a map from states to actions, to maximize the total reward collected over time. \n",
    "\n",
    "- Enviroment:\n",
    "\n",
    "    - **Definition**: Environment represents the context or world in which the agent operates. It includes anything that the agent can interact with but does not have direct control over;\n",
    "    - **Interaction with the agent**: The environment responds to the agent's actions and presents new states and rewards to the agent. The nature of the environment can vary from simple and static to complex and dynamic.\n",
    "\n",
    "- State:\n",
    "\n",
    "    - **Definition**: A state is a configuration or representation of the environment at a given time. States provide the information the agent needs to make decisions.\n",
    "    - **Importance**: The quality and quantity of information available in states can significantly influence the effectiveness of agent learning.\n",
    "\n",
    "- Action:\n",
    "\n",
    "    - **Definition**: Actions are the various behaviors or moves that the agent can perform. The set of all available actions is known as the action space.\n",
    "    - **Action-Stata dynamics**: Every action taken by the agent affects the state of the environment. The relationship between actions and their consequence on states is fundamental to the agent's decision making. \n",
    "\n",
    "- Reward:\n",
    "\n",
    "    - **Definnition**: A reward is immediate feedback provided to the agent by the environment as a consequence of his or her actions. Rewards can be positive (to encourage certain actions) or negative (to discourage certain actions).\n",
    "    - **Role in learning**: Rewards are the main guide for the agent in the learning process. The agent's goal is to maximize the sum of rewards over time, often referred to as return.\n",
    "\n",
    "- Policy:\n",
    "\n",
    "    - **Definition**: A policy is a strategy adopted by the agent, a kind of rule or algorithm that decides what action to take based on the current state.\n",
    "    - **Types**: Policies can be deterministic or stochastic. A deterministic policy always provides the same action for a given state, while a stochastic policy selects actions according to a probability distribution.\n",
    "\n",
    "- Evaluation functions:\n",
    "\n",
    "    - **Goal**: These functions help the agent evaluate the effectiveness of his or her actions and policies.\n",
    "    - **Types**:\n",
    "        - **Value function**: Estimates the expected return from a state following a given policy.\n",
    "        - **Q-Value function**: also known as **Action-Value function**. Estimates the expected return for a state-action pair.\n",
    "\n",
    "- Model:\n",
    "\n",
    "    - **Description**: A model is an internal representation of the environment that the agent uses to predict how the environment will respond to its actions.\n",
    "    - **Model-based vs model-free RL**: In model-based RL, the agent uses an explicit model of the environment to plan its actions. In model-free RL, the agent learns directly from interactions with the environment without an explicit model."
   ],
   "metadata": {
    "collapsed": false
   },
   "id": "311b6c11919b8eb2"
  },
  {
   "cell_type": "markdown",
   "source": [
    "# Theoretical concepts\n",
    "\n",
    "#### 1. Markov Decision Process\n",
    "\n",
    "The Markov Decision Process (MDP) is a fundamental mathematical framework in the field of Reinforcement Learning. It provides a formalization for decision-making in uncertain and dynamic situations. An MDP is characterized by a set of states, a set of actions, transition probabilities and reward functions.\n",
    "\n",
    "Key MDP elements:\n",
    "\n",
    "- **States**: A set of states $S$ represents all the possible configurations the environment can be in.\n",
    "- **Actions**: A set of actions $A$ that the agent can take. The set of available actions may depend on the current state.\n",
    "- **Transition probability**: A transaction function $P(s_{t+1} | s_t, a_t)$ which defines the probability of transition to the state $s_{t+1}$ given the current state $s_t$ and action $a_t$.\n",
    "- **Reward**: A reward function $R(s_t, a_t, s_{t+1})$ which assigns a reward (or a punishment) to the agent for the transition from state $s_t$ to state $s_{t+1}$ after taking action $a_t$.\n",
    "\n",
    "The fundamental property of an MDP is the \"Markov property,\" which states that the future is independent of the past given the present. This means that the transition probability and reward depend only on the current state and the action taken, not on the history of previous actions or states.\n",
    "\n",
    "#### 2. Reward and evaluation function\n",
    " \n",
    "In the context of Reinforcement Learning, the reward and evaluation function are central concepts that guide agent learning and decision-making. This chapter explores the nature of these components and their role in RL.\n",
    "\n",
    "Reward:\n",
    "\n",
    "- **Definition**: A reward is a scalar value that represents the immediate feedback provided to the agent by the environment as a consequence of his or her actions. Rewards can be positive (to encourage certain actions) or negative (to discourage certain actions).\n",
    "- **Role in learning**: Rewards are the main guide for the agent in the learning process. The agent's goal is to maximize the sum of rewards over time, often referred to as return.\n",
    "\n",
    "Evaluation function:\n",
    " \n",
    "- **Value function**: The value function, denoted as $V(s)$, estimates the expected total return from a states following a given policy. It provides a measure of the goodness-of-fit of a state.\n",
    "- **Q-value function**: The Q-value function, or action-value function, denoted as $Q(s, a)$, evaluates the action $a$ in the state $s$. It estimates the expected return following the action $a$ in the state $s$ and then adhering to a specific policy. \n",
    "\n",
    "#### 3. Common RL algorithms\n",
    "\n",
    "- Q-learning is a model-free learning method that seeks to learn an optimal policy independently of the agent's current action.\n",
    "The algorithm iteratively updates the Q-value estimates for each state-action pair using the Q-learning update formula, based on the reward received and the maximum Q-value of the next state. Q-learning is widely used for problems with discrete state and action spaces and is well suited to situations with uncertain environmental dynamics.\n",
    "\n",
    "\n",
    "- SARSA is a model-based differential time learning (TD) algorithm.\n",
    "Unlike Q-learning, SARSA updates its Q-values based on the agent's current policy (on-policy). The update considers the current transition and the next action the agent intends to perform. SARSA is useful in environments where risk assessment and safety considerations are important because it takes into account the actual path the agent plans to follow.\n",
    "\n",
    "Some remarks:\n",
    "- **Exploration vs. exploitation**: A key aspect in RL is the balance between exploration (trying new actions) and exploitation (using acquired knowledge). RL algorithms must effectively manage this balance;\n",
    "- **Scalability and complexity**: the scalability of algorithms in environments with large state and action spaces is a significant challenge. Methods such as deep learning have been integrated into RL to address this challenge."
   ],
   "metadata": {
    "collapsed": false
   },
   "id": "55430e14daeb171f"
  },
  {
   "cell_type": "markdown",
   "source": [
    "# Use of RL in finance\n",
    "\n",
    "In trading, RL can be used to develop automated strategies that decide when to buy, sell, or hold a stock or cryptocurrency.\n",
    "Financial markets are complex, noisy, and nonstationary, making trading an ideal challenge for RL, which can adapt to such dynamic conditions.\n",
    "\n",
    "Challenges:\n",
    "\n",
    "- Financial data are often noisy and exhibit nonstationarity, which can lead to overfitting and inconsistent model performance.\n",
    "- Markets change rapidly, and what has worked in the past may no longer be valid, requiring the model to continually adapt.\n",
    "\n",
    "Pros of using RL:\n",
    "\n",
    "- **Automation and Scalability**: The RL can automate trading decisions and operate on a large scale, analyzing huge amounts of data more efficiently than human analysis.\n",
    "- **Adaptability**: RL models can dynamically adapt to changes in the market, continuously learning from new data.\n",
    "- **High Performance Potential**: When configured well, RL models can potentially outperform traditional strategies and human traders, especially in highly volatile markets.\n",
    "\n",
    "Common approaches:\n",
    "\n",
    "- **Deep reinforcement learning**: The use of deep neural networks to handle the complexity of market data and capture nonlinear relationships.\n",
    "- **Optimized exploration strategies**: Development of exploration methods that balance between learning from historical market situations and exploring new trading strategies.\n"
   ],
   "metadata": {
    "collapsed": false
   },
   "id": "a10463acab5730d4"
  },
  {
   "cell_type": "markdown",
   "source": [
    "### Practical implementation\n",
    "\n",
    "#### Introduction to Financial Market Simulation with Gym-MTSim\n",
    "\n",
    "In this section of our Jupyter Notebook, we explore the world of financial market simulation using the `gym_mtsim` library, an extension of OpenAI's Gym. The Gym library provides a standardized interface for reinforcement learning (RL) tasks, and `gym_mtsim` specifically caters to financial market simulations, offering a unique and practical approach for testing and developing financial strategies in a controlled, simulated environment.\n",
    "\n",
    "The code snippet provided initializes various environments that simulate different financial markets and trading scenarios. Each environment corresponds to a unique market type or strategy:\n",
    "\n",
    "1. **Forex Markets (Hedged and Unhedged):** \n",
    "   - `forex-hedge-v0` simulates a foreign exchange (Forex) market with a hedging strategy.\n",
    "   - `forex-unhedge-v0` represents the Forex market without a hedging strategy.\n",
    "\n",
    "2. **Stock Markets (Hedged and Unhedged):**\n",
    "   - `stocks-hedge-v0` sets up a simulated environment for stock market trading with a hedging strategy.\n",
    "   - `stocks-unhedge-v0` offers a simulation of stock market trading without the use of hedging.\n",
    "\n",
    "3. **Cryptocurrency Markets (Hedged and Unhedged):**\n",
    "   - `crypto-hedge-v0` is tailored for cryptocurrency market simulations implementing hedging strategies.\n",
    "   - `crypto-unhedge-v0` provides a crypto market environment without hedging.\n",
    "\n",
    "4. **Mixed Asset Markets (Hedged and Unhedged):**\n",
    "   - `mixed-hedge-v0` creates a diverse market environment with multiple asset types, using hedging strategies.\n",
    "   - `mixed-unhedge-v0` simulates a mixed asset market without the use of hedging strategies.\n",
    "\n",
    "Each of these environments can be used to train and evaluate RL models, providing insights into different trading strategies and market behaviors. This approach is invaluable for researchers and practitioners in the field of quantitative finance, offering a risk-free platform to experiment and refine trading algorithms.\n"
   ],
   "metadata": {
    "collapsed": false
   },
   "id": "7b4194683da6b689"
  },
  {
   "cell_type": "code",
   "outputs": [
    {
     "data": {
      "text/html": "        <script type=\"text/javascript\">\n        window.PlotlyConfig = {MathJaxConfig: 'local'};\n        if (window.MathJax && window.MathJax.Hub && window.MathJax.Hub.Config) {window.MathJax.Hub.Config({SVG: {font: \"STIX-Web\"}});}\n        if (typeof require !== 'undefined') {\n        require.undef(\"plotly\");\n        requirejs.config({\n            paths: {\n                'plotly': ['https://cdn.plot.ly/plotly-2.27.0.min']\n            }\n        });\n        require(['plotly'], function(Plotly) {\n            window._Plotly = Plotly;\n        });\n        }\n        </script>\n        "
     },
     "metadata": {},
     "output_type": "display_data"
    }
   ],
   "source": [
    "import plotly.offline as pyo\n",
    "pyo.init_notebook_mode(connected=True)"
   ],
   "metadata": {
    "collapsed": false,
    "ExecuteTime": {
     "end_time": "2024-01-29T17:49:05.408084Z",
     "start_time": "2024-01-29T17:49:05.373775Z"
    }
   },
   "id": "dfa0ef46f6f7d293",
   "execution_count": 108
  },
  {
   "cell_type": "code",
   "outputs": [],
   "source": [
    "import warnings\n",
    "warnings.filterwarnings('ignore')"
   ],
   "metadata": {
    "collapsed": false,
    "ExecuteTime": {
     "end_time": "2024-01-29T17:49:05.429517Z",
     "start_time": "2024-01-29T17:49:05.397422Z"
    }
   },
   "id": "f606e9f7e83d44ac",
   "execution_count": 109
  },
  {
   "cell_type": "code",
   "outputs": [],
   "source": [
    "import gym\n",
    "import gym_mtsim\n",
    "\n",
    "env = gym.make('forex-hedge-v0')\n",
    "# env = gym.make('stocks-hedge-v0')\n",
    "# env = gym.make('crypto-hedge-v0')\n",
    "# env = gym.make('mixed-hedge-v0')\n",
    "\n",
    "# env = gym.make('forex-unhedge-v0')\n",
    "# env = gym.make('stocks-unhedge-v0')\n",
    "# env = gym.make('crypto-unhedge-v0')\n",
    "# env = gym.make('mixed-unhedge-v0')"
   ],
   "metadata": {
    "collapsed": false,
    "ExecuteTime": {
     "end_time": "2024-01-29T17:49:05.503236Z",
     "start_time": "2024-01-29T17:49:05.433538Z"
    }
   },
   "id": "7c299f4c0e8b29a8",
   "execution_count": 110
  },
  {
   "cell_type": "markdown",
   "source": [
    "### Setting Up a Reinforcement Learning Environment for Forex Trading with Gym-MTSim\n",
    "\n",
    "In this section of our Jupyter Notebook, we delve into setting up a more advanced financial market simulation environment using `gym_mtsim`. This setup is specifically tailored for reinforcement learning (RL) applications in Forex trading. Our focus is to demonstrate how RL can be applied in the complex and dynamic world of foreign exchange markets.\n",
    "\n",
    "The provided code snippet establishes a simulated trading environment, which is a critical step for training RL agents. Here's a detailed breakdown of the components and their roles:\n",
    "\n",
    "1. **Importing Necessary Libraries and Modules:**\n",
    "   - `pytz`: For timezone operations, crucial in time-sensitive financial markets.\n",
    "   - `datetime`, `timedelta`: For handling date and time, essential for simulating real-time market scenarios.\n",
    "   - `numpy`: A fundamental package for scientific computing, used here for statistical operations.\n",
    "   - `gym_mtsim`: The core library for creating the Forex market simulation environment.\n",
    "   - `MtEnv`, `MtSimulator`, `FOREX_DATA_PATH`: Specific classes and constants from `gym_mtsim` used for setting up the environment.\n",
    "\n",
    "2. **Initializing the Market Simulator (`MtSimulator`):**\n",
    "   - **Currency and Balance:** The simulation uses USD as the base unit with an initial balance of $10,000.\n",
    "   - **Leverage and Risk Management:** A leverage of 100x is set, along with a stop-out level at 20% to manage risk.\n",
    "   - **Hedging:** The simulator is configured to allow hedging strategies.\n",
    "   - **Market Data:** The `symbols_filename` parameter points to the Forex market data source.\n",
    "\n",
    "3. **Creating the Trading Environment (`MtEnv`):**\n",
    "   - **Trading Symbols:** We focus on three currency pairs: GBPCAD, EURUSD, and USDJPY.\n",
    "   - **Window Size:** A window size of 10 is set, determining how much past data is visible to the agent at any point.\n",
    "   - **Thresholds for Holding and Closing Positions:** Both set to 0.5, dictating the agent's decision-making criteria.\n",
    "   - **Trading Fees:** Dynamically calculated based on the currency pair, introducing a realistic aspect of cost in trading.\n",
    "   - **Order Limits and Parallel Processing:** Each symbol can have up to 2 orders, and the environment supports multiprocessing with 2 processes.\n",
    "\n",
    "This setup provides a rich and realistic environment for training RL agents. The agents can learn and adapt their trading strategies based on historical data, market conditions, and transaction costs. The complexity of this environment, with its multiple currency pairs and dynamic fee structure, offers a challenging yet rewarding platform for exploring the capabilities of RL in Forex trading.\n",
    "\n",
    "In the following parts of the notebook, we will introduce the RL concepts and algorithms, and demonstrate how they can be trained within this environment to make informed trading decisions. This practical application not only showcases the power of RL in financial decision-making but also provides a hands-on experience in applying advanced AI techniques in the domain of quantitative finance."
   ],
   "metadata": {
    "collapsed": false
   },
   "id": "4a4fe89cc06c6830"
  },
  {
   "cell_type": "code",
   "outputs": [],
   "source": [
    "import pytz\n",
    "from datetime import datetime, timedelta\n",
    "import numpy as np\n",
    "from gym_mtsim import MtEnv, MtSimulator, FOREX_DATA_PATH\n",
    "\n",
    "\n",
    "sim = MtSimulator(\n",
    "    unit='USD',\n",
    "    balance=10000.,\n",
    "    leverage=100.,\n",
    "    stop_out_level=0.2,\n",
    "    hedge=True,\n",
    "    symbols_filename=FOREX_DATA_PATH\n",
    ")\n",
    "\n",
    "env = MtEnv(\n",
    "    original_simulator=sim,\n",
    "    trading_symbols=['GBPCAD', 'EURUSD', 'USDJPY'],\n",
    "    window_size=10,\n",
    "    # time_points=[desired time points ...],\n",
    "    hold_threshold=0.5,\n",
    "    close_threshold=0.5,\n",
    "    fee=lambda symbol: {\n",
    "        'GBPCAD': max(0., np.random.normal(0.0007, 0.00005)),\n",
    "        'EURUSD': max(0., np.random.normal(0.0002, 0.00003)),\n",
    "        'USDJPY': max(0., np.random.normal(0.02, 0.003)),\n",
    "    }[symbol],\n",
    "    symbol_max_orders=2,\n",
    "    multiprocessing_processes=2\n",
    ")"
   ],
   "metadata": {
    "collapsed": false,
    "ExecuteTime": {
     "end_time": "2024-01-29T17:49:05.630166Z",
     "start_time": "2024-01-29T17:49:05.481521Z"
    }
   },
   "id": "726db832e6d2161",
   "execution_count": 111
  },
  {
   "cell_type": "code",
   "outputs": [
    {
     "name": "stdout",
     "output_type": "stream",
     "text": [
      "prices[GBPCAD].shape: (88, 2)\n",
      "prices[EURUSD].shape: (88, 2)\n",
      "prices[USDJPY].shape: (88, 2)\n",
      "signal_features.shape: (88, 6)\n",
      "features_shape: (10, 6)\n"
     ]
    }
   ],
   "source": [
    "for symbol in env.prices:\n",
    "    print(f\"prices[{symbol}].shape:\", env.prices[symbol].shape)\n",
    "\n",
    "print(\"signal_features.shape:\", env.signal_features.shape)\n",
    "print(\"features_shape:\", env.features_shape)"
   ],
   "metadata": {
    "collapsed": false,
    "ExecuteTime": {
     "end_time": "2024-01-29T17:49:05.637291Z",
     "start_time": "2024-01-29T17:49:05.631150Z"
    }
   },
   "id": "7ea3daacf7b468f6",
   "execution_count": 112
  },
  {
   "cell_type": "markdown",
   "source": [
    "In this section of our Jupyter Notebook, we demonstrate a basic loop for simulating a trading environment using the setup we previously created with `gym_mtsim`. This loop is fundamental for training reinforcement learning (RL) agents, where they interact with the environment, receive feedback (rewards), and adjust their actions accordingly.\n",
    "\n",
    "Here's a detailed explanation of the code snippet and its role in the RL context:\n",
    "\n",
    "1. **Environment Reset (`env.reset()`):**\n",
    "   - This initializes or resets the environment to a starting state. It's akin to starting a new trading day or session, where the RL agent begins with a clean slate.\n",
    "   - The `reset` method returns an initial observation, providing the agent with the current state of the market.\n",
    "\n",
    "2. **Trading Loop:**\n",
    "   - The `while True:` loop represents the continuous process of trading in a market. Each iteration of the loop is analogous to a single step or action taken by the RL agent in the environment.\n",
    "\n",
    "3. **Sampling an Action (`env.action_space.sample()`):**\n",
    "   - At each step, an action is selected randomly from the action space. In a more sophisticated RL setup, this is where the agent's policy or decision-making logic would determine the action based on the current state (observation).\n",
    "   - The action could involve buying, selling, holding, or other trading actions specific to the environment's design.\n",
    "\n",
    "4. **Taking a Step (`env.step(action)`):**\n",
    "   - The `step` method advances the environment by one time step using the chosen action. It returns several important pieces of information:\n",
    "     - `observation`: The new state of the market after the action is taken.\n",
    "     - `reward`: The immediate reward received after taking the action, which is crucial for RL as it guides the agent's learning process.\n",
    "     - `done`: A boolean indicating whether the episode (trading session) has ended (e.g., due to bankruptcy, reaching a time limit, etc.).\n",
    "     - `info`: A dictionary containing supplementary information such as balance, equity, margin levels, etc.\n",
    "\n",
    "5. **Handling the End of an Episode (`if done:`):**\n",
    "   - If `done` is True, it signals the end of the trading episode. This can trigger the agent to evaluate its performance and learn from the episode.\n",
    "   - The code then prints out important financial metrics from the `info` dictionary:\n",
    "     - `balance`, `equity`, `margin`, `free_margin`, and `margin_level` provide insights into the financial status at the end of the episode.\n",
    "     - `step_reward` gives the reward obtained in the final step, which could be used for further analysis or learning.\n",
    "\n",
    "This loop forms the core of an RL training process in financial market simulation. In a complete RL application, the agent would not randomly select actions but instead follow a strategy based on its learning and the observed states. The\n",
    "\n",
    "feedback from the environment in terms of rewards and state transitions guides the agent to refine its strategy over time, aiming to maximize cumulative rewards, which in the context of trading, could align with maximizing profit or minimizing risk.\n",
    "\n",
    "In subsequent sections of our notebook, we will explore how to replace the random action selection with a decision-making policy driven by RL algorithms. We will also look into how the agent learns from the environment's feedback, adjusts its trading strategy, and improves its performance over successive trading episodes. This iterative learning process is at the heart of applying RL in financial trading simulations, providing valuable insights and practical skills in leveraging AI for quantitative finance."
   ],
   "metadata": {
    "collapsed": false
   },
   "id": "38fc05aa2c97d8f1"
  },
  {
   "cell_type": "code",
   "outputs": [
    {
     "name": "stdout",
     "output_type": "stream",
     "text": [
      "balance: 6257.282588625643, equity: 6096.474270944401, margin: 3989.7984\n",
      "free_margin: 2106.6758709444007, margin_level: 1.5280156187702116\n",
      "step_reward: -160.80831768124244\n"
     ]
    }
   ],
   "source": [
    "observation = env.reset()\n",
    "\n",
    "while True:\n",
    "    action = env.action_space.sample()\n",
    "    observation, reward, done, info = env.step(action)\n",
    "    if done:\n",
    "        print(\n",
    "            f\"balance: {info['balance']}, equity: {info['equity']}, margin: {info['margin']}\\n\"\n",
    "            f\"free_margin: {info['free_margin']}, margin_level: {info['margin_level']}\\n\"\n",
    "            f\"step_reward: {info['step_reward']}\"\n",
    "        )\n",
    "        break"
   ],
   "metadata": {
    "collapsed": false,
    "ExecuteTime": {
     "end_time": "2024-01-29T17:49:05.673211Z",
     "start_time": "2024-01-29T17:49:05.634213Z"
    }
   },
   "id": "f7a0bea4352efc51",
   "execution_count": 113
  },
  {
   "cell_type": "markdown",
   "source": [
    "#### Custom accuracy\n",
    "\n",
    "In the realm of stock trading using reinforcement learning, the tradtional concept of accuracy, as used in supervised learning, does not directly apply. In supervised learning, accuracy is typically a measure of how many predictions a model got right.\n",
    "However, in stock trading, success is not just about the requency of correct predictions. but also about the quality and profitability of the trades made. Therefore, we need a different approach to measure the performance of an RL model in sotck trading. This is where the concept of custom accuracy, specifically designed for trading, comes into play.\n",
    "\n",
    "##### Custom accuracy: Profitable Trades Ratio\n",
    "\n",
    "The *Profitable Trades Ratio* is straightforward yet effective metric for assessing the performance of a stock trading RL model. This metric focuses on the proportion of trades that resulted in a profit, regardless of the size of the profit\n",
    "\n",
    "**Definition**\n",
    "Profitable Trades Ration is defined as the ratio of the number of profitable trades to the total number of trades made by the model.\n",
    "\n",
    "$$\n",
    "Profitable\\ Trades\\ Ratio = \\frac{Number\\ Of\\ Profitable\\ Trades}{Number\\ Of\\ Total\\ Trades}\n",
    "$$\n",
    "\n",
    "**Advantages**\n",
    "\n",
    "* *Simplicity*: The metric is straightforward to calculate and understand.\n",
    "* *Direct Relevance*: It directly relates to the fundamental goal of trading, which is to make profitable trades.\n",
    "\n",
    "**Limitations**\n",
    "\n",
    "* *Does not reflect magnitude*: It doesn’t account for the size of the profit or loss in each trade.\n",
    "* *Risk ignorance*: It does not consider the risk involved in achieving the profits.\n",
    "* *May not represent overall performance*: A few large losses could offset many small wins, which this metric would not reveal.\n"
   ],
   "metadata": {
    "collapsed": false
   },
   "id": "6a33bb202f75cb56"
  },
  {
   "cell_type": "code",
   "outputs": [],
   "source": [
    "def calculate_profitable_trades_ratio(trades):\n",
    "    profitable_trades = sum(1 for index, trade in trades.iterrows() if trade['Exit Price'] > trade['Entry Price'])\n",
    "    total_trades = len(trades)\n",
    "    return profitable_trades / total_trades if total_trades > 0 else 0"
   ],
   "metadata": {
    "collapsed": false,
    "ExecuteTime": {
     "end_time": "2024-01-29T17:49:05.673863Z",
     "start_time": "2024-01-29T17:49:05.656796Z"
    }
   },
   "id": "ea0d327ebb09a95a",
   "execution_count": 114
  },
  {
   "cell_type": "markdown",
   "source": [
    "Printing the results"
   ],
   "metadata": {
    "collapsed": false
   },
   "id": "6b3cb003a7150c21"
  },
  {
   "cell_type": "code",
   "outputs": [
    {
     "name": "stdout",
     "output_type": "stream",
     "text": [
      "profitable trades ratio: 0.5833333333333334\n"
     ]
    },
    {
     "data": {
      "text/plain": "    Id  Symbol  Type  Volume                Entry Time  Entry Price  \\\n0   12  EURUSD  Sell    3.36 2021-09-02 00:00:00+00:00      1.18744   \n1   11  EURUSD  Sell    6.16 2021-08-27 00:00:00+00:00      1.17955   \n2   10  EURUSD  Sell    0.21 2021-08-12 00:00:00+00:00      1.17296   \n3    9  EURUSD  Sell    1.85 2021-07-12 00:00:00+00:00      1.18606   \n4    8  EURUSD  Sell    4.22 2021-07-08 00:00:00+00:00      1.18449   \n5    7  EURUSD  Sell    2.75 2021-07-02 00:00:00+00:00      1.18646   \n6    6  GBPCAD   Buy    1.03 2021-06-24 00:00:00+00:00      1.71493   \n7    5  EURUSD   Buy    4.01 2021-06-14 00:00:00+00:00      1.21200   \n8    4  USDJPY   Buy    2.49 2021-06-08 00:00:00+00:00    109.49200   \n9    3  USDJPY   Buy    5.98 2021-06-07 00:00:00+00:00    109.23800   \n10   2  EURUSD  Sell    1.99 2021-05-26 00:00:00+00:00      1.21922   \n11   1  EURUSD   Buy    4.10 2021-05-18 00:00:00+00:00      1.22219   \n\n                   Exit Time  Exit Price       Profit       Margin       Fee  \\\n0  2021-09-03 00:00:00+00:00     1.18772  -160.808318  3989.798400  0.000199   \n1  2021-09-01 00:00:00+00:00     1.18384 -2787.425464  7266.028000  0.000235   \n2  2021-08-13 00:00:00+00:00     1.17962  -145.195089   246.321600  0.000254   \n3  2021-07-14 00:00:00+00:00     1.18358   432.181706  2194.211000  0.000144   \n4  2021-07-09 00:00:00+00:00     1.18774 -1471.050459  4998.547800  0.000236   \n5  2021-07-07 00:00:00+00:00     1.17903  1989.132017  3262.765000  0.000197   \n6  2021-06-25 00:00:00+00:00     1.70721  -707.728647  1433.457415  0.000730   \n7  2021-06-15 00:00:00+00:00     1.21264   204.656503  4860.120000  0.000130   \n8  2021-06-10 00:00:00+00:00   109.31900  -443.671597  2490.000000  0.021786   \n9  2021-06-08 00:00:00+00:00   109.49200  1292.026249  5980.000000  0.017434   \n10 2021-05-27 00:00:00+00:00     1.21934   -68.261126  2426.247800  0.000223   \n11 2021-05-19 00:00:00+00:00     1.21744 -2037.381504  5010.979000  0.000219   \n\n    Closed  \n0    False  \n1     True  \n2     True  \n3     True  \n4     True  \n5     True  \n6     True  \n7     True  \n8     True  \n9     True  \n10    True  \n11    True  ",
      "text/html": "<div>\n<style scoped>\n    .dataframe tbody tr th:only-of-type {\n        vertical-align: middle;\n    }\n\n    .dataframe tbody tr th {\n        vertical-align: top;\n    }\n\n    .dataframe thead th {\n        text-align: right;\n    }\n</style>\n<table border=\"1\" class=\"dataframe\">\n  <thead>\n    <tr style=\"text-align: right;\">\n      <th></th>\n      <th>Id</th>\n      <th>Symbol</th>\n      <th>Type</th>\n      <th>Volume</th>\n      <th>Entry Time</th>\n      <th>Entry Price</th>\n      <th>Exit Time</th>\n      <th>Exit Price</th>\n      <th>Profit</th>\n      <th>Margin</th>\n      <th>Fee</th>\n      <th>Closed</th>\n    </tr>\n  </thead>\n  <tbody>\n    <tr>\n      <th>0</th>\n      <td>12</td>\n      <td>EURUSD</td>\n      <td>Sell</td>\n      <td>3.36</td>\n      <td>2021-09-02 00:00:00+00:00</td>\n      <td>1.18744</td>\n      <td>2021-09-03 00:00:00+00:00</td>\n      <td>1.18772</td>\n      <td>-160.808318</td>\n      <td>3989.798400</td>\n      <td>0.000199</td>\n      <td>False</td>\n    </tr>\n    <tr>\n      <th>1</th>\n      <td>11</td>\n      <td>EURUSD</td>\n      <td>Sell</td>\n      <td>6.16</td>\n      <td>2021-08-27 00:00:00+00:00</td>\n      <td>1.17955</td>\n      <td>2021-09-01 00:00:00+00:00</td>\n      <td>1.18384</td>\n      <td>-2787.425464</td>\n      <td>7266.028000</td>\n      <td>0.000235</td>\n      <td>True</td>\n    </tr>\n    <tr>\n      <th>2</th>\n      <td>10</td>\n      <td>EURUSD</td>\n      <td>Sell</td>\n      <td>0.21</td>\n      <td>2021-08-12 00:00:00+00:00</td>\n      <td>1.17296</td>\n      <td>2021-08-13 00:00:00+00:00</td>\n      <td>1.17962</td>\n      <td>-145.195089</td>\n      <td>246.321600</td>\n      <td>0.000254</td>\n      <td>True</td>\n    </tr>\n    <tr>\n      <th>3</th>\n      <td>9</td>\n      <td>EURUSD</td>\n      <td>Sell</td>\n      <td>1.85</td>\n      <td>2021-07-12 00:00:00+00:00</td>\n      <td>1.18606</td>\n      <td>2021-07-14 00:00:00+00:00</td>\n      <td>1.18358</td>\n      <td>432.181706</td>\n      <td>2194.211000</td>\n      <td>0.000144</td>\n      <td>True</td>\n    </tr>\n    <tr>\n      <th>4</th>\n      <td>8</td>\n      <td>EURUSD</td>\n      <td>Sell</td>\n      <td>4.22</td>\n      <td>2021-07-08 00:00:00+00:00</td>\n      <td>1.18449</td>\n      <td>2021-07-09 00:00:00+00:00</td>\n      <td>1.18774</td>\n      <td>-1471.050459</td>\n      <td>4998.547800</td>\n      <td>0.000236</td>\n      <td>True</td>\n    </tr>\n    <tr>\n      <th>5</th>\n      <td>7</td>\n      <td>EURUSD</td>\n      <td>Sell</td>\n      <td>2.75</td>\n      <td>2021-07-02 00:00:00+00:00</td>\n      <td>1.18646</td>\n      <td>2021-07-07 00:00:00+00:00</td>\n      <td>1.17903</td>\n      <td>1989.132017</td>\n      <td>3262.765000</td>\n      <td>0.000197</td>\n      <td>True</td>\n    </tr>\n    <tr>\n      <th>6</th>\n      <td>6</td>\n      <td>GBPCAD</td>\n      <td>Buy</td>\n      <td>1.03</td>\n      <td>2021-06-24 00:00:00+00:00</td>\n      <td>1.71493</td>\n      <td>2021-06-25 00:00:00+00:00</td>\n      <td>1.70721</td>\n      <td>-707.728647</td>\n      <td>1433.457415</td>\n      <td>0.000730</td>\n      <td>True</td>\n    </tr>\n    <tr>\n      <th>7</th>\n      <td>5</td>\n      <td>EURUSD</td>\n      <td>Buy</td>\n      <td>4.01</td>\n      <td>2021-06-14 00:00:00+00:00</td>\n      <td>1.21200</td>\n      <td>2021-06-15 00:00:00+00:00</td>\n      <td>1.21264</td>\n      <td>204.656503</td>\n      <td>4860.120000</td>\n      <td>0.000130</td>\n      <td>True</td>\n    </tr>\n    <tr>\n      <th>8</th>\n      <td>4</td>\n      <td>USDJPY</td>\n      <td>Buy</td>\n      <td>2.49</td>\n      <td>2021-06-08 00:00:00+00:00</td>\n      <td>109.49200</td>\n      <td>2021-06-10 00:00:00+00:00</td>\n      <td>109.31900</td>\n      <td>-443.671597</td>\n      <td>2490.000000</td>\n      <td>0.021786</td>\n      <td>True</td>\n    </tr>\n    <tr>\n      <th>9</th>\n      <td>3</td>\n      <td>USDJPY</td>\n      <td>Buy</td>\n      <td>5.98</td>\n      <td>2021-06-07 00:00:00+00:00</td>\n      <td>109.23800</td>\n      <td>2021-06-08 00:00:00+00:00</td>\n      <td>109.49200</td>\n      <td>1292.026249</td>\n      <td>5980.000000</td>\n      <td>0.017434</td>\n      <td>True</td>\n    </tr>\n    <tr>\n      <th>10</th>\n      <td>2</td>\n      <td>EURUSD</td>\n      <td>Sell</td>\n      <td>1.99</td>\n      <td>2021-05-26 00:00:00+00:00</td>\n      <td>1.21922</td>\n      <td>2021-05-27 00:00:00+00:00</td>\n      <td>1.21934</td>\n      <td>-68.261126</td>\n      <td>2426.247800</td>\n      <td>0.000223</td>\n      <td>True</td>\n    </tr>\n    <tr>\n      <th>11</th>\n      <td>1</td>\n      <td>EURUSD</td>\n      <td>Buy</td>\n      <td>4.10</td>\n      <td>2021-05-18 00:00:00+00:00</td>\n      <td>1.22219</td>\n      <td>2021-05-19 00:00:00+00:00</td>\n      <td>1.21744</td>\n      <td>-2037.381504</td>\n      <td>5010.979000</td>\n      <td>0.000219</td>\n      <td>True</td>\n    </tr>\n  </tbody>\n</table>\n</div>"
     },
     "execution_count": 115,
     "metadata": {},
     "output_type": "execute_result"
    }
   ],
   "source": [
    "state = env.render()\n",
    "\n",
    "custom_accuracy = calculate_profitable_trades_ratio(state['orders'])\n",
    "\n",
    "print(f\"profitable trades ratio: {custom_accuracy}\\n\")\n",
    "state['orders']"
   ],
   "metadata": {
    "collapsed": false,
    "ExecuteTime": {
     "end_time": "2024-01-29T17:49:05.677747Z",
     "start_time": "2024-01-29T17:49:05.660822Z"
    }
   },
   "id": "128f9d5d8daa80cd",
   "execution_count": 115
  },
  {
   "cell_type": "markdown",
   "source": [
    "Render in **simple_figure** mode\n",
    "- Each *symbol* is illustrated in a different color\n",
    "- The **green/red** triangle show successful **buy/sell** actions\n",
    "- The **grey** triangles indicate that the **buy/sell** actions encountered and **error**\n",
    "- The **black** vertical bars specify **close** actions"
   ],
   "metadata": {
    "collapsed": false
   },
   "id": "b04b6422437fe9eb"
  },
  {
   "cell_type": "code",
   "outputs": [
    {
     "data": {
      "text/plain": "<Figure size 1400x600 with 3 Axes>",
      "image/png": "[encoded data removed]"
     },
     "metadata": {},
     "output_type": "display_data"
    }
   ],
   "source": [
    "env.render('simple_figure')"
   ],
   "metadata": {
    "collapsed": false,
    "ExecuteTime": {
     "end_time": "2024-01-29T17:49:05.978621Z",
     "start_time": "2024-01-29T17:49:05.689185Z"
    }
   },
   "id": "d1691af035b30f17",
   "execution_count": 116
  },
  {
   "cell_type": "markdown",
   "source": [
    "Render in **advanced_mode** figure\n",
    "- Clicking on a symbol name will hide/show its plot\n",
    "- Hovering over points and markers will display their details\n",
    "- The size of the triangles indicates their relative volume"
   ],
   "metadata": {
    "collapsed": false
   },
   "id": "22d1a56cd8ab73d1"
  },
  {
   "cell_type": "code",
   "outputs": [
    {
     "data": {
      "application/vnd.plotly.v1+json": {
       "data": [
        {
         "hovertext": [
          "balance: 10000.000000 USD<br>equity: 10000.000000<br>margin: 0.000000<br>free margin: 10000.000000<br>margin level: inf",
          "balance: 10000.000000 USD<br>equity: 10000.000000<br>margin: 0.000000<br>free margin: 10000.000000<br>margin level: inf",
          "balance: 10000.000000 USD<br>equity: 10000.000000<br>margin: 0.000000<br>free margin: 10000.000000<br>margin level: inf",
          "balance: 10000.000000 USD<br>equity: 10000.000000<br>margin: 0.000000<br>free margin: 10000.000000<br>margin level: inf",
          "balance: 10000.000000 USD<br>equity: 10000.000000<br>margin: 0.000000<br>free margin: 10000.000000<br>margin level: inf",
          "balance: 10000.000000 USD<br>equity: 10000.000000<br>margin: 0.000000<br>free margin: 10000.000000<br>margin level: inf",
          "balance: 10000.000000 USD<br>equity: 10000.000000<br>margin: 0.000000<br>free margin: 10000.000000<br>margin level: inf",
          "balance: 10000.000000 USD<br>equity: 10000.000000<br>margin: 0.000000<br>free margin: 10000.000000<br>margin level: inf",
          "balance: 10000.000000 USD<br>equity: 10000.000000<br>margin: 0.000000<br>free margin: 10000.000000<br>margin level: inf",
          "balance: 10000.000000 USD<br>equity: 10000.000000<br>margin: 0.000000<br>free margin: 10000.000000<br>margin level: inf",
          "balance: 10000.000000 USD<br>equity: 7962.618496<br>margin: 5010.979000<br>free margin: 2951.639496<br>margin level: 1.589034",
          "balance: 7962.618496 USD<br>equity: 7962.618496<br>margin: 0.000000<br>free margin: 7962.618496<br>margin level: inf",
          "balance: 7962.618496 USD<br>equity: 7962.618496<br>margin: 0.000000<br>free margin: 7962.618496<br>margin level: inf",
          "balance: 7962.618496 USD<br>equity: 7962.618496<br>margin: 0.000000<br>free margin: 7962.618496<br>margin level: inf",
          "balance: 7962.618496 USD<br>equity: 7962.618496<br>margin: 0.000000<br>free margin: 7962.618496<br>margin level: inf",
          "balance: 7962.618496 USD<br>equity: 7962.618496<br>margin: 0.000000<br>free margin: 7962.618496<br>margin level: inf",
          "balance: 7962.618496 USD<br>equity: 7894.357370<br>margin: 2426.247800<br>free margin: 5468.109570<br>margin level: 3.253731",
          "balance: 7894.357370 USD<br>equity: 7894.357370<br>margin: 0.000000<br>free margin: 7894.357370<br>margin level: inf",
          "balance: 7894.357370 USD<br>equity: 7894.357370<br>margin: 0.000000<br>free margin: 7894.357370<br>margin level: inf",
          "balance: 7894.357370 USD<br>equity: 7894.357370<br>margin: 0.000000<br>free margin: 7894.357370<br>margin level: inf",
          "balance: 7894.357370 USD<br>equity: 7894.357370<br>margin: 0.000000<br>free margin: 7894.357370<br>margin level: inf",
          "balance: 7894.357370 USD<br>equity: 7894.357370<br>margin: 0.000000<br>free margin: 7894.357370<br>margin level: inf",
          "balance: 7894.357370 USD<br>equity: 7894.357370<br>margin: 0.000000<br>free margin: 7894.357370<br>margin level: inf",
          "balance: 7894.357370 USD<br>equity: 7894.357370<br>margin: 0.000000<br>free margin: 7894.357370<br>margin level: inf",
          "balance: 7894.357370 USD<br>equity: 9186.383618<br>margin: 5980.000000<br>free margin: 3206.383618<br>margin level: 1.536185",
          "balance: 9186.383618 USD<br>equity: 9423.108104<br>margin: 2490.000000<br>free margin: 6933.108104<br>margin level: 3.784381",
          "balance: 9186.383618 USD<br>equity: 8742.712021<br>margin: 2490.000000<br>free margin: 6252.712021<br>margin level: 3.511129",
          "balance: 8742.712021 USD<br>equity: 8742.712021<br>margin: 0.000000<br>free margin: 8742.712021<br>margin level: inf",
          "balance: 8742.712021 USD<br>equity: 8742.712021<br>margin: 0.000000<br>free margin: 8742.712021<br>margin level: inf",
          "balance: 8742.712021 USD<br>equity: 8947.368524<br>margin: 4860.120000<br>free margin: 4087.248524<br>margin level: 1.840977",
          "balance: 8947.368524 USD<br>equity: 8947.368524<br>margin: 0.000000<br>free margin: 8947.368524<br>margin level: inf",
          "balance: 8947.368524 USD<br>equity: 8947.368524<br>margin: 0.000000<br>free margin: 8947.368524<br>margin level: inf",
          "balance: 8947.368524 USD<br>equity: 8947.368524<br>margin: 0.000000<br>free margin: 8947.368524<br>margin level: inf",
          "balance: 8947.368524 USD<br>equity: 8947.368524<br>margin: 0.000000<br>free margin: 8947.368524<br>margin level: inf",
          "balance: 8947.368524 USD<br>equity: 8947.368524<br>margin: 0.000000<br>free margin: 8947.368524<br>margin level: inf",
          "balance: 8947.368524 USD<br>equity: 8947.368524<br>margin: 0.000000<br>free margin: 8947.368524<br>margin level: inf",
          "balance: 8947.368524 USD<br>equity: 8947.368524<br>margin: 0.000000<br>free margin: 8947.368524<br>margin level: inf",
          "balance: 8947.368524 USD<br>equity: 8239.639877<br>margin: 1433.457415<br>free margin: 6806.182462<br>margin level: 5.748088",
          "balance: 8239.639877 USD<br>equity: 8239.639877<br>margin: 0.000000<br>free margin: 8239.639877<br>margin level: inf",
          "balance: 8239.639877 USD<br>equity: 8239.639877<br>margin: 0.000000<br>free margin: 8239.639877<br>margin level: inf",
          "balance: 8239.639877 USD<br>equity: 8239.639877<br>margin: 0.000000<br>free margin: 8239.639877<br>margin level: inf",
          "balance: 8239.639877 USD<br>equity: 8239.639877<br>margin: 0.000000<br>free margin: 8239.639877<br>margin level: inf",
          "balance: 8239.639877 USD<br>equity: 8239.639877<br>margin: 0.000000<br>free margin: 8239.639877<br>margin level: inf",
          "balance: 8239.639877 USD<br>equity: 8218.521895<br>margin: 3262.765000<br>free margin: 4955.756895<br>margin level: 2.518883",
          "balance: 8239.639877 USD<br>equity: 9326.771895<br>margin: 3262.765000<br>free margin: 6064.006895<br>margin level: 2.858548",
          "balance: 8239.639877 USD<br>equity: 10228.771895<br>margin: 3262.765000<br>free margin: 6966.006895<br>margin level: 3.135001",
          "balance: 10228.771895 USD<br>equity: 10228.771895<br>margin: 0.000000<br>free margin: 10228.771895<br>margin level: inf",
          "balance: 10228.771895 USD<br>equity: 8757.721436<br>margin: 4998.547800<br>free margin: 3759.173636<br>margin level: 1.752053",
          "balance: 8757.721436 USD<br>equity: 8757.721436<br>margin: 0.000000<br>free margin: 8757.721436<br>margin level: inf",
          "balance: 8757.721436 USD<br>equity: 10286.953142<br>margin: 2194.211000<br>free margin: 8092.742142<br>margin level: 4.688224",
          "balance: 8757.721436 USD<br>equity: 9189.903142<br>margin: 2194.211000<br>free margin: 6995.692142<br>margin level: 4.188250",
          "balance: 9189.903142 USD<br>equity: 9189.903142<br>margin: 0.000000<br>free margin: 9189.903142<br>margin level: inf",
          "balance: 9189.903142 USD<br>equity: 9189.903142<br>margin: 0.000000<br>free margin: 9189.903142<br>margin level: inf",
          "balance: 9189.903142 USD<br>equity: 9189.903142<br>margin: 0.000000<br>free margin: 9189.903142<br>margin level: inf",
          "balance: 9189.903142 USD<br>equity: 9189.903142<br>margin: 0.000000<br>free margin: 9189.903142<br>margin level: inf",
          "balance: 9189.903142 USD<br>equity: 9189.903142<br>margin: 0.000000<br>free margin: 9189.903142<br>margin level: inf",
          "balance: 9189.903142 USD<br>equity: 9189.903142<br>margin: 0.000000<br>free margin: 9189.903142<br>margin level: inf",
          "balance: 9189.903142 USD<br>equity: 9189.903142<br>margin: 0.000000<br>free margin: 9189.903142<br>margin level: inf",
          "balance: 9189.903142 USD<br>equity: 9189.903142<br>margin: 0.000000<br>free margin: 9189.903142<br>margin level: inf",
          "balance: 9189.903142 USD<br>equity: 9189.903142<br>margin: 0.000000<br>free margin: 9189.903142<br>margin level: inf",
          "balance: 9189.903142 USD<br>equity: 9189.903142<br>margin: 0.000000<br>free margin: 9189.903142<br>margin level: inf",
          "balance: 9189.903142 USD<br>equity: 9189.903142<br>margin: 0.000000<br>free margin: 9189.903142<br>margin level: inf",
          "balance: 9189.903142 USD<br>equity: 9189.903142<br>margin: 0.000000<br>free margin: 9189.903142<br>margin level: inf",
          "balance: 9189.903142 USD<br>equity: 9189.903142<br>margin: 0.000000<br>free margin: 9189.903142<br>margin level: inf",
          "balance: 9189.903142 USD<br>equity: 9189.903142<br>margin: 0.000000<br>free margin: 9189.903142<br>margin level: inf",
          "balance: 9189.903142 USD<br>equity: 9189.903142<br>margin: 0.000000<br>free margin: 9189.903142<br>margin level: inf",
          "balance: 9189.903142 USD<br>equity: 9189.903142<br>margin: 0.000000<br>free margin: 9189.903142<br>margin level: inf",
          "balance: 9189.903142 USD<br>equity: 9189.903142<br>margin: 0.000000<br>free margin: 9189.903142<br>margin level: inf",
          "balance: 9189.903142 USD<br>equity: 9189.903142<br>margin: 0.000000<br>free margin: 9189.903142<br>margin level: inf",
          "balance: 9189.903142 USD<br>equity: 9189.903142<br>margin: 0.000000<br>free margin: 9189.903142<br>margin level: inf",
          "balance: 9189.903142 USD<br>equity: 9189.903142<br>margin: 0.000000<br>free margin: 9189.903142<br>margin level: inf",
          "balance: 9189.903142 USD<br>equity: 9189.903142<br>margin: 0.000000<br>free margin: 9189.903142<br>margin level: inf",
          "balance: 9189.903142 USD<br>equity: 9044.708053<br>margin: 246.321600<br>free margin: 8798.386453<br>margin level: 36.719102",
          "balance: 9044.708053 USD<br>equity: 9044.708053<br>margin: 0.000000<br>free margin: 9044.708053<br>margin level: inf",
          "balance: 9044.708053 USD<br>equity: 9044.708053<br>margin: 0.000000<br>free margin: 9044.708053<br>margin level: inf",
          "balance: 9044.708053 USD<br>equity: 9044.708053<br>margin: 0.000000<br>free margin: 9044.708053<br>margin level: inf",
          "balance: 9044.708053 USD<br>equity: 9044.708053<br>margin: 0.000000<br>free margin: 9044.708053<br>margin level: inf",
          "balance: 9044.708053 USD<br>equity: 9044.708053<br>margin: 0.000000<br>free margin: 9044.708053<br>margin level: inf",
          "balance: 9044.708053 USD<br>equity: 9044.708053<br>margin: 0.000000<br>free margin: 9044.708053<br>margin level: inf",
          "balance: 9044.708053 USD<br>equity: 9044.708053<br>margin: 0.000000<br>free margin: 9044.708053<br>margin level: inf",
          "balance: 9044.708053 USD<br>equity: 9044.708053<br>margin: 0.000000<br>free margin: 9044.708053<br>margin level: inf",
          "balance: 9044.708053 USD<br>equity: 9044.708053<br>margin: 0.000000<br>free margin: 9044.708053<br>margin level: inf",
          "balance: 9044.708053 USD<br>equity: 9044.708053<br>margin: 0.000000<br>free margin: 9044.708053<br>margin level: inf",
          "balance: 9044.708053 USD<br>equity: 8856.802589<br>margin: 7266.028000<br>free margin: 1590.774589<br>margin level: 1.218933",
          "balance: 9044.708053 USD<br>equity: 8111.442589<br>margin: 7266.028000<br>free margin: 845.414589<br>margin level: 1.116352",
          "balance: 9044.708053 USD<br>equity: 6257.282589<br>margin: 7266.028000<br>free margin: -1008.745411<br>margin level: 0.861170",
          "balance: 6257.282589 USD<br>equity: 6257.282589<br>margin: 0.000000<br>free margin: 6257.282589<br>margin level: inf",
          "balance: 6257.282589 USD<br>equity: 6096.474271<br>margin: 3989.798400<br>free margin: 2106.675871<br>margin level: 1.528016"
         ],
         "legendgroup": "g1",
         "line": {
          "color": "rgba(0.12156862745098039, 0.4666666666666667, 0.7058823529411765, 1.0)"
         },
         "mode": "lines+markers",
         "name": "GBPCAD",
         "opacity": 1.0,
         "x": [
          "2021-05-05T00:00:00+00:00",
          "2021-05-06T00:00:00+00:00",
          "2021-05-07T00:00:00+00:00",
          "2021-05-10T00:00:00+00:00",
          "2021-05-11T00:00:00+00:00",
          "2021-05-12T00:00:00+00:00",
          "2021-05-13T00:00:00+00:00",
          "2021-05-14T00:00:00+00:00",
          "2021-05-17T00:00:00+00:00",
          "2021-05-18T00:00:00+00:00",
          "2021-05-19T00:00:00+00:00",
          "2021-05-20T00:00:00+00:00",
          "2021-05-21T00:00:00+00:00",
          "2021-05-24T00:00:00+00:00",
          "2021-05-25T00:00:00+00:00",
          "2021-05-26T00:00:00+00:00",
          "2021-05-27T00:00:00+00:00",
          "2021-05-28T00:00:00+00:00",
          "2021-05-31T00:00:00+00:00",
          "2021-06-01T00:00:00+00:00",
          "2021-06-02T00:00:00+00:00",
          "2021-06-03T00:00:00+00:00",
          "2021-06-04T00:00:00+00:00",
          "2021-06-07T00:00:00+00:00",
          "2021-06-08T00:00:00+00:00",
          "2021-06-09T00:00:00+00:00",
          "2021-06-10T00:00:00+00:00",
          "2021-06-11T00:00:00+00:00",
          "2021-06-14T00:00:00+00:00",
          "2021-06-15T00:00:00+00:00",
          "2021-06-16T00:00:00+00:00",
          "2021-06-17T00:00:00+00:00",
          "2021-06-18T00:00:00+00:00",
          "2021-06-21T00:00:00+00:00",
          "2021-06-22T00:00:00+00:00",
          "2021-06-23T00:00:00+00:00",
          "2021-06-24T00:00:00+00:00",
          "2021-06-25T00:00:00+00:00",
          "2021-06-28T00:00:00+00:00",
          "2021-06-29T00:00:00+00:00",
          "2021-06-30T00:00:00+00:00",
          "2021-07-01T00:00:00+00:00",
          "2021-07-02T00:00:00+00:00",
          "2021-07-05T00:00:00+00:00",
          "2021-07-06T00:00:00+00:00",
          "2021-07-07T00:00:00+00:00",
          "2021-07-08T00:00:00+00:00",
          "2021-07-09T00:00:00+00:00",
          "2021-07-12T00:00:00+00:00",
          "2021-07-13T00:00:00+00:00",
          "2021-07-14T00:00:00+00:00",
          "2021-07-15T00:00:00+00:00",
          "2021-07-16T00:00:00+00:00",
          "2021-07-19T00:00:00+00:00",
          "2021-07-20T00:00:00+00:00",
          "2021-07-21T00:00:00+00:00",
          "2021-07-22T00:00:00+00:00",
          "2021-07-23T00:00:00+00:00",
          "2021-07-26T00:00:00+00:00",
          "2021-07-27T00:00:00+00:00",
          "2021-07-28T00:00:00+00:00",
          "2021-07-29T00:00:00+00:00",
          "2021-07-30T00:00:00+00:00",
          "2021-08-02T00:00:00+00:00",
          "2021-08-03T00:00:00+00:00",
          "2021-08-04T00:00:00+00:00",
          "2021-08-05T00:00:00+00:00",
          "2021-08-06T00:00:00+00:00",
          "2021-08-09T00:00:00+00:00",
          "2021-08-10T00:00:00+00:00",
          "2021-08-11T00:00:00+00:00",
          "2021-08-12T00:00:00+00:00",
          "2021-08-13T00:00:00+00:00",
          "2021-08-16T00:00:00+00:00",
          "2021-08-17T00:00:00+00:00",
          "2021-08-18T00:00:00+00:00",
          "2021-08-19T00:00:00+00:00",
          "2021-08-20T00:00:00+00:00",
          "2021-08-23T00:00:00+00:00",
          "2021-08-24T00:00:00+00:00",
          "2021-08-25T00:00:00+00:00",
          "2021-08-26T00:00:00+00:00",
          "2021-08-27T00:00:00+00:00",
          "2021-08-30T00:00:00+00:00",
          "2021-08-31T00:00:00+00:00",
          "2021-09-01T00:00:00+00:00",
          "2021-09-02T00:00:00+00:00",
          "2021-09-03T00:00:00+00:00"
         ],
         "y": [
          1.70525,
          1.68648,
          1.69619,
          1.7070699999999999,
          1.71108,
          1.70468,
          1.7082899999999999,
          1.70635,
          1.7059199999999999,
          1.71128,
          1.71211,
          1.7107,
          1.70726,
          1.7044000000000001,
          1.7066,
          1.71089,
          1.71345,
          1.71356,
          1.7132399999999999,
          1.70755,
          1.70462,
          1.7068400000000001,
          1.70999,
          1.71255,
          1.7139199999999999,
          1.70927,
          1.71433,
          1.71691,
          1.71341,
          1.71492,
          1.71638,
          1.71949,
          1.72017,
          1.72173,
          1.7158099999999998,
          1.7177,
          1.7149299999999998,
          1.70721,
          1.71244,
          1.71535,
          1.71437,
          1.71059,
          1.70511,
          1.70716,
          1.71879,
          1.72167,
          1.72692,
          1.7307000000000001,
          1.72832,
          1.72767,
          1.73236,
          1.7407,
          1.73684,
          1.74244,
          1.7273800000000001,
          1.72183,
          1.72851,
          1.72728,
          1.73336,
          1.7481900000000001,
          1.7405300000000001,
          1.73688,
          1.73335,
          1.73577,
          1.7441499999999999,
          1.7412999999999998,
          1.7408299999999999,
          1.7419799999999999,
          1.7408000000000001,
          1.7316500000000001,
          1.73282,
          1.72889,
          1.7357200000000002,
          1.7402199999999999,
          1.7349700000000001,
          1.74061,
          1.74874,
          1.7468,
          1.73506,
          1.72784,
          1.73259,
          1.7377,
          1.7353399999999999,
          1.7338900000000002,
          1.73501,
          1.7372800000000002,
          1.73603,
          1.7362600000000001
         ],
         "yaxis": "y",
         "type": "scatter"
        },
        {
         "hovertext": [
          "order id: <br>hold probability: 0.0000<br>hold: False<br>volume: -88.649371<br>modified volume: 35.0000<br>fee: nan<br>margin: nan<br>error: low free margin (order margin=49647.13488780763, order profit=-2101.4885190494247, free margin=10000.0)",
          "order id: <br>hold probability: 0.0000<br>hold: False<br>volume: 14.337197<br>modified volume: 14.3400<br>fee: nan<br>margin: nan<br>error: low free margin (order margin=20342.677314227432, order profit=-787.8408544807429, free margin=7962.618496246406)",
          "order id: <br>hold probability: 0.0000<br>hold: False<br>volume: -18.111078<br>modified volume: 18.1100<br>fee: nan<br>margin: nan<br>error: low free margin (order margin=25632.73569785499, order profit=-1069.5612242687848, free margin=7962.618496246406)",
          "order id: <br>hold probability: 0.0000<br>hold: False<br>volume: 41.154598<br>modified volume: 35.0000<br>fee: nan<br>margin: nan<br>error: low free margin (order margin=49507.25646699986, order profit=-1831.5996222978902, free margin=7962.618496246406)",
          "order id: <br>hold probability: 0.0000<br>hold: False<br>volume: -96.890039<br>modified volume: 35.0000<br>fee: nan<br>margin: nan<br>error: low free margin (order margin=49400.775481582314, order profit=-2221.119814905377, free margin=7962.618496246406)",
          "order id: <br>hold probability: 0.0000<br>hold: False<br>volume: -86.628537<br>modified volume: 35.0000<br>fee: nan<br>margin: nan<br>error: low free margin (order margin=49658.1246118816, order profit=-2425.5082489355536, free margin=7894.357369775957)",
          "order id: <br>hold probability: 0.0000<br>hold: False<br>volume: 72.216616<br>modified volume: 35.0000<br>fee: nan<br>margin: nan<br>error: low free margin (order margin=49584.61806969573, order profit=-2179.0820506746977, free margin=7894.357369775957)",
          "order id: <br>hold probability: 0.0000<br>hold: False<br>volume: -64.112470<br>modified volume: 35.0000<br>fee: nan<br>margin: nan<br>error: low free margin (order margin=49575.602200059635, order profit=-2082.9679186880862, free margin=7894.357369775957)",
          "order id: <br>hold probability: 0.0025<br>hold: False<br>volume: 32.959276<br>modified volume: 32.9600<br>fee: nan<br>margin: nan<br>error: low free margin (order margin=46731.945755302775, order profit=-1847.318280212984, free margin=7894.357369775957)",
          "order id: <br>hold probability: 0.0001<br>hold: False<br>volume: 68.616301<br>modified volume: 35.0000<br>fee: nan<br>margin: nan<br>error: low free margin (order margin=49408.21096447036, order profit=-2021.4289502714519, free margin=6933.108104227871)",
          "order id: <br>hold probability: 0.0000<br>hold: False<br>volume: -48.277462<br>modified volume: 35.0000<br>fee: nan<br>margin: nan<br>error: low free margin (order margin=49617.58236305902, order profit=-2074.310001588025, free margin=6252.7120213993185)",
          "order id: <br>hold probability: 0.0000<br>hold: False<br>volume: -73.732794<br>modified volume: 35.0000<br>fee: nan<br>margin: nan<br>error: low free margin (order margin=49394.48613725474, order profit=-2447.383632259393, free margin=8742.712021399318)",
          "order id: <br>hold probability: 0.0000<br>hold: False<br>volume: 42.531399<br>modified volume: 35.0000<br>fee: nan<br>margin: nan<br>error: low free margin (order margin=48937.159894424716, order profit=-2113.1418524071432, free margin=8947.368523973133)",
          "order id: <br>hold probability: 0.0000<br>hold: False<br>volume: -36.253631<br>modified volume: 35.0000<br>fee: nan<br>margin: nan<br>error: low free margin (order margin=48862.149399783804, order profit=-1928.1077146065757, free margin=8947.368523973133)",
          "order id: 6<br>hold probability: 0.0000<br>hold: False<br>volume: 1.034334<br>modified volume: 1.0300<br>fee: 0.000730<br>margin: 1433.457415<br>error: ",
          "order id: <br>hold probability: 0.0000<br>hold: False<br>volume: -71.665877<br>modified volume: 35.0000<br>fee: nan<br>margin: nan<br>error: low free margin (order margin=48585.07135016466, order profit=-1894.8081402349944, free margin=8239.63987711048)",
          "order id: <br>hold probability: 0.0000<br>hold: False<br>volume: -59.163977<br>modified volume: 35.0000<br>fee: nan<br>margin: nan<br>error: low free margin (order margin=48401.185770750984, order profit=-1821.5053926596124, free margin=8239.63987711048)",
          "order id: <br>hold probability: 0.0000<br>hold: False<br>volume: 7.454418<br>modified volume: 7.4500<br>fee: nan<br>margin: nan<br>error: low free margin (order margin=10247.996059667887, order profit=-470.4083496173217, free margin=8239.63987711048)",
          "order id: <br>hold probability: 0.0000<br>hold: False<br>volume: -39.258859<br>modified volume: 35.0000<br>fee: nan<br>margin: nan<br>error: low free margin (order margin=48415.15885684652, order profit=-2255.0784351883626, free margin=4955.75689454024)",
          "order id: <br>hold probability: 0.0000<br>hold: False<br>volume: -75.408855<br>modified volume: 35.0000<br>fee: nan<br>margin: nan<br>error: low free margin (order margin=48279.37217575232, order profit=-1629.4274639884436, free margin=6966.006894540222)",
          "order id: <br>hold probability: 0.0000<br>hold: False<br>volume: 45.558599<br>modified volume: 35.0000<br>fee: nan<br>margin: nan<br>error: low free margin (order margin=48583.01676157127, order profit=-2123.0273800368786, free margin=8757.721435955922)",
          "order id: <br>hold probability: 0.3056<br>hold: False<br>volume: 70.534950<br>modified volume: 35.0000<br>fee: nan<br>margin: nan<br>error: low free margin (order margin=48323.730140971136, order profit=-1885.5180016655918, free margin=8092.742141771239)",
          "order id: <br>hold probability: 0.0000<br>hold: False<br>volume: -18.132794<br>modified volume: 18.1300<br>fee: nan<br>margin: nan<br>error: low free margin (order margin=25060.06447873075, order profit=-1013.6660033144746, free margin=9189.90314177124)",
          "order id: <br>hold probability: 0.0140<br>hold: False<br>volume: 41.144514<br>modified volume: 35.0000<br>fee: nan<br>margin: nan<br>error: low free margin (order margin=47848.94942489055, order profit=-1905.9328275276337, free margin=9189.90314177124)",
          "order id: <br>hold probability: 0.0000<br>hold: False<br>volume: 38.181654<br>modified volume: 35.0000<br>fee: nan<br>margin: nan<br>error: low free margin (order margin=47980.931528662426, order profit=-2081.4027037684723, free margin=9189.90314177124)",
          "order id: <br>hold probability: 0.0000<br>hold: False<br>volume: 64.621665<br>modified volume: 35.0000<br>fee: nan<br>margin: nan<br>error: low free margin (order margin=48112.117401754025, order profit=-1781.2231073525852, free margin=9189.90314177124)",
          "order id: <br>hold probability: 0.0000<br>hold: False<br>volume: -34.640230<br>modified volume: 34.6400<br>fee: nan<br>margin: nan<br>error: low free margin (order margin=48057.91776777849, order profit=-1973.7091609733752, free margin=9189.90314177124)",
          "order id: <br>hold probability: 0.0000<br>hold: False<br>volume: 66.657012<br>modified volume: 35.0000<br>fee: nan<br>margin: nan<br>error: low free margin (order margin=48640.67165966689, order profit=-1985.751796644768, free margin=9189.90314177124)",
          "order id: <br>hold probability: 0.0000<br>hold: False<br>volume: -42.889244<br>modified volume: 35.0000<br>fee: nan<br>margin: nan<br>error: low free margin (order margin=48588.34397044004, order profit=-1858.5056210620257, free margin=9189.90314177124)",
          "order id: <br>hold probability: 0.0000<br>hold: False<br>volume: 76.741367<br>modified volume: 35.0000<br>fee: nan<br>margin: nan<br>error: low free margin (order margin=48700.617480933084, order profit=-1819.6881288140678, free margin=9189.90314177124)",
          "order id: <br>hold probability: 0.0000<br>hold: False<br>volume: -74.020442<br>modified volume: 35.0000<br>fee: nan<br>margin: nan<br>error: low free margin (order margin=48600.87719298245, order profit=-1966.725716675113, free margin=9189.90314177124)",
          "order id: <br>hold probability: 0.0000<br>hold: False<br>volume: 42.879367<br>modified volume: 35.0000<br>fee: nan<br>margin: nan<br>error: low free margin (order margin=48748.699854383696, order profit=-2123.952050371312, free margin=9189.90314177124)",
          "order id: <br>hold probability: 0.0000<br>hold: False<br>volume: 95.323564<br>modified volume: 35.0000<br>fee: nan<br>margin: nan<br>error: low free margin (order margin=48411.839414659094, order profit=-1910.3944401056701, free margin=9189.90314177124)",
          "order id: <br>hold probability: 0.0000<br>hold: False<br>volume: 20.877315<br>modified volume: 20.8800<br>fee: nan<br>margin: nan<br>error: low free margin (order margin=28830.71231760788, order profit=-1068.7928365503728, free margin=9189.90314177124)",
          "order id: <br>hold probability: 0.0000<br>hold: False<br>volume: 19.798165<br>modified volume: 19.8000<br>fee: nan<br>margin: nan<br>error: low free margin (order margin=27462.82673144693, order profit=-1173.9041509790513, free margin=8798.386452739074)",
          "order id: <br>hold probability: 0.0000<br>hold: False<br>volume: -87.365751<br>modified volume: 35.0000<br>fee: nan<br>margin: nan<br>error: low free margin (order margin=48450.18773068601, order profit=-1997.2202525884222, free margin=9044.708052739074)",
          "order id: <br>hold probability: 0.0000<br>hold: False<br>volume: 94.528720<br>modified volume: 35.0000<br>fee: nan<br>margin: nan<br>error: low free margin (order margin=48046.271063900786, order profit=-1931.645554027649, free margin=9044.708052739074)",
          "order id: <br>hold probability: 0.0000<br>hold: False<br>volume: 96.100963<br>modified volume: 35.0000<br>fee: nan<br>margin: nan<br>error: low free margin (order margin=48167.25710109932, order profit=-1899.3177325738266, free margin=9044.708052739074)",
          "order id: <br>hold probability: 0.0000<br>hold: False<br>volume: -20.749713<br>modified volume: 20.7500<br>fee: nan<br>margin: nan<br>error: low free margin (order margin=28424.231794030937, order profit=-1139.6719570524313, free margin=9044.708052739074)",
          "order id: <br>hold probability: 0.0000<br>hold: False<br>volume: -7.598337<br>modified volume: 7.6000<br>fee: nan<br>margin: nan<br>error: low free margin (order margin=10453.655092537505, order profit=-432.99777144114233, free margin=1590.7745886257135)",
          "order id: <br>hold probability: 0.3977<br>hold: False<br>volume: -84.237757<br>modified volume: 35.0000<br>fee: nan<br>margin: nan<br>error: low free margin (order margin=48137.79736660616, order profit=-1873.225042752824, free margin=845.4145886256165)",
          "order id: <br>hold probability: 0.0000<br>hold: False<br>volume: -13.514809<br>modified volume: 13.5100<br>fee: nan<br>margin: nan<br>error: low free margin (order margin=18685.87693999171, order profit=-722.0950505445231, free margin=6257.282588625643)"
         ],
         "legendgroup": "g1",
         "marker": {
          "color": [
           "gray",
           "gray",
           "gray",
           "gray",
           "gray",
           "gray",
           "gray",
           "gray",
           "gray",
           "gray",
           "gray",
           "gray",
           "gray",
           "gray",
           "green",
           "gray",
           "gray",
           "gray",
           "gray",
           "gray",
           "gray",
           "gray",
           "gray",
           "gray",
           "gray",
           "gray",
           "gray",
           "gray",
           "gray",
           "gray",
           "gray",
           "gray",
           "gray",
           "gray",
           "gray",
           "gray",
           "gray",
           "gray",
           "gray",
           "gray",
           "gray",
           "gray"
          ],
          "size": [
           30.0,
           17.013714285714286,
           19.383428571428574,
           30.0,
           30.0,
           30.0,
           30.0,
           30.0,
           28.717714285714287,
           30.0,
           30.0,
           30.0,
           30.0,
           30.0,
           8.647428571428572,
           30.0,
           30.0,
           12.682857142857143,
           30.0,
           30.0,
           30.0,
           30.0,
           19.396,
           30.0,
           30.0,
           30.0,
           29.773714285714288,
           30.0,
           30.0,
           30.0,
           30.0,
           30.0,
           30.0,
           21.12457142857143,
           20.44571428571429,
           30.0,
           30.0,
           30.0,
           21.042857142857144,
           12.777142857142858,
           30.0,
           16.492
          ],
          "symbol": [
           "triangle-down",
           "triangle-down",
           "triangle-down",
           "triangle-down",
           "triangle-down",
           "triangle-down",
           "triangle-down",
           "triangle-down",
           "triangle-down",
           "triangle-down",
           "triangle-down",
           "triangle-down",
           "triangle-down",
           "triangle-down",
           "triangle-up",
           "triangle-down",
           "triangle-down",
           "triangle-down",
           "triangle-down",
           "triangle-down",
           "triangle-down",
           "triangle-down",
           "triangle-down",
           "triangle-down",
           "triangle-down",
           "triangle-down",
           "triangle-down",
           "triangle-down",
           "triangle-down",
           "triangle-down",
           "triangle-down",
           "triangle-down",
           "triangle-down",
           "triangle-down",
           "triangle-down",
           "triangle-down",
           "triangle-down",
           "triangle-down",
           "triangle-down",
           "triangle-down",
           "triangle-down",
           "triangle-down"
          ]
         },
         "mode": "markers",
         "name": "GBPCAD",
         "showlegend": false,
         "x": [
          "2021-05-18T00:00:00+00:00",
          "2021-05-20T00:00:00+00:00",
          "2021-05-24T00:00:00+00:00",
          "2021-05-25T00:00:00+00:00",
          "2021-05-26T00:00:00+00:00",
          "2021-05-28T00:00:00+00:00",
          "2021-06-02T00:00:00+00:00",
          "2021-06-04T00:00:00+00:00",
          "2021-06-07T00:00:00+00:00",
          "2021-06-09T00:00:00+00:00",
          "2021-06-10T00:00:00+00:00",
          "2021-06-11T00:00:00+00:00",
          "2021-06-16T00:00:00+00:00",
          "2021-06-23T00:00:00+00:00",
          "2021-06-24T00:00:00+00:00",
          "2021-06-25T00:00:00+00:00",
          "2021-06-30T00:00:00+00:00",
          "2021-07-01T00:00:00+00:00",
          "2021-07-05T00:00:00+00:00",
          "2021-07-07T00:00:00+00:00",
          "2021-07-12T00:00:00+00:00",
          "2021-07-13T00:00:00+00:00",
          "2021-07-15T00:00:00+00:00",
          "2021-07-19T00:00:00+00:00",
          "2021-07-21T00:00:00+00:00",
          "2021-07-23T00:00:00+00:00",
          "2021-07-27T00:00:00+00:00",
          "2021-07-28T00:00:00+00:00",
          "2021-08-02T00:00:00+00:00",
          "2021-08-03T00:00:00+00:00",
          "2021-08-04T00:00:00+00:00",
          "2021-08-05T00:00:00+00:00",
          "2021-08-10T00:00:00+00:00",
          "2021-08-12T00:00:00+00:00",
          "2021-08-13T00:00:00+00:00",
          "2021-08-16T00:00:00+00:00",
          "2021-08-24T00:00:00+00:00",
          "2021-08-25T00:00:00+00:00",
          "2021-08-26T00:00:00+00:00",
          "2021-08-30T00:00:00+00:00",
          "2021-08-31T00:00:00+00:00",
          "2021-09-02T00:00:00+00:00"
         ],
         "y": [
          1.71128,
          1.7107,
          1.7044000000000001,
          1.7066,
          1.71089,
          1.71356,
          1.70462,
          1.70999,
          1.71255,
          1.70927,
          1.71433,
          1.71691,
          1.71638,
          1.7177,
          1.7149299999999998,
          1.70721,
          1.71437,
          1.71059,
          1.70716,
          1.72167,
          1.72832,
          1.72767,
          1.7407,
          1.74244,
          1.72183,
          1.72728,
          1.7481900000000001,
          1.7405300000000001,
          1.73577,
          1.7441499999999999,
          1.7412999999999998,
          1.7408299999999999,
          1.7316500000000001,
          1.72889,
          1.7357200000000002,
          1.7402199999999999,
          1.72784,
          1.73259,
          1.7377,
          1.7338900000000002,
          1.73501,
          1.73603
         ],
         "yaxis": "y",
         "type": "scatter"
        },
        {
         "hovertext": [
          "order id: 6<br>order type: Buy<br>close probability: 1.0000<br>margin: 1433.457415<br>profit: -707.728647"
         ],
         "legendgroup": "g1",
         "marker": {
          "color": "black",
          "line": {
           "width": 1.5
          },
          "size": 7,
          "symbol": "line-ns"
         },
         "mode": "markers",
         "name": "GBPCAD",
         "showlegend": false,
         "x": [
          "2021-06-25T00:00:00+00:00"
         ],
         "y": [
          1.70721
         ],
         "yaxis": "y",
         "type": "scatter"
        },
        {
         "hovertext": [
          "balance: 10000.000000 USD<br>equity: 10000.000000<br>margin: 0.000000<br>free margin: 10000.000000<br>margin level: inf",
          "balance: 10000.000000 USD<br>equity: 10000.000000<br>margin: 0.000000<br>free margin: 10000.000000<br>margin level: inf",
          "balance: 10000.000000 USD<br>equity: 10000.000000<br>margin: 0.000000<br>free margin: 10000.000000<br>margin level: inf",
          "balance: 10000.000000 USD<br>equity: 10000.000000<br>margin: 0.000000<br>free margin: 10000.000000<br>margin level: inf",
          "balance: 10000.000000 USD<br>equity: 10000.000000<br>margin: 0.000000<br>free margin: 10000.000000<br>margin level: inf",
          "balance: 10000.000000 USD<br>equity: 10000.000000<br>margin: 0.000000<br>free margin: 10000.000000<br>margin level: inf",
          "balance: 10000.000000 USD<br>equity: 10000.000000<br>margin: 0.000000<br>free margin: 10000.000000<br>margin level: inf",
          "balance: 10000.000000 USD<br>equity: 10000.000000<br>margin: 0.000000<br>free margin: 10000.000000<br>margin level: inf",
          "balance: 10000.000000 USD<br>equity: 10000.000000<br>margin: 0.000000<br>free margin: 10000.000000<br>margin level: inf",
          "balance: 10000.000000 USD<br>equity: 10000.000000<br>margin: 0.000000<br>free margin: 10000.000000<br>margin level: inf",
          "balance: 10000.000000 USD<br>equity: 7962.618496<br>margin: 5010.979000<br>free margin: 2951.639496<br>margin level: 1.589034",
          "balance: 7962.618496 USD<br>equity: 7962.618496<br>margin: 0.000000<br>free margin: 7962.618496<br>margin level: inf",
          "balance: 7962.618496 USD<br>equity: 7962.618496<br>margin: 0.000000<br>free margin: 7962.618496<br>margin level: inf",
          "balance: 7962.618496 USD<br>equity: 7962.618496<br>margin: 0.000000<br>free margin: 7962.618496<br>margin level: inf",
          "balance: 7962.618496 USD<br>equity: 7962.618496<br>margin: 0.000000<br>free margin: 7962.618496<br>margin level: inf",
          "balance: 7962.618496 USD<br>equity: 7962.618496<br>margin: 0.000000<br>free margin: 7962.618496<br>margin level: inf",
          "balance: 7962.618496 USD<br>equity: 7894.357370<br>margin: 2426.247800<br>free margin: 5468.109570<br>margin level: 3.253731",
          "balance: 7894.357370 USD<br>equity: 7894.357370<br>margin: 0.000000<br>free margin: 7894.357370<br>margin level: inf",
          "balance: 7894.357370 USD<br>equity: 7894.357370<br>margin: 0.000000<br>free margin: 7894.357370<br>margin level: inf",
          "balance: 7894.357370 USD<br>equity: 7894.357370<br>margin: 0.000000<br>free margin: 7894.357370<br>margin level: inf",
          "balance: 7894.357370 USD<br>equity: 7894.357370<br>margin: 0.000000<br>free margin: 7894.357370<br>margin level: inf",
          "balance: 7894.357370 USD<br>equity: 7894.357370<br>margin: 0.000000<br>free margin: 7894.357370<br>margin level: inf",
          "balance: 7894.357370 USD<br>equity: 7894.357370<br>margin: 0.000000<br>free margin: 7894.357370<br>margin level: inf",
          "balance: 7894.357370 USD<br>equity: 7894.357370<br>margin: 0.000000<br>free margin: 7894.357370<br>margin level: inf",
          "balance: 7894.357370 USD<br>equity: 9186.383618<br>margin: 5980.000000<br>free margin: 3206.383618<br>margin level: 1.536185",
          "balance: 9186.383618 USD<br>equity: 9423.108104<br>margin: 2490.000000<br>free margin: 6933.108104<br>margin level: 3.784381",
          "balance: 9186.383618 USD<br>equity: 8742.712021<br>margin: 2490.000000<br>free margin: 6252.712021<br>margin level: 3.511129",
          "balance: 8742.712021 USD<br>equity: 8742.712021<br>margin: 0.000000<br>free margin: 8742.712021<br>margin level: inf",
          "balance: 8742.712021 USD<br>equity: 8742.712021<br>margin: 0.000000<br>free margin: 8742.712021<br>margin level: inf",
          "balance: 8742.712021 USD<br>equity: 8947.368524<br>margin: 4860.120000<br>free margin: 4087.248524<br>margin level: 1.840977",
          "balance: 8947.368524 USD<br>equity: 8947.368524<br>margin: 0.000000<br>free margin: 8947.368524<br>margin level: inf",
          "balance: 8947.368524 USD<br>equity: 8947.368524<br>margin: 0.000000<br>free margin: 8947.368524<br>margin level: inf",
          "balance: 8947.368524 USD<br>equity: 8947.368524<br>margin: 0.000000<br>free margin: 8947.368524<br>margin level: inf",
          "balance: 8947.368524 USD<br>equity: 8947.368524<br>margin: 0.000000<br>free margin: 8947.368524<br>margin level: inf",
          "balance: 8947.368524 USD<br>equity: 8947.368524<br>margin: 0.000000<br>free margin: 8947.368524<br>margin level: inf",
          "balance: 8947.368524 USD<br>equity: 8947.368524<br>margin: 0.000000<br>free margin: 8947.368524<br>margin level: inf",
          "balance: 8947.368524 USD<br>equity: 8947.368524<br>margin: 0.000000<br>free margin: 8947.368524<br>margin level: inf",
          "balance: 8947.368524 USD<br>equity: 8239.639877<br>margin: 1433.457415<br>free margin: 6806.182462<br>margin level: 5.748088",
          "balance: 8239.639877 USD<br>equity: 8239.639877<br>margin: 0.000000<br>free margin: 8239.639877<br>margin level: inf",
          "balance: 8239.639877 USD<br>equity: 8239.639877<br>margin: 0.000000<br>free margin: 8239.639877<br>margin level: inf",
          "balance: 8239.639877 USD<br>equity: 8239.639877<br>margin: 0.000000<br>free margin: 8239.639877<br>margin level: inf",
          "balance: 8239.639877 USD<br>equity: 8239.639877<br>margin: 0.000000<br>free margin: 8239.639877<br>margin level: inf",
          "balance: 8239.639877 USD<br>equity: 8239.639877<br>margin: 0.000000<br>free margin: 8239.639877<br>margin level: inf",
          "balance: 8239.639877 USD<br>equity: 8218.521895<br>margin: 3262.765000<br>free margin: 4955.756895<br>margin level: 2.518883",
          "balance: 8239.639877 USD<br>equity: 9326.771895<br>margin: 3262.765000<br>free margin: 6064.006895<br>margin level: 2.858548",
          "balance: 8239.639877 USD<br>equity: 10228.771895<br>margin: 3262.765000<br>free margin: 6966.006895<br>margin level: 3.135001",
          "balance: 10228.771895 USD<br>equity: 10228.771895<br>margin: 0.000000<br>free margin: 10228.771895<br>margin level: inf",
          "balance: 10228.771895 USD<br>equity: 8757.721436<br>margin: 4998.547800<br>free margin: 3759.173636<br>margin level: 1.752053",
          "balance: 8757.721436 USD<br>equity: 8757.721436<br>margin: 0.000000<br>free margin: 8757.721436<br>margin level: inf",
          "balance: 8757.721436 USD<br>equity: 10286.953142<br>margin: 2194.211000<br>free margin: 8092.742142<br>margin level: 4.688224",
          "balance: 8757.721436 USD<br>equity: 9189.903142<br>margin: 2194.211000<br>free margin: 6995.692142<br>margin level: 4.188250",
          "balance: 9189.903142 USD<br>equity: 9189.903142<br>margin: 0.000000<br>free margin: 9189.903142<br>margin level: inf",
          "balance: 9189.903142 USD<br>equity: 9189.903142<br>margin: 0.000000<br>free margin: 9189.903142<br>margin level: inf",
          "balance: 9189.903142 USD<br>equity: 9189.903142<br>margin: 0.000000<br>free margin: 9189.903142<br>margin level: inf",
          "balance: 9189.903142 USD<br>equity: 9189.903142<br>margin: 0.000000<br>free margin: 9189.903142<br>margin level: inf",
          "balance: 9189.903142 USD<br>equity: 9189.903142<br>margin: 0.000000<br>free margin: 9189.903142<br>margin level: inf",
          "balance: 9189.903142 USD<br>equity: 9189.903142<br>margin: 0.000000<br>free margin: 9189.903142<br>margin level: inf",
          "balance: 9189.903142 USD<br>equity: 9189.903142<br>margin: 0.000000<br>free margin: 9189.903142<br>margin level: inf",
          "balance: 9189.903142 USD<br>equity: 9189.903142<br>margin: 0.000000<br>free margin: 9189.903142<br>margin level: inf",
          "balance: 9189.903142 USD<br>equity: 9189.903142<br>margin: 0.000000<br>free margin: 9189.903142<br>margin level: inf",
          "balance: 9189.903142 USD<br>equity: 9189.903142<br>margin: 0.000000<br>free margin: 9189.903142<br>margin level: inf",
          "balance: 9189.903142 USD<br>equity: 9189.903142<br>margin: 0.000000<br>free margin: 9189.903142<br>margin level: inf",
          "balance: 9189.903142 USD<br>equity: 9189.903142<br>margin: 0.000000<br>free margin: 9189.903142<br>margin level: inf",
          "balance: 9189.903142 USD<br>equity: 9189.903142<br>margin: 0.000000<br>free margin: 9189.903142<br>margin level: inf",
          "balance: 9189.903142 USD<br>equity: 9189.903142<br>margin: 0.000000<br>free margin: 9189.903142<br>margin level: inf",
          "balance: 9189.903142 USD<br>equity: 9189.903142<br>margin: 0.000000<br>free margin: 9189.903142<br>margin level: inf",
          "balance: 9189.903142 USD<br>equity: 9189.903142<br>margin: 0.000000<br>free margin: 9189.903142<br>margin level: inf",
          "balance: 9189.903142 USD<br>equity: 9189.903142<br>margin: 0.000000<br>free margin: 9189.903142<br>margin level: inf",
          "balance: 9189.903142 USD<br>equity: 9189.903142<br>margin: 0.000000<br>free margin: 9189.903142<br>margin level: inf",
          "balance: 9189.903142 USD<br>equity: 9189.903142<br>margin: 0.000000<br>free margin: 9189.903142<br>margin level: inf",
          "balance: 9189.903142 USD<br>equity: 9189.903142<br>margin: 0.000000<br>free margin: 9189.903142<br>margin level: inf",
          "balance: 9189.903142 USD<br>equity: 9189.903142<br>margin: 0.000000<br>free margin: 9189.903142<br>margin level: inf",
          "balance: 9189.903142 USD<br>equity: 9044.708053<br>margin: 246.321600<br>free margin: 8798.386453<br>margin level: 36.719102",
          "balance: 9044.708053 USD<br>equity: 9044.708053<br>margin: 0.000000<br>free margin: 9044.708053<br>margin level: inf",
          "balance: 9044.708053 USD<br>equity: 9044.708053<br>margin: 0.000000<br>free margin: 9044.708053<br>margin level: inf",
          "balance: 9044.708053 USD<br>equity: 9044.708053<br>margin: 0.000000<br>free margin: 9044.708053<br>margin level: inf",
          "balance: 9044.708053 USD<br>equity: 9044.708053<br>margin: 0.000000<br>free margin: 9044.708053<br>margin level: inf",
          "balance: 9044.708053 USD<br>equity: 9044.708053<br>margin: 0.000000<br>free margin: 9044.708053<br>margin level: inf",
          "balance: 9044.708053 USD<br>equity: 9044.708053<br>margin: 0.000000<br>free margin: 9044.708053<br>margin level: inf",
          "balance: 9044.708053 USD<br>equity: 9044.708053<br>margin: 0.000000<br>free margin: 9044.708053<br>margin level: inf",
          "balance: 9044.708053 USD<br>equity: 9044.708053<br>margin: 0.000000<br>free margin: 9044.708053<br>margin level: inf",
          "balance: 9044.708053 USD<br>equity: 9044.708053<br>margin: 0.000000<br>free margin: 9044.708053<br>margin level: inf",
          "balance: 9044.708053 USD<br>equity: 9044.708053<br>margin: 0.000000<br>free margin: 9044.708053<br>margin level: inf",
          "balance: 9044.708053 USD<br>equity: 8856.802589<br>margin: 7266.028000<br>free margin: 1590.774589<br>margin level: 1.218933",
          "balance: 9044.708053 USD<br>equity: 8111.442589<br>margin: 7266.028000<br>free margin: 845.414589<br>margin level: 1.116352",
          "balance: 9044.708053 USD<br>equity: 6257.282589<br>margin: 7266.028000<br>free margin: -1008.745411<br>margin level: 0.861170",
          "balance: 6257.282589 USD<br>equity: 6257.282589<br>margin: 0.000000<br>free margin: 6257.282589<br>margin level: inf",
          "balance: 6257.282589 USD<br>equity: 6096.474271<br>margin: 3989.798400<br>free margin: 2106.675871<br>margin level: 1.528016"
         ],
         "legendgroup": "g2",
         "line": {
          "color": "rgba(0.5643983083429451, 0.36993464052287583, 0.5132641291810843, 1.0)"
         },
         "mode": "lines+markers",
         "name": "EURUSD",
         "opacity": 1.0,
         "x": [
          "2021-05-05T00:00:00+00:00",
          "2021-05-06T00:00:00+00:00",
          "2021-05-07T00:00:00+00:00",
          "2021-05-10T00:00:00+00:00",
          "2021-05-11T00:00:00+00:00",
          "2021-05-12T00:00:00+00:00",
          "2021-05-13T00:00:00+00:00",
          "2021-05-14T00:00:00+00:00",
          "2021-05-17T00:00:00+00:00",
          "2021-05-18T00:00:00+00:00",
          "2021-05-19T00:00:00+00:00",
          "2021-05-20T00:00:00+00:00",
          "2021-05-21T00:00:00+00:00",
          "2021-05-24T00:00:00+00:00",
          "2021-05-25T00:00:00+00:00",
          "2021-05-26T00:00:00+00:00",
          "2021-05-27T00:00:00+00:00",
          "2021-05-28T00:00:00+00:00",
          "2021-05-31T00:00:00+00:00",
          "2021-06-01T00:00:00+00:00",
          "2021-06-02T00:00:00+00:00",
          "2021-06-03T00:00:00+00:00",
          "2021-06-04T00:00:00+00:00",
          "2021-06-07T00:00:00+00:00",
          "2021-06-08T00:00:00+00:00",
          "2021-06-09T00:00:00+00:00",
          "2021-06-10T00:00:00+00:00",
          "2021-06-11T00:00:00+00:00",
          "2021-06-14T00:00:00+00:00",
          "2021-06-15T00:00:00+00:00",
          "2021-06-16T00:00:00+00:00",
          "2021-06-17T00:00:00+00:00",
          "2021-06-18T00:00:00+00:00",
          "2021-06-21T00:00:00+00:00",
          "2021-06-22T00:00:00+00:00",
          "2021-06-23T00:00:00+00:00",
          "2021-06-24T00:00:00+00:00",
          "2021-06-25T00:00:00+00:00",
          "2021-06-28T00:00:00+00:00",
          "2021-06-29T00:00:00+00:00",
          "2021-06-30T00:00:00+00:00",
          "2021-07-01T00:00:00+00:00",
          "2021-07-02T00:00:00+00:00",
          "2021-07-05T00:00:00+00:00",
          "2021-07-06T00:00:00+00:00",
          "2021-07-07T00:00:00+00:00",
          "2021-07-08T00:00:00+00:00",
          "2021-07-09T00:00:00+00:00",
          "2021-07-12T00:00:00+00:00",
          "2021-07-13T00:00:00+00:00",
          "2021-07-14T00:00:00+00:00",
          "2021-07-15T00:00:00+00:00",
          "2021-07-16T00:00:00+00:00",
          "2021-07-19T00:00:00+00:00",
          "2021-07-20T00:00:00+00:00",
          "2021-07-21T00:00:00+00:00",
          "2021-07-22T00:00:00+00:00",
          "2021-07-23T00:00:00+00:00",
          "2021-07-26T00:00:00+00:00",
          "2021-07-27T00:00:00+00:00",
          "2021-07-28T00:00:00+00:00",
          "2021-07-29T00:00:00+00:00",
          "2021-07-30T00:00:00+00:00",
          "2021-08-02T00:00:00+00:00",
          "2021-08-03T00:00:00+00:00",
          "2021-08-04T00:00:00+00:00",
          "2021-08-05T00:00:00+00:00",
          "2021-08-06T00:00:00+00:00",
          "2021-08-09T00:00:00+00:00",
          "2021-08-10T00:00:00+00:00",
          "2021-08-11T00:00:00+00:00",
          "2021-08-12T00:00:00+00:00",
          "2021-08-13T00:00:00+00:00",
          "2021-08-16T00:00:00+00:00",
          "2021-08-17T00:00:00+00:00",
          "2021-08-18T00:00:00+00:00",
          "2021-08-19T00:00:00+00:00",
          "2021-08-20T00:00:00+00:00",
          "2021-08-23T00:00:00+00:00",
          "2021-08-24T00:00:00+00:00",
          "2021-08-25T00:00:00+00:00",
          "2021-08-26T00:00:00+00:00",
          "2021-08-27T00:00:00+00:00",
          "2021-08-30T00:00:00+00:00",
          "2021-08-31T00:00:00+00:00",
          "2021-09-01T00:00:00+00:00",
          "2021-09-02T00:00:00+00:00",
          "2021-09-03T00:00:00+00:00"
         ],
         "y": [
          1.20036,
          1.20646,
          1.21618,
          1.21282,
          1.2147000000000001,
          1.20705,
          1.20791,
          1.21441,
          1.21511,
          1.2221899999999999,
          1.21744,
          1.22269,
          1.21806,
          1.2215,
          1.22497,
          1.21922,
          1.21934,
          1.21896,
          1.2225,
          1.22126,
          1.221,
          1.21265,
          1.21662,
          1.21893,
          1.21726,
          1.21787,
          1.21751,
          1.21063,
          1.212,
          1.21264,
          1.19943,
          1.19069,
          1.18597,
          1.19185,
          1.19413,
          1.19258,
          1.19315,
          1.1937,
          1.19242,
          1.1896,
          1.1856,
          1.18497,
          1.18646,
          1.18634,
          1.18231,
          1.17903,
          1.18449,
          1.18774,
          1.18606,
          1.17765,
          1.18358,
          1.18118,
          1.18055,
          1.17987,
          1.17805,
          1.17946,
          1.17707,
          1.17689,
          1.18029,
          1.18165,
          1.18441,
          1.18865,
          1.1873,
          1.18688,
          1.18637,
          1.18367,
          1.18327,
          1.17611,
          1.17362,
          1.17203,
          1.17388,
          1.17296,
          1.17962,
          1.17768,
          1.17081,
          1.17108,
          1.16756,
          1.16996,
          1.1745700000000001,
          1.17555,
          1.17716,
          1.17515,
          1.1795499999999999,
          1.17962,
          1.18083,
          1.18384,
          1.18744,
          1.18772
         ],
         "yaxis": "y2",
         "type": "scatter"
        },
        {
         "hovertext": [
          "order id: 1<br>hold probability: 0.0000<br>hold: False<br>volume: 4.100518<br>modified volume: 4.1000<br>fee: 0.000219<br>margin: 5010.979000<br>error: ",
          "order id: <br>hold probability: 0.0000<br>hold: False<br>volume: 35.993521<br>modified volume: 35.9900<br>fee: nan<br>margin: nan<br>error: low free margin (order margin=43815.66560000001, order profit=-873.1669239955594, free margin=7962.618496246406)",
          "order id: <br>hold probability: 0.0000<br>hold: False<br>volume: -16.433795<br>modified volume: 16.4300<br>fee: nan<br>margin: nan<br>error: low free margin (order margin=20126.2571, order profit=-317.70094478329133, free margin=7962.618496246406)",
          "order id: 2<br>hold probability: 0.0000<br>hold: False<br>volume: -1.986553<br>modified volume: 1.9900<br>fee: 0.000223<br>margin: 2426.247800<br>error: ",
          "order id: <br>hold probability: 0.0000<br>hold: False<br>volume: 84.663274<br>modified volume: 84.6600<br>fee: nan<br>margin: nan<br>error: low free margin (order margin=103197.15360000002, order profit=-1685.8811154837167, free margin=7894.357369775957)",
          "order id: <br>hold probability: 0.0000<br>hold: False<br>volume: -19.700762<br>modified volume: 19.7000<br>fee: nan<br>margin: nan<br>error: low free margin (order margin=24058.822, order profit=-399.9929437953734, free margin=7894.357369775957)",
          "order id: <br>hold probability: 0.0000<br>hold: False<br>volume: -51.673231<br>modified volume: 51.6700<br>fee: nan<br>margin: nan<br>error: low free margin (order margin=62862.7554, order profit=-1046.8672826854809, free margin=7894.357369775957)",
          "order id: <br>hold probability: 0.0000<br>hold: False<br>volume: 36.946882<br>modified volume: 36.9500<br>fee: nan<br>margin: nan<br>error: low free margin (order margin=45039.463500000005, order profit=-740.0890908937645, free margin=7894.357369775957)",
          "order id: <br>hold probability: 0.0000<br>hold: False<br>volume: 50.143312<br>modified volume: 50.1400<br>fee: nan<br>margin: nan<br>error: low free margin (order margin=61033.416399999995, order profit=-872.9210796160663, free margin=3206.383618396718)",
          "order id: <br>hold probability: 0.0000<br>hold: False<br>volume: 7.014819<br>modified volume: 7.0100<br>fee: nan<br>margin: nan<br>error: low free margin (order margin=8537.2687, order profit=-138.41062040439832, free margin=6933.108104227871)",
          "order id: <br>hold probability: 0.0000<br>hold: False<br>volume: 63.660085<br>modified volume: 63.6600<br>fee: nan<br>margin: nan<br>error: low free margin (order margin=77068.70580000001, order profit=-1298.2587869932013, free margin=8742.712021399318)",
          "order id: 5<br>hold probability: 0.0000<br>hold: False<br>volume: 4.014272<br>modified volume: 4.0100<br>fee: 0.000130<br>margin: 4860.120000<br>error: ",
          "order id: <br>hold probability: 0.1273<br>hold: False<br>volume: 87.593781<br>modified volume: 87.5900<br>fee: nan<br>margin: nan<br>error: low free margin (order margin=103879.11230000001, order profit=-1850.8949396893674, free margin=8947.368523973133)",
          "order id: <br>hold probability: 0.0000<br>hold: False<br>volume: 30.850245<br>modified volume: 30.8500<br>fee: nan<br>margin: nan<br>error: low free margin (order margin=36768.5725, order profit=-486.95156512532, free margin=8947.368523973133)",
          "order id: <br>hold probability: 0.0000<br>hold: False<br>volume: 31.957633<br>modified volume: 31.9600<br>fee: nan<br>margin: nan<br>error: low free margin (order margin=38164.394799999995, order profit=-512.7595806870963, free margin=8947.368523973133)",
          "order id: <br>hold probability: 0.0000<br>hold: False<br>volume: -56.880629<br>modified volume: 56.8800<br>fee: nan<br>margin: nan<br>error: low free margin (order margin=67897.656, order profit=-1246.0437688084228, free margin=8239.63987711048)",
          "order id: <br>hold probability: 0.0000<br>hold: False<br>volume: -45.881728<br>modified volume: 45.8800<br>fee: nan<br>margin: nan<br>error: low free margin (order margin=54708.2296, order profit=-933.027919886708, free margin=8239.63987711048)",
          "order id: <br>hold probability: 0.0000<br>hold: False<br>volume: -40.134265<br>modified volume: 40.1300<br>fee: nan<br>margin: nan<br>error: low free margin (order margin=47578.128000000004, order profit=-1003.5272411875746, free margin=8239.63987711048)",
          "order id: <br>hold probability: 0.0000<br>hold: False<br>volume: -40.344866<br>modified volume: 40.3400<br>fee: nan<br>margin: nan<br>error: low free margin (order margin=47801.68980000001, order profit=-674.1719057248519, free margin=8239.63987711048)",
          "order id: 7<br>hold probability: 0.0000<br>hold: False<br>volume: -2.750716<br>modified volume: 2.7500<br>fee: 0.000197<br>margin: 3262.765000<br>error: ",
          "order id: <br>hold probability: 0.0000<br>hold: False<br>volume: -65.420820<br>modified volume: 65.4200<br>fee: nan<br>margin: nan<br>error: low free margin (order margin=77346.7202, order profit=-1546.7150942897526, free margin=6064.0068945402345)",
          "order id: <br>hold probability: 0.0000<br>hold: False<br>volume: -73.692529<br>modified volume: 73.6900<br>fee: nan<br>margin: nan<br>error: low free margin (order margin=86882.7207, order profit=-1331.948124992926, free margin=10228.771894540221)",
          "order id: 8<br>hold probability: 0.0000<br>hold: False<br>volume: -4.222355<br>modified volume: 4.2200<br>fee: 0.000236<br>margin: 4998.547800<br>error: ",
          "order id: <br>hold probability: 0.0000<br>hold: False<br>volume: 73.401818<br>modified volume: 73.4000<br>fee: nan<br>margin: nan<br>error: low free margin (order margin=87180.11600000001, order profit=-1479.9967656975093, free margin=8757.721435955922)",
          "order id: 9<br>hold probability: 0.0000<br>hold: False<br>volume: -1.846379<br>modified volume: 1.8500<br>fee: 0.000144<br>margin: 2194.211000<br>error: ",
          "order id: <br>hold probability: 0.0000<br>hold: False<br>volume: -97.442651<br>modified volume: 97.4400<br>fee: nan<br>margin: nan<br>error: low free margin (order margin=114750.21600000001, order profit=-1828.501908261111, free margin=8092.742141771239)",
          "order id: <br>hold probability: 0.0000<br>hold: False<br>volume: -13.150982<br>modified volume: 13.1500<br>fee: nan<br>margin: nan<br>error: low free margin (order margin=15515.290500000001, order profit=-241.87742364234768, free margin=9189.90314177124)",
          "order id: <br>hold probability: 0.0000<br>hold: False<br>volume: -86.071664<br>modified volume: 86.0700<br>fee: nan<br>margin: nan<br>error: low free margin (order margin=101516.12219999998, order profit=-792.1345897028467, free margin=9189.90314177124)",
          "order id: <br>hold probability: 0.0000<br>hold: False<br>volume: -19.321800<br>modified volume: 19.3200<br>fee: nan<br>margin: nan<br>error: low free margin (order margin=22740.992400000003, order profit=-368.6307176232195, free margin=9189.90314177124)",
          "order id: <br>hold probability: 0.0000<br>hold: False<br>volume: -43.302046<br>modified volume: 43.3000<br>fee: nan<br>margin: nan<br>error: low free margin (order margin=51106.557, order profit=-880.1230243140242, free margin=9189.90314177124)",
          "order id: <br>hold probability: 0.0000<br>hold: False<br>volume: 76.239325<br>modified volume: 76.2400<br>fee: nan<br>margin: nan<br>error: low free margin (order margin=90088.996, order profit=-1549.3476003993428, free margin=9189.90314177124)",
          "order id: <br>hold probability: 0.0000<br>hold: False<br>volume: -93.306684<br>modified volume: 93.3100<br>fee: nan<br>margin: nan<br>error: low free margin (order margin=110912.9315, order profit=-1577.8613844079293, free margin=9189.90314177124)",
          "order id: <br>hold probability: 0.0000<br>hold: False<br>volume: -15.782012<br>modified volume: 15.7800<br>fee: nan<br>margin: nan<br>error: low free margin (order margin=18728.966399999998, order profit=-329.2424328107112, free margin=9189.90314177124)",
          "order id: <br>hold probability: 0.0000<br>hold: False<br>volume: 72.379376<br>modified volume: 72.3800<br>fee: nan<br>margin: nan<br>error: low free margin (order margin=85674.03460000001, order profit=-1417.9492422339206, free margin=9189.90314177124)",
          "order id: <br>hold probability: 0.0012<br>hold: False<br>volume: -20.873326<br>modified volume: 20.8700<br>fee: nan<br>margin: nan<br>error: low free margin (order margin=24694.844900000004, order profit=-389.0657274324453, free margin=9189.90314177124)",
          "order id: <br>hold probability: 0.0118<br>hold: False<br>volume: -84.471425<br>modified volume: 84.4700<br>fee: nan<br>margin: nan<br>error: low free margin (order margin=99346.0117, order profit=-1915.3584147055217, free margin=9189.90314177124)",
          "order id: <br>hold probability: 0.0000<br>hold: False<br>volume: -90.634475<br>modified volume: 90.6300<br>fee: nan<br>margin: nan<br>error: low free margin (order margin=106365.1806, order profit=-2418.4431193106107, free margin=9189.90314177124)",
          "order id: <br>hold probability: 0.0000<br>hold: False<br>volume: 56.032026<br>modified volume: 56.0300<br>fee: nan<br>margin: nan<br>error: low free margin (order margin=65668.8409, order profit=-1024.1773914685457, free margin=9189.90314177124)",
          "order id: <br>hold probability: 0.0000<br>hold: False<br>volume: -39.265314<br>modified volume: 39.2700<br>fee: nan<br>margin: nan<br>error: low free margin (order margin=46098.26760000001, order profit=-839.7647257809373, free margin=9189.90314177124)",
          "order id: 10<br>hold probability: 0.0000<br>hold: False<br>volume: -0.212809<br>modified volume: 0.2100<br>fee: 0.000254<br>margin: 246.321600<br>error: ",
          "order id: <br>hold probability: 0.0000<br>hold: False<br>volume: -56.720475<br>modified volume: 56.7200<br>fee: nan<br>margin: nan<br>error: low free margin (order margin=66908.04639999999, order profit=-1176.5565347538359, free margin=9044.708052739074)",
          "order id: <br>hold probability: 0.0000<br>hold: False<br>volume: 38.483820<br>modified volume: 38.4800<br>fee: nan<br>margin: nan<br>error: low free margin (order margin=45235.16400000001, order profit=-796.5268733511842, free margin=9044.708052739074)",
          "order id: <br>hold probability: 0.0000<br>hold: False<br>volume: 44.483326<br>modified volume: 44.4800<br>fee: nan<br>margin: nan<br>error: low free margin (order margin=52360.076799999995, order profit=-1015.1229815874391, free margin=9044.708052739074)",
          "order id: <br>hold probability: 0.0003<br>hold: False<br>volume: -64.194468<br>modified volume: 64.1900<br>fee: nan<br>margin: nan<br>error: low free margin (order margin=75432.87849999999, order profit=-1147.608389344158, free margin=9044.708052739074)",
          "order id: 11<br>hold probability: 0.0000<br>hold: False<br>volume: -6.162373<br>modified volume: 6.1600<br>fee: 0.000235<br>margin: 7266.028000<br>error: ",
          "order id: <br>hold probability: 0.0000<br>hold: False<br>volume: 55.312267<br>modified volume: 55.3100<br>fee: nan<br>margin: nan<br>error: low free margin (order margin=65311.7073, order profit=-993.2863909345741, free margin=845.4145886256165)",
          "order id: 12<br>hold probability: 0.0000<br>hold: False<br>volume: -3.357521<br>modified volume: 3.3600<br>fee: 0.000199<br>margin: 3989.798400<br>error: "
         ],
         "legendgroup": "g2",
         "marker": {
          "color": [
           "green",
           "gray",
           "gray",
           "red",
           "gray",
           "gray",
           "gray",
           "gray",
           "gray",
           "gray",
           "gray",
           "green",
           "gray",
           "gray",
           "gray",
           "gray",
           "gray",
           "gray",
           "gray",
           "red",
           "gray",
           "gray",
           "red",
           "gray",
           "red",
           "gray",
           "gray",
           "gray",
           "gray",
           "gray",
           "gray",
           "gray",
           "gray",
           "gray",
           "gray",
           "gray",
           "gray",
           "gray",
           "gray",
           "red",
           "gray",
           "gray",
           "gray",
           "gray",
           "red",
           "gray",
           "red"
          ],
          "size": [
           8.913325232887809,
           16.01721344673957,
           11.65998379910895,
           8.443296881328473,
           26.85905224787363,
           12.38841636289996,
           19.510125556905628,
           16.23106520858647,
           19.16929931146213,
           9.56156338598623,
           22.18104495747266,
           8.893276630214661,
           27.51174564601053,
           14.872215471850952,
           15.119481571486432,
           20.670716889428917,
           18.220332118266505,
           16.939449169704332,
           16.986229242608346,
           8.612596192790603,
           22.573106520858644,
           24.415350344268933,
           8.940056703118671,
           24.350749291211017,
           8.412110166059133,
           29.705953827460508,
           10.929323612798704,
           27.17314702308627,
           12.303766707168894,
           17.645605508302957,
           24.983394086674764,
           28.785945727014983,
           11.515188335358445,
           24.12353179424868,
           12.64904819765087,
           26.8167274200081,
           28.18894289185905,
           20.48136897529364,
           16.747873633049817,
           8.04678007290401,
           20.635074929121103,
           16.571891454029974,
           17.908464965573106,
           22.299108950992302,
           9.372215471850952,
           20.320980153908465,
           8.748481166464156
          ],
          "symbol": [
           "triangle-up",
           "triangle-down",
           "triangle-down",
           "triangle-down",
           "triangle-down",
           "triangle-down",
           "triangle-down",
           "triangle-down",
           "triangle-down",
           "triangle-down",
           "triangle-down",
           "triangle-up",
           "triangle-down",
           "triangle-down",
           "triangle-down",
           "triangle-down",
           "triangle-down",
           "triangle-down",
           "triangle-down",
           "triangle-down",
           "triangle-down",
           "triangle-down",
           "triangle-down",
           "triangle-down",
           "triangle-down",
           "triangle-down",
           "triangle-down",
           "triangle-down",
           "triangle-down",
           "triangle-down",
           "triangle-down",
           "triangle-down",
           "triangle-down",
           "triangle-down",
           "triangle-down",
           "triangle-down",
           "triangle-down",
           "triangle-down",
           "triangle-down",
           "triangle-down",
           "triangle-down",
           "triangle-down",
           "triangle-down",
           "triangle-down",
           "triangle-down",
           "triangle-down",
           "triangle-down"
          ]
         },
         "mode": "markers",
         "name": "EURUSD",
         "showlegend": false,
         "x": [
          "2021-05-18T00:00:00+00:00",
          "2021-05-19T00:00:00+00:00",
          "2021-05-25T00:00:00+00:00",
          "2021-05-26T00:00:00+00:00",
          "2021-05-28T00:00:00+00:00",
          "2021-06-01T00:00:00+00:00",
          "2021-06-04T00:00:00+00:00",
          "2021-06-07T00:00:00+00:00",
          "2021-06-08T00:00:00+00:00",
          "2021-06-09T00:00:00+00:00",
          "2021-06-11T00:00:00+00:00",
          "2021-06-14T00:00:00+00:00",
          "2021-06-18T00:00:00+00:00",
          "2021-06-21T00:00:00+00:00",
          "2021-06-22T00:00:00+00:00",
          "2021-06-25T00:00:00+00:00",
          "2021-06-28T00:00:00+00:00",
          "2021-06-30T00:00:00+00:00",
          "2021-07-01T00:00:00+00:00",
          "2021-07-02T00:00:00+00:00",
          "2021-07-06T00:00:00+00:00",
          "2021-07-07T00:00:00+00:00",
          "2021-07-08T00:00:00+00:00",
          "2021-07-09T00:00:00+00:00",
          "2021-07-12T00:00:00+00:00",
          "2021-07-13T00:00:00+00:00",
          "2021-07-19T00:00:00+00:00",
          "2021-07-21T00:00:00+00:00",
          "2021-07-22T00:00:00+00:00",
          "2021-07-26T00:00:00+00:00",
          "2021-07-27T00:00:00+00:00",
          "2021-07-29T00:00:00+00:00",
          "2021-08-02T00:00:00+00:00",
          "2021-08-04T00:00:00+00:00",
          "2021-08-05T00:00:00+00:00",
          "2021-08-06T00:00:00+00:00",
          "2021-08-09T00:00:00+00:00",
          "2021-08-10T00:00:00+00:00",
          "2021-08-11T00:00:00+00:00",
          "2021-08-12T00:00:00+00:00",
          "2021-08-13T00:00:00+00:00",
          "2021-08-24T00:00:00+00:00",
          "2021-08-25T00:00:00+00:00",
          "2021-08-26T00:00:00+00:00",
          "2021-08-27T00:00:00+00:00",
          "2021-08-31T00:00:00+00:00",
          "2021-09-02T00:00:00+00:00"
         ],
         "y": [
          1.2221899999999999,
          1.21744,
          1.22497,
          1.21922,
          1.21896,
          1.22126,
          1.21662,
          1.21893,
          1.21726,
          1.21787,
          1.21063,
          1.212,
          1.18597,
          1.19185,
          1.19413,
          1.1937,
          1.19242,
          1.1856,
          1.18497,
          1.18646,
          1.18231,
          1.17903,
          1.18449,
          1.18774,
          1.18606,
          1.17765,
          1.17987,
          1.17946,
          1.17707,
          1.18029,
          1.18165,
          1.18865,
          1.18688,
          1.18367,
          1.18327,
          1.17611,
          1.17362,
          1.17203,
          1.17388,
          1.17296,
          1.17962,
          1.17555,
          1.17716,
          1.17515,
          1.1795499999999999,
          1.18083,
          1.18744
         ],
         "yaxis": "y2",
         "type": "scatter"
        },
        {
         "hovertext": [
          "order id: 1<br>order type: Buy<br>close probability: 1.0000<br>margin: 5010.979000<br>profit: -2037.381504",
          "order id: 2<br>order type: Sell<br>close probability: 1.0000<br>margin: 2426.247800<br>profit: -68.261126",
          "order id: 5<br>order type: Buy<br>close probability: 1.0000<br>margin: 4860.120000<br>profit: 204.656503",
          "order id: 7<br>order type: Sell<br>close probability: 1.0000<br>margin: 3262.765000<br>profit: 1989.132017",
          "order id: 8<br>order type: Sell<br>close probability: 1.0000<br>margin: 4998.547800<br>profit: -1471.050459",
          "order id: 9<br>order type: Sell<br>close probability: 0.9998<br>margin: 2194.211000<br>profit: 432.181706",
          "order id: 10<br>order type: Sell<br>close probability: 1.0000<br>margin: 246.321600<br>profit: -145.195089",
          "order id: 11<br>order type: Sell<br>close probability: 1.0000<br>margin: 7266.028000<br>profit: -2787.425464"
         ],
         "legendgroup": "g2",
         "marker": {
          "color": "black",
          "line": {
           "width": 1.5
          },
          "size": 7,
          "symbol": "line-ns"
         },
         "mode": "markers",
         "name": "EURUSD",
         "showlegend": false,
         "x": [
          "2021-05-19T00:00:00+00:00",
          "2021-05-27T00:00:00+00:00",
          "2021-06-15T00:00:00+00:00",
          "2021-07-07T00:00:00+00:00",
          "2021-07-09T00:00:00+00:00",
          "2021-07-14T00:00:00+00:00",
          "2021-08-13T00:00:00+00:00",
          "2021-09-01T00:00:00+00:00"
         ],
         "y": [
          1.21744,
          1.21934,
          1.21264,
          1.17903,
          1.18774,
          1.18358,
          1.17962,
          1.18384
         ],
         "yaxis": "y2",
         "type": "scatter"
        },
        {
         "hovertext": [
          "balance: 10000.000000 USD<br>equity: 10000.000000<br>margin: 0.000000<br>free margin: 10000.000000<br>margin level: inf",
          "balance: 10000.000000 USD<br>equity: 10000.000000<br>margin: 0.000000<br>free margin: 10000.000000<br>margin level: inf",
          "balance: 10000.000000 USD<br>equity: 10000.000000<br>margin: 0.000000<br>free margin: 10000.000000<br>margin level: inf",
          "balance: 10000.000000 USD<br>equity: 10000.000000<br>margin: 0.000000<br>free margin: 10000.000000<br>margin level: inf",
          "balance: 10000.000000 USD<br>equity: 10000.000000<br>margin: 0.000000<br>free margin: 10000.000000<br>margin level: inf",
          "balance: 10000.000000 USD<br>equity: 10000.000000<br>margin: 0.000000<br>free margin: 10000.000000<br>margin level: inf",
          "balance: 10000.000000 USD<br>equity: 10000.000000<br>margin: 0.000000<br>free margin: 10000.000000<br>margin level: inf",
          "balance: 10000.000000 USD<br>equity: 10000.000000<br>margin: 0.000000<br>free margin: 10000.000000<br>margin level: inf",
          "balance: 10000.000000 USD<br>equity: 10000.000000<br>margin: 0.000000<br>free margin: 10000.000000<br>margin level: inf",
          "balance: 10000.000000 USD<br>equity: 10000.000000<br>margin: 0.000000<br>free margin: 10000.000000<br>margin level: inf",
          "balance: 10000.000000 USD<br>equity: 7962.618496<br>margin: 5010.979000<br>free margin: 2951.639496<br>margin level: 1.589034",
          "balance: 7962.618496 USD<br>equity: 7962.618496<br>margin: 0.000000<br>free margin: 7962.618496<br>margin level: inf",
          "balance: 7962.618496 USD<br>equity: 7962.618496<br>margin: 0.000000<br>free margin: 7962.618496<br>margin level: inf",
          "balance: 7962.618496 USD<br>equity: 7962.618496<br>margin: 0.000000<br>free margin: 7962.618496<br>margin level: inf",
          "balance: 7962.618496 USD<br>equity: 7962.618496<br>margin: 0.000000<br>free margin: 7962.618496<br>margin level: inf",
          "balance: 7962.618496 USD<br>equity: 7962.618496<br>margin: 0.000000<br>free margin: 7962.618496<br>margin level: inf",
          "balance: 7962.618496 USD<br>equity: 7894.357370<br>margin: 2426.247800<br>free margin: 5468.109570<br>margin level: 3.253731",
          "balance: 7894.357370 USD<br>equity: 7894.357370<br>margin: 0.000000<br>free margin: 7894.357370<br>margin level: inf",
          "balance: 7894.357370 USD<br>equity: 7894.357370<br>margin: 0.000000<br>free margin: 7894.357370<br>margin level: inf",
          "balance: 7894.357370 USD<br>equity: 7894.357370<br>margin: 0.000000<br>free margin: 7894.357370<br>margin level: inf",
          "balance: 7894.357370 USD<br>equity: 7894.357370<br>margin: 0.000000<br>free margin: 7894.357370<br>margin level: inf",
          "balance: 7894.357370 USD<br>equity: 7894.357370<br>margin: 0.000000<br>free margin: 7894.357370<br>margin level: inf",
          "balance: 7894.357370 USD<br>equity: 7894.357370<br>margin: 0.000000<br>free margin: 7894.357370<br>margin level: inf",
          "balance: 7894.357370 USD<br>equity: 7894.357370<br>margin: 0.000000<br>free margin: 7894.357370<br>margin level: inf",
          "balance: 7894.357370 USD<br>equity: 9186.383618<br>margin: 5980.000000<br>free margin: 3206.383618<br>margin level: 1.536185",
          "balance: 9186.383618 USD<br>equity: 9423.108104<br>margin: 2490.000000<br>free margin: 6933.108104<br>margin level: 3.784381",
          "balance: 9186.383618 USD<br>equity: 8742.712021<br>margin: 2490.000000<br>free margin: 6252.712021<br>margin level: 3.511129",
          "balance: 8742.712021 USD<br>equity: 8742.712021<br>margin: 0.000000<br>free margin: 8742.712021<br>margin level: inf",
          "balance: 8742.712021 USD<br>equity: 8742.712021<br>margin: 0.000000<br>free margin: 8742.712021<br>margin level: inf",
          "balance: 8742.712021 USD<br>equity: 8947.368524<br>margin: 4860.120000<br>free margin: 4087.248524<br>margin level: 1.840977",
          "balance: 8947.368524 USD<br>equity: 8947.368524<br>margin: 0.000000<br>free margin: 8947.368524<br>margin level: inf",
          "balance: 8947.368524 USD<br>equity: 8947.368524<br>margin: 0.000000<br>free margin: 8947.368524<br>margin level: inf",
          "balance: 8947.368524 USD<br>equity: 8947.368524<br>margin: 0.000000<br>free margin: 8947.368524<br>margin level: inf",
          "balance: 8947.368524 USD<br>equity: 8947.368524<br>margin: 0.000000<br>free margin: 8947.368524<br>margin level: inf",
          "balance: 8947.368524 USD<br>equity: 8947.368524<br>margin: 0.000000<br>free margin: 8947.368524<br>margin level: inf",
          "balance: 8947.368524 USD<br>equity: 8947.368524<br>margin: 0.000000<br>free margin: 8947.368524<br>margin level: inf",
          "balance: 8947.368524 USD<br>equity: 8947.368524<br>margin: 0.000000<br>free margin: 8947.368524<br>margin level: inf",
          "balance: 8947.368524 USD<br>equity: 8239.639877<br>margin: 1433.457415<br>free margin: 6806.182462<br>margin level: 5.748088",
          "balance: 8239.639877 USD<br>equity: 8239.639877<br>margin: 0.000000<br>free margin: 8239.639877<br>margin level: inf",
          "balance: 8239.639877 USD<br>equity: 8239.639877<br>margin: 0.000000<br>free margin: 8239.639877<br>margin level: inf",
          "balance: 8239.639877 USD<br>equity: 8239.639877<br>margin: 0.000000<br>free margin: 8239.639877<br>margin level: inf",
          "balance: 8239.639877 USD<br>equity: 8239.639877<br>margin: 0.000000<br>free margin: 8239.639877<br>margin level: inf",
          "balance: 8239.639877 USD<br>equity: 8239.639877<br>margin: 0.000000<br>free margin: 8239.639877<br>margin level: inf",
          "balance: 8239.639877 USD<br>equity: 8218.521895<br>margin: 3262.765000<br>free margin: 4955.756895<br>margin level: 2.518883",
          "balance: 8239.639877 USD<br>equity: 9326.771895<br>margin: 3262.765000<br>free margin: 6064.006895<br>margin level: 2.858548",
          "balance: 8239.639877 USD<br>equity: 10228.771895<br>margin: 3262.765000<br>free margin: 6966.006895<br>margin level: 3.135001",
          "balance: 10228.771895 USD<br>equity: 10228.771895<br>margin: 0.000000<br>free margin: 10228.771895<br>margin level: inf",
          "balance: 10228.771895 USD<br>equity: 8757.721436<br>margin: 4998.547800<br>free margin: 3759.173636<br>margin level: 1.752053",
          "balance: 8757.721436 USD<br>equity: 8757.721436<br>margin: 0.000000<br>free margin: 8757.721436<br>margin level: inf",
          "balance: 8757.721436 USD<br>equity: 10286.953142<br>margin: 2194.211000<br>free margin: 8092.742142<br>margin level: 4.688224",
          "balance: 8757.721436 USD<br>equity: 9189.903142<br>margin: 2194.211000<br>free margin: 6995.692142<br>margin level: 4.188250",
          "balance: 9189.903142 USD<br>equity: 9189.903142<br>margin: 0.000000<br>free margin: 9189.903142<br>margin level: inf",
          "balance: 9189.903142 USD<br>equity: 9189.903142<br>margin: 0.000000<br>free margin: 9189.903142<br>margin level: inf",
          "balance: 9189.903142 USD<br>equity: 9189.903142<br>margin: 0.000000<br>free margin: 9189.903142<br>margin level: inf",
          "balance: 9189.903142 USD<br>equity: 9189.903142<br>margin: 0.000000<br>free margin: 9189.903142<br>margin level: inf",
          "balance: 9189.903142 USD<br>equity: 9189.903142<br>margin: 0.000000<br>free margin: 9189.903142<br>margin level: inf",
          "balance: 9189.903142 USD<br>equity: 9189.903142<br>margin: 0.000000<br>free margin: 9189.903142<br>margin level: inf",
          "balance: 9189.903142 USD<br>equity: 9189.903142<br>margin: 0.000000<br>free margin: 9189.903142<br>margin level: inf",
          "balance: 9189.903142 USD<br>equity: 9189.903142<br>margin: 0.000000<br>free margin: 9189.903142<br>margin level: inf",
          "balance: 9189.903142 USD<br>equity: 9189.903142<br>margin: 0.000000<br>free margin: 9189.903142<br>margin level: inf",
          "balance: 9189.903142 USD<br>equity: 9189.903142<br>margin: 0.000000<br>free margin: 9189.903142<br>margin level: inf",
          "balance: 9189.903142 USD<br>equity: 9189.903142<br>margin: 0.000000<br>free margin: 9189.903142<br>margin level: inf",
          "balance: 9189.903142 USD<br>equity: 9189.903142<br>margin: 0.000000<br>free margin: 9189.903142<br>margin level: inf",
          "balance: 9189.903142 USD<br>equity: 9189.903142<br>margin: 0.000000<br>free margin: 9189.903142<br>margin level: inf",
          "balance: 9189.903142 USD<br>equity: 9189.903142<br>margin: 0.000000<br>free margin: 9189.903142<br>margin level: inf",
          "balance: 9189.903142 USD<br>equity: 9189.903142<br>margin: 0.000000<br>free margin: 9189.903142<br>margin level: inf",
          "balance: 9189.903142 USD<br>equity: 9189.903142<br>margin: 0.000000<br>free margin: 9189.903142<br>margin level: inf",
          "balance: 9189.903142 USD<br>equity: 9189.903142<br>margin: 0.000000<br>free margin: 9189.903142<br>margin level: inf",
          "balance: 9189.903142 USD<br>equity: 9189.903142<br>margin: 0.000000<br>free margin: 9189.903142<br>margin level: inf",
          "balance: 9189.903142 USD<br>equity: 9189.903142<br>margin: 0.000000<br>free margin: 9189.903142<br>margin level: inf",
          "balance: 9189.903142 USD<br>equity: 9189.903142<br>margin: 0.000000<br>free margin: 9189.903142<br>margin level: inf",
          "balance: 9189.903142 USD<br>equity: 9189.903142<br>margin: 0.000000<br>free margin: 9189.903142<br>margin level: inf",
          "balance: 9189.903142 USD<br>equity: 9044.708053<br>margin: 246.321600<br>free margin: 8798.386453<br>margin level: 36.719102",
          "balance: 9044.708053 USD<br>equity: 9044.708053<br>margin: 0.000000<br>free margin: 9044.708053<br>margin level: inf",
          "balance: 9044.708053 USD<br>equity: 9044.708053<br>margin: 0.000000<br>free margin: 9044.708053<br>margin level: inf",
          "balance: 9044.708053 USD<br>equity: 9044.708053<br>margin: 0.000000<br>free margin: 9044.708053<br>margin level: inf",
          "balance: 9044.708053 USD<br>equity: 9044.708053<br>margin: 0.000000<br>free margin: 9044.708053<br>margin level: inf",
          "balance: 9044.708053 USD<br>equity: 9044.708053<br>margin: 0.000000<br>free margin: 9044.708053<br>margin level: inf",
          "balance: 9044.708053 USD<br>equity: 9044.708053<br>margin: 0.000000<br>free margin: 9044.708053<br>margin level: inf",
          "balance: 9044.708053 USD<br>equity: 9044.708053<br>margin: 0.000000<br>free margin: 9044.708053<br>margin level: inf",
          "balance: 9044.708053 USD<br>equity: 9044.708053<br>margin: 0.000000<br>free margin: 9044.708053<br>margin level: inf",
          "balance: 9044.708053 USD<br>equity: 9044.708053<br>margin: 0.000000<br>free margin: 9044.708053<br>margin level: inf",
          "balance: 9044.708053 USD<br>equity: 9044.708053<br>margin: 0.000000<br>free margin: 9044.708053<br>margin level: inf",
          "balance: 9044.708053 USD<br>equity: 8856.802589<br>margin: 7266.028000<br>free margin: 1590.774589<br>margin level: 1.218933",
          "balance: 9044.708053 USD<br>equity: 8111.442589<br>margin: 7266.028000<br>free margin: 845.414589<br>margin level: 1.116352",
          "balance: 9044.708053 USD<br>equity: 6257.282589<br>margin: 7266.028000<br>free margin: -1008.745411<br>margin level: 0.861170",
          "balance: 6257.282589 USD<br>equity: 6257.282589<br>margin: 0.000000<br>free margin: 6257.282589<br>margin level: inf",
          "balance: 6257.282589 USD<br>equity: 6096.474271<br>margin: 3989.798400<br>free margin: 2106.675871<br>margin level: 1.528016"
         ],
         "legendgroup": "g3",
         "line": {
          "color": "rgba(0.7372549019607844, 0.7411764705882353, 0.13333333333333333, 1.0)"
         },
         "mode": "lines+markers",
         "name": "USDJPY",
         "opacity": 1.0,
         "x": [
          "2021-05-05T00:00:00+00:00",
          "2021-05-06T00:00:00+00:00",
          "2021-05-07T00:00:00+00:00",
          "2021-05-10T00:00:00+00:00",
          "2021-05-11T00:00:00+00:00",
          "2021-05-12T00:00:00+00:00",
          "2021-05-13T00:00:00+00:00",
          "2021-05-14T00:00:00+00:00",
          "2021-05-17T00:00:00+00:00",
          "2021-05-18T00:00:00+00:00",
          "2021-05-19T00:00:00+00:00",
          "2021-05-20T00:00:00+00:00",
          "2021-05-21T00:00:00+00:00",
          "2021-05-24T00:00:00+00:00",
          "2021-05-25T00:00:00+00:00",
          "2021-05-26T00:00:00+00:00",
          "2021-05-27T00:00:00+00:00",
          "2021-05-28T00:00:00+00:00",
          "2021-05-31T00:00:00+00:00",
          "2021-06-01T00:00:00+00:00",
          "2021-06-02T00:00:00+00:00",
          "2021-06-03T00:00:00+00:00",
          "2021-06-04T00:00:00+00:00",
          "2021-06-07T00:00:00+00:00",
          "2021-06-08T00:00:00+00:00",
          "2021-06-09T00:00:00+00:00",
          "2021-06-10T00:00:00+00:00",
          "2021-06-11T00:00:00+00:00",
          "2021-06-14T00:00:00+00:00",
          "2021-06-15T00:00:00+00:00",
          "2021-06-16T00:00:00+00:00",
          "2021-06-17T00:00:00+00:00",
          "2021-06-18T00:00:00+00:00",
          "2021-06-21T00:00:00+00:00",
          "2021-06-22T00:00:00+00:00",
          "2021-06-23T00:00:00+00:00",
          "2021-06-24T00:00:00+00:00",
          "2021-06-25T00:00:00+00:00",
          "2021-06-28T00:00:00+00:00",
          "2021-06-29T00:00:00+00:00",
          "2021-06-30T00:00:00+00:00",
          "2021-07-01T00:00:00+00:00",
          "2021-07-02T00:00:00+00:00",
          "2021-07-05T00:00:00+00:00",
          "2021-07-06T00:00:00+00:00",
          "2021-07-07T00:00:00+00:00",
          "2021-07-08T00:00:00+00:00",
          "2021-07-09T00:00:00+00:00",
          "2021-07-12T00:00:00+00:00",
          "2021-07-13T00:00:00+00:00",
          "2021-07-14T00:00:00+00:00",
          "2021-07-15T00:00:00+00:00",
          "2021-07-16T00:00:00+00:00",
          "2021-07-19T00:00:00+00:00",
          "2021-07-20T00:00:00+00:00",
          "2021-07-21T00:00:00+00:00",
          "2021-07-22T00:00:00+00:00",
          "2021-07-23T00:00:00+00:00",
          "2021-07-26T00:00:00+00:00",
          "2021-07-27T00:00:00+00:00",
          "2021-07-28T00:00:00+00:00",
          "2021-07-29T00:00:00+00:00",
          "2021-07-30T00:00:00+00:00",
          "2021-08-02T00:00:00+00:00",
          "2021-08-03T00:00:00+00:00",
          "2021-08-04T00:00:00+00:00",
          "2021-08-05T00:00:00+00:00",
          "2021-08-06T00:00:00+00:00",
          "2021-08-09T00:00:00+00:00",
          "2021-08-10T00:00:00+00:00",
          "2021-08-11T00:00:00+00:00",
          "2021-08-12T00:00:00+00:00",
          "2021-08-13T00:00:00+00:00",
          "2021-08-16T00:00:00+00:00",
          "2021-08-17T00:00:00+00:00",
          "2021-08-18T00:00:00+00:00",
          "2021-08-19T00:00:00+00:00",
          "2021-08-20T00:00:00+00:00",
          "2021-08-23T00:00:00+00:00",
          "2021-08-24T00:00:00+00:00",
          "2021-08-25T00:00:00+00:00",
          "2021-08-26T00:00:00+00:00",
          "2021-08-27T00:00:00+00:00",
          "2021-08-30T00:00:00+00:00",
          "2021-08-31T00:00:00+00:00",
          "2021-09-01T00:00:00+00:00",
          "2021-09-02T00:00:00+00:00",
          "2021-09-03T00:00:00+00:00"
         ],
         "y": [
          109.188,
          109.09,
          108.604,
          108.81,
          108.615,
          109.699,
          109.453,
          109.362,
          109.209,
          108.888,
          109.227,
          108.767,
          108.945,
          108.74,
          108.747,
          109.139,
          109.808,
          109.872,
          109.556,
          109.467,
          109.547,
          110.276,
          109.524,
          109.238,
          109.492,
          109.618,
          109.319,
          109.682,
          110.071,
          110.056,
          110.708,
          110.221,
          110.211,
          110.314,
          110.658,
          110.949,
          110.874,
          110.778,
          110.614,
          110.538,
          111.101,
          111.521,
          111.02,
          110.962,
          110.61,
          110.608,
          109.748,
          110.102,
          110.349,
          110.627,
          109.95,
          109.831,
          110.081,
          109.447,
          109.843,
          110.286,
          110.149,
          110.547,
          110.381,
          109.774,
          109.909,
          109.47,
          109.656,
          109.305,
          109.042,
          109.473,
          109.761,
          110.217,
          110.267,
          110.56,
          110.428,
          110.386,
          109.592,
          109.243,
          109.595,
          109.763,
          109.763,
          109.799,
          109.694,
          109.679,
          110.023,
          110.081,
          109.85,
          109.913,
          110.007,
          110.025,
          109.937,
          109.712
         ],
         "yaxis": "y3",
         "type": "scatter"
        },
        {
         "hovertext": [
          "order id: <br>hold probability: 0.0000<br>hold: False<br>volume: -25.063910<br>modified volume: 25.0600<br>fee: nan<br>margin: nan<br>error: low free margin (order margin=25060.0, order profit=-678.3071912183385, free margin=7962.618496246406)",
          "order id: <br>hold probability: 0.0000<br>hold: False<br>volume: 20.693140<br>modified volume: 20.6900<br>fee: nan<br>margin: nan<br>error: low free margin (order margin=20690.0, order profit=-479.93012115344044, free margin=7962.618496246406)",
          "order id: <br>hold probability: 0.0000<br>hold: False<br>volume: -93.549890<br>modified volume: 93.5500<br>fee: nan<br>margin: nan<br>error: low free margin (order margin=93550.0, order profit=-1693.7470301117464, free margin=7962.618496246406)",
          "order id: <br>hold probability: 0.0000<br>hold: False<br>volume: 12.198657<br>modified volume: 12.2000<br>fee: nan<br>margin: nan<br>error: low free margin (order margin=12200.0, order profit=-214.540036759953, free margin=5491.98956977598)",
          "order id: <br>hold probability: 0.0000<br>hold: False<br>volume: -87.094379<br>modified volume: 87.0900<br>fee: nan<br>margin: nan<br>error: low free margin (order margin=87090.00000000001, order profit=-1388.3383460890188, free margin=7894.357369775957)",
          "order id: <br>hold probability: 0.0000<br>hold: False<br>volume: 75.929918<br>modified volume: 75.9300<br>fee: nan<br>margin: nan<br>error: low free margin (order margin=75930.00000000001, order profit=-1686.116023502719, free margin=7894.357369775957)",
          "order id: 3<br>hold probability: 0.0000<br>hold: False<br>volume: 5.977734<br>modified volume: 5.9800<br>fee: 0.017434<br>margin: 5980.000000<br>error: ",
          "order id: 4<br>hold probability: 0.0000<br>hold: False<br>volume: 2.494649<br>modified volume: 2.4900<br>fee: 0.021786<br>margin: 2490.000000<br>error: ",
          "order id: <br>hold probability: 0.0000<br>hold: False<br>volume: -75.048469<br>modified volume: 75.0500<br>fee: nan<br>margin: nan<br>error: low free margin (order margin=75050.00000000001, order profit=-1441.2472711885641, free margin=6933.108104227871)",
          "order id: <br>hold probability: 0.0000<br>hold: False<br>volume: -38.499717<br>modified volume: 38.5000<br>fee: nan<br>margin: nan<br>error: low free margin (order margin=38500.0, order profit=-757.2697197031092, free margin=8947.368523973133)",
          "order id: <br>hold probability: 0.1202<br>hold: False<br>volume: 89.411305<br>modified volume: 89.4100<br>fee: nan<br>margin: nan<br>error: low free margin (order margin=89409.99999999999, order profit=-1714.108432801357, free margin=8947.368523973133)",
          "order id: <br>hold probability: 0.0000<br>hold: False<br>volume: 78.597144<br>modified volume: 78.6000<br>fee: nan<br>margin: nan<br>error: low free margin (order margin=78600.00000000001, order profit=-1437.2717518305953, free margin=7452.852008376429)",
          "order id: <br>hold probability: 0.0000<br>hold: False<br>volume: 9.411192<br>modified volume: 9.4100<br>fee: nan<br>margin: nan<br>error: low free margin (order margin=9409.999999999998, order profit=-185.2236036575894, free margin=8239.63987711048)",
          "order id: <br>hold probability: 0.0136<br>hold: False<br>volume: 53.982204<br>modified volume: 53.9800<br>fee: nan<br>margin: nan<br>error: low free margin (order margin=53980.0, order profit=-845.9636465612514, free margin=8239.63987711048)",
          "order id: <br>hold probability: 0.0000<br>hold: False<br>volume: -62.400886<br>modified volume: 62.4000<br>fee: nan<br>margin: nan<br>error: low free margin (order margin=62399.99999999999, order profit=-1276.4116717457646, free margin=10228.771894540221)",
          "order id: <br>hold probability: 0.0000<br>hold: False<br>volume: 82.659009<br>modified volume: 82.6600<br>fee: nan<br>margin: nan<br>error: low free margin (order margin=82660.0, order profit=-1749.1754901604725, free margin=9189.90314177124)",
          "order id: <br>hold probability: 0.0000<br>hold: False<br>volume: -52.168300<br>modified volume: 52.1700<br>fee: nan<br>margin: nan<br>error: low free margin (order margin=52169.99999999999, order profit=-818.5047950909399, free margin=9189.90314177124)",
          "order id: <br>hold probability: 0.0000<br>hold: False<br>volume: 57.289685<br>modified volume: 57.2900<br>fee: nan<br>margin: nan<br>error: low free margin (order margin=57290.0, order profit=-925.2924922877133, free margin=9189.90314177124)",
          "order id: <br>hold probability: 0.0000<br>hold: False<br>volume: 37.777953<br>modified volume: 37.7800<br>fee: nan<br>margin: nan<br>error: low free margin (order margin=37780.0, order profit=-687.7158382546717, free margin=9189.90314177124)",
          "order id: <br>hold probability: 0.0000<br>hold: False<br>volume: -61.581287<br>modified volume: 61.5800<br>fee: nan<br>margin: nan<br>error: low free margin (order margin=61580.0, order profit=-1065.1764291933862, free margin=9189.90314177124)",
          "order id: <br>hold probability: 0.0000<br>hold: False<br>volume: 58.197988<br>modified volume: 58.2000<br>fee: nan<br>margin: nan<br>error: low free margin (order margin=58199.99999999999, order profit=-1064.030289417029, free margin=9189.90314177124)",
          "order id: <br>hold probability: 0.0000<br>hold: False<br>volume: -42.153585<br>modified volume: 42.1500<br>fee: nan<br>margin: nan<br>error: low free margin (order margin=42150.0, order profit=-582.343366160686, free margin=9189.90314177124)",
          "order id: <br>hold probability: 0.0000<br>hold: False<br>volume: -23.963028<br>modified volume: 23.9600<br>fee: nan<br>margin: nan<br>error: low free margin (order margin=23960.0, order profit=-398.4009463548051, free margin=9189.90314177124)",
          "order id: <br>hold probability: 0.0000<br>hold: False<br>volume: -78.818296<br>modified volume: 78.8200<br>fee: nan<br>margin: nan<br>error: low free margin (order margin=78820.0, order profit=-1683.713439910294, free margin=9189.90314177124)",
          "order id: <br>hold probability: 0.0000<br>hold: False<br>volume: -25.075850<br>modified volume: 25.0800<br>fee: nan<br>margin: nan<br>error: low free margin (order margin=25080.000000000004, order profit=-497.8250718714562, free margin=9189.90314177124)",
          "order id: <br>hold probability: 0.0000<br>hold: False<br>volume: 93.326106<br>modified volume: 93.3300<br>fee: nan<br>margin: nan<br>error: low free margin (order margin=93330.0, order profit=-1794.9878406815237, free margin=9044.708052739074)",
          "order id: <br>hold probability: 0.0002<br>hold: False<br>volume: -73.438414<br>modified volume: 73.4400<br>fee: nan<br>margin: nan<br>error: low free margin (order margin=73440.0, order profit=-1314.5498975026157, free margin=9044.708052739074)",
          "order id: <br>hold probability: 0.0000<br>hold: False<br>volume: -49.254232<br>modified volume: 49.2500<br>fee: nan<br>margin: nan<br>error: low free margin (order margin=49250.0, order profit=-928.1409144053158, free margin=9044.708052739074)",
          "order id: <br>hold probability: 0.0005<br>hold: False<br>volume: 24.787067<br>modified volume: 24.7900<br>fee: nan<br>margin: nan<br>error: low free margin (order margin=24789.999999999996, order profit=-368.15688973273376, free margin=9044.708052739074)",
          "order id: <br>hold probability: 0.0000<br>hold: False<br>volume: -38.596063<br>modified volume: 38.6000<br>fee: nan<br>margin: nan<br>error: low free margin (order margin=38600.0, order profit=-571.6737693277456, free margin=9044.708052739074)",
          "order id: <br>hold probability: 0.0000<br>hold: False<br>volume: 63.967848<br>modified volume: 63.9700<br>fee: nan<br>margin: nan<br>error: low free margin (order margin=63970.0, order profit=-1119.5278590577095, free margin=9044.708052739074)",
          "order id: <br>hold probability: 0.0000<br>hold: False<br>volume: 93.313546<br>modified volume: 93.3100<br>fee: nan<br>margin: nan<br>error: low free margin (order margin=93310.00000000001, order profit=-2145.458285472489, free margin=9044.708052739074)",
          "order id: <br>hold probability: 0.0000<br>hold: False<br>volume: -92.542265<br>modified volume: 92.5400<br>fee: nan<br>margin: nan<br>error: low free margin (order margin=92540.0, order profit=-1670.8369046101711, free margin=1590.7745886257135)",
          "order id: <br>hold probability: 0.0002<br>hold: False<br>volume: -56.930288<br>modified volume: 56.9300<br>fee: nan<br>margin: nan<br>error: low free margin (order margin=56930.0, order profit=-1148.672596387651, free margin=6257.282588625643)"
         ],
         "legendgroup": "g3",
         "marker": {
          "color": [
           "gray",
           "gray",
           "gray",
           "gray",
           "gray",
           "gray",
           "green",
           "green",
           "gray",
           "gray",
           "gray",
           "gray",
           "gray",
           "gray",
           "gray",
           "gray",
           "gray",
           "gray",
           "gray",
           "gray",
           "gray",
           "gray",
           "gray",
           "gray",
           "gray",
           "gray",
           "gray",
           "gray",
           "gray",
           "gray",
           "gray",
           "gray",
           "gray",
           "gray"
          ],
          "size": [
           13.716715055993365,
           12.71982579842389,
           29.34072998755703,
           10.783077561177935,
           27.867067606802156,
           25.321236001659067,
           9.364164247200332,
           8.568021567814185,
           25.120489423475735,
           16.78266279552053,
           28.39630858564911,
           25.9303193695562,
           10.146619659892162,
           20.313977602654504,
           22.23475736209042,
           26.856491082538366,
           19.90107839070925,
           21.069058481957693,
           16.61841559518872,
           22.04769805060141,
           21.27664869348818,
           17.615304852758193,
           13.465781833264206,
           25.980506014102033,
           13.721277478224803,
           29.290543343011198,
           24.753214433844878,
           19.234964744919118,
           13.655122355868933,
           16.805474906677727,
           22.5929075072584,
           29.28598092077976,
           29.110327664869352,
           20.98693488179179
          ],
          "symbol": [
           "triangle-down",
           "triangle-down",
           "triangle-down",
           "triangle-down",
           "triangle-down",
           "triangle-down",
           "triangle-up",
           "triangle-up",
           "triangle-down",
           "triangle-down",
           "triangle-down",
           "triangle-down",
           "triangle-down",
           "triangle-down",
           "triangle-down",
           "triangle-down",
           "triangle-down",
           "triangle-down",
           "triangle-down",
           "triangle-down",
           "triangle-down",
           "triangle-down",
           "triangle-down",
           "triangle-down",
           "triangle-down",
           "triangle-down",
           "triangle-down",
           "triangle-down",
           "triangle-down",
           "triangle-down",
           "triangle-down",
           "triangle-down",
           "triangle-down",
           "triangle-down"
          ]
         },
         "mode": "markers",
         "name": "USDJPY",
         "showlegend": false,
         "x": [
          "2021-05-19T00:00:00+00:00",
          "2021-05-21T00:00:00+00:00",
          "2021-05-24T00:00:00+00:00",
          "2021-05-26T00:00:00+00:00",
          "2021-06-02T00:00:00+00:00",
          "2021-06-04T00:00:00+00:00",
          "2021-06-07T00:00:00+00:00",
          "2021-06-08T00:00:00+00:00",
          "2021-06-09T00:00:00+00:00",
          "2021-06-16T00:00:00+00:00",
          "2021-06-21T00:00:00+00:00",
          "2021-06-24T00:00:00+00:00",
          "2021-06-28T00:00:00+00:00",
          "2021-06-29T00:00:00+00:00",
          "2021-07-07T00:00:00+00:00",
          "2021-07-15T00:00:00+00:00",
          "2021-07-16T00:00:00+00:00",
          "2021-07-21T00:00:00+00:00",
          "2021-07-22T00:00:00+00:00",
          "2021-07-28T00:00:00+00:00",
          "2021-08-04T00:00:00+00:00",
          "2021-08-06T00:00:00+00:00",
          "2021-08-09T00:00:00+00:00",
          "2021-08-10T00:00:00+00:00",
          "2021-08-11T00:00:00+00:00",
          "2021-08-13T00:00:00+00:00",
          "2021-08-17T00:00:00+00:00",
          "2021-08-18T00:00:00+00:00",
          "2021-08-20T00:00:00+00:00",
          "2021-08-23T00:00:00+00:00",
          "2021-08-24T00:00:00+00:00",
          "2021-08-25T00:00:00+00:00",
          "2021-08-30T00:00:00+00:00",
          "2021-09-01T00:00:00+00:00"
         ],
         "y": [
          109.227,
          108.945,
          108.74,
          109.139,
          109.547,
          109.524,
          109.238,
          109.492,
          109.618,
          110.708,
          110.314,
          110.874,
          110.614,
          110.538,
          110.608,
          109.831,
          110.081,
          110.286,
          110.149,
          109.909,
          109.473,
          110.217,
          110.267,
          110.56,
          110.428,
          109.592,
          109.595,
          109.763,
          109.799,
          109.694,
          109.679,
          110.023,
          109.913,
          110.025
         ],
         "yaxis": "y3",
         "type": "scatter"
        },
        {
         "hovertext": [
          "order id: 3<br>order type: Buy<br>close probability: 1.0000<br>margin: 5980.000000<br>profit: 1292.026249",
          "order id: 4<br>order type: Buy<br>close probability: 1.0000<br>margin: 2490.000000<br>profit: -443.671597"
         ],
         "legendgroup": "g3",
         "marker": {
          "color": "black",
          "line": {
           "width": 1.5
          },
          "size": 7,
          "symbol": "line-ns"
         },
         "mode": "markers",
         "name": "USDJPY",
         "showlegend": false,
         "x": [
          "2021-06-08T00:00:00+00:00",
          "2021-06-10T00:00:00+00:00"
         ],
         "y": [
          109.492,
          109.319
         ],
         "yaxis": "y3",
         "type": "scatter"
        }
       ],
       "layout": {
        "template": {
         "data": {
          "histogram2dcontour": [
           {
            "type": "histogram2dcontour",
            "colorbar": {
             "outlinewidth": 0,
             "ticks": ""
            },
            "colorscale": [
             [
              0.0,
              "#0d0887"
             ],
             [
              0.1111111111111111,
              "#46039f"
             ],
             [
              0.2222222222222222,
              "#7201a8"
             ],
             [
              0.3333333333333333,
              "#9c179e"
             ],
             [
              0.4444444444444444,
              "#bd3786"
             ],
             [
              0.5555555555555556,
              "#d8576b"
             ],
             [
              0.6666666666666666,
              "#ed7953"
             ],
             [
              0.7777777777777778,
              "#fb9f3a"
             ],
             [
              0.8888888888888888,
              "#fdca26"
             ],
             [
              1.0,
              "#f0f921"
             ]
            ]
           }
          ],
          "choropleth": [
           {
            "type": "choropleth",
            "colorbar": {
             "outlinewidth": 0,
             "ticks": ""
            }
           }
          ],
          "histogram2d": [
           {
            "type": "histogram2d",
            "colorbar": {
             "outlinewidth": 0,
             "ticks": ""
            },
            "colorscale": [
             [
              0.0,
              "#0d0887"
             ],
             [
              0.1111111111111111,
              "#46039f"
             ],
             [
              0.2222222222222222,
              "#7201a8"
             ],
             [
              0.3333333333333333,
              "#9c179e"
             ],
             [
              0.4444444444444444,
              "#bd3786"
             ],
             [
              0.5555555555555556,
              "#d8576b"
             ],
             [
              0.6666666666666666,
              "#ed7953"
             ],
             [
              0.7777777777777778,
              "#fb9f3a"
             ],
             [
              0.8888888888888888,
              "#fdca26"
             ],
             [
              1.0,
              "#f0f921"
             ]
            ]
           }
          ],
          "heatmap": [
           {
            "type": "heatmap",
            "colorbar": {
             "outlinewidth": 0,
             "ticks": ""
            },
            "colorscale": [
             [
              0.0,
              "#0d0887"
             ],
             [
              0.1111111111111111,
              "#46039f"
             ],
             [
              0.2222222222222222,
              "#7201a8"
             ],
             [
              0.3333333333333333,
              "#9c179e"
             ],
             [
              0.4444444444444444,
              "#bd3786"
             ],
             [
              0.5555555555555556,
              "#d8576b"
             ],
             [
              0.6666666666666666,
              "#ed7953"
             ],
             [
              0.7777777777777778,
              "#fb9f3a"
             ],
             [
              0.8888888888888888,
              "#fdca26"
             ],
             [
              1.0,
              "#f0f921"
             ]
            ]
           }
          ],
          "heatmapgl": [
           {
            "type": "heatmapgl",
            "colorbar": {
             "outlinewidth": 0,
             "ticks": ""
            },
            "colorscale": [
             [
              0.0,
              "#0d0887"
             ],
             [
              0.1111111111111111,
              "#46039f"
             ],
             [
              0.2222222222222222,
              "#7201a8"
             ],
             [
              0.3333333333333333,
              "#9c179e"
             ],
             [
              0.4444444444444444,
              "#bd3786"
             ],
             [
              0.5555555555555556,
              "#d8576b"
             ],
             [
              0.6666666666666666,
              "#ed7953"
             ],
             [
              0.7777777777777778,
              "#fb9f3a"
             ],
             [
              0.8888888888888888,
              "#fdca26"
             ],
             [
              1.0,
              "#f0f921"
             ]
            ]
           }
          ],
          "contourcarpet": [
           {
            "type": "contourcarpet",
            "colorbar": {
             "outlinewidth": 0,
             "ticks": ""
            }
           }
          ],
          "contour": [
           {
            "type": "contour",
            "colorbar": {
             "outlinewidth": 0,
             "ticks": ""
            },
            "colorscale": [
             [
              0.0,
              "#0d0887"
             ],
             [
              0.1111111111111111,
              "#46039f"
             ],
             [
              0.2222222222222222,
              "#7201a8"
             ],
             [
              0.3333333333333333,
              "#9c179e"
             ],
             [
              0.4444444444444444,
              "#bd3786"
             ],
             [
              0.5555555555555556,
              "#d8576b"
             ],
             [
              0.6666666666666666,
              "#ed7953"
             ],
             [
              0.7777777777777778,
              "#fb9f3a"
             ],
             [
              0.8888888888888888,
              "#fdca26"
             ],
             [
              1.0,
              "#f0f921"
             ]
            ]
           }
          ],
          "surface": [
           {
            "type": "surface",
            "colorbar": {
             "outlinewidth": 0,
             "ticks": ""
            },
            "colorscale": [
             [
              0.0,
              "#0d0887"
             ],
             [
              0.1111111111111111,
              "#46039f"
             ],
             [
              0.2222222222222222,
              "#7201a8"
             ],
             [
              0.3333333333333333,
              "#9c179e"
             ],
             [
              0.4444444444444444,
              "#bd3786"
             ],
             [
              0.5555555555555556,
              "#d8576b"
             ],
             [
              0.6666666666666666,
              "#ed7953"
             ],
             [
              0.7777777777777778,
              "#fb9f3a"
             ],
             [
              0.8888888888888888,
              "#fdca26"
             ],
             [
              1.0,
              "#f0f921"
             ]
            ]
           }
          ],
          "mesh3d": [
           {
            "type": "mesh3d",
            "colorbar": {
             "outlinewidth": 0,
             "ticks": ""
            }
           }
          ],
          "scatter": [
           {
            "marker": {
             "line": {
              "color": "#283442"
             }
            },
            "type": "scatter"
           }
          ],
          "parcoords": [
           {
            "type": "parcoords",
            "line": {
             "colorbar": {
              "outlinewidth": 0,
              "ticks": ""
             }
            }
           }
          ],
          "scatterpolargl": [
           {
            "type": "scatterpolargl",
            "marker": {
             "colorbar": {
              "outlinewidth": 0,
              "ticks": ""
             }
            }
           }
          ],
          "bar": [
           {
            "error_x": {
             "color": "#f2f5fa"
            },
            "error_y": {
             "color": "#f2f5fa"
            },
            "marker": {
             "line": {
              "color": "rgb(17,17,17)",
              "width": 0.5
             },
             "pattern": {
              "fillmode": "overlay",
              "size": 10,
              "solidity": 0.2
             }
            },
            "type": "bar"
           }
          ],
          "scattergeo": [
           {
            "type": "scattergeo",
            "marker": {
             "colorbar": {
              "outlinewidth": 0,
              "ticks": ""
             }
            }
           }
          ],
          "scatterpolar": [
           {
            "type": "scatterpolar",
            "marker": {
             "colorbar": {
              "outlinewidth": 0,
              "ticks": ""
             }
            }
           }
          ],
          "histogram": [
           {
            "marker": {
             "pattern": {
              "fillmode": "overlay",
              "size": 10,
              "solidity": 0.2
             }
            },
            "type": "histogram"
           }
          ],
          "scattergl": [
           {
            "marker": {
             "line": {
              "color": "#283442"
             }
            },
            "type": "scattergl"
           }
          ],
          "scatter3d": [
           {
            "type": "scatter3d",
            "line": {
             "colorbar": {
              "outlinewidth": 0,
              "ticks": ""
             }
            },
            "marker": {
             "colorbar": {
              "outlinewidth": 0,
              "ticks": ""
             }
            }
           }
          ],
          "scattermapbox": [
           {
            "type": "scattermapbox",
            "marker": {
             "colorbar": {
              "outlinewidth": 0,
              "ticks": ""
             }
            }
           }
          ],
          "scatterternary": [
           {
            "type": "scatterternary",
            "marker": {
             "colorbar": {
              "outlinewidth": 0,
              "ticks": ""
             }
            }
           }
          ],
          "scattercarpet": [
           {
            "type": "scattercarpet",
            "marker": {
             "colorbar": {
              "outlinewidth": 0,
              "ticks": ""
             }
            }
           }
          ],
          "carpet": [
           {
            "aaxis": {
             "endlinecolor": "#A2B1C6",
             "gridcolor": "#506784",
             "linecolor": "#506784",
             "minorgridcolor": "#506784",
             "startlinecolor": "#A2B1C6"
            },
            "baxis": {
             "endlinecolor": "#A2B1C6",
             "gridcolor": "#506784",
             "linecolor": "#506784",
             "minorgridcolor": "#506784",
             "startlinecolor": "#A2B1C6"
            },
            "type": "carpet"
           }
          ],
          "table": [
           {
            "cells": {
             "fill": {
              "color": "#506784"
             },
             "line": {
              "color": "rgb(17,17,17)"
             }
            },
            "header": {
             "fill": {
              "color": "#2a3f5f"
             },
             "line": {
              "color": "rgb(17,17,17)"
             }
            },
            "type": "table"
           }
          ],
          "barpolar": [
           {
            "marker": {
             "line": {
              "color": "rgb(17,17,17)",
              "width": 0.5
             },
             "pattern": {
              "fillmode": "overlay",
              "size": 10,
              "solidity": 0.2
             }
            },
            "type": "barpolar"
           }
          ],
          "pie": [
           {
            "automargin": true,
            "type": "pie"
           }
          ]
         },
         "layout": {
          "autotypenumbers": "strict",
          "colorway": [
           "#636efa",
           "#EF553B",
           "#00cc96",
           "#ab63fa",
           "#FFA15A",
           "#19d3f3",
           "#FF6692",
           "#B6E880",
           "#FF97FF",
           "#FECB52"
          ],
          "font": {
           "color": "#f2f5fa"
          },
          "hovermode": "closest",
          "hoverlabel": {
           "align": "left"
          },
          "paper_bgcolor": "rgb(17,17,17)",
          "plot_bgcolor": "rgb(17,17,17)",
          "polar": {
           "bgcolor": "rgb(17,17,17)",
           "angularaxis": {
            "gridcolor": "#506784",
            "linecolor": "#506784",
            "ticks": ""
           },
           "radialaxis": {
            "gridcolor": "#506784",
            "linecolor": "#506784",
            "ticks": ""
           }
          },
          "ternary": {
           "bgcolor": "rgb(17,17,17)",
           "aaxis": {
            "gridcolor": "#506784",
            "linecolor": "#506784",
            "ticks": ""
           },
           "baxis": {
            "gridcolor": "#506784",
            "linecolor": "#506784",
            "ticks": ""
           },
           "caxis": {
            "gridcolor": "#506784",
            "linecolor": "#506784",
            "ticks": ""
           }
          },
          "coloraxis": {
           "colorbar": {
            "outlinewidth": 0,
            "ticks": ""
           }
          },
          "colorscale": {
           "sequential": [
            [
             0.0,
             "#0d0887"
            ],
            [
             0.1111111111111111,
             "#46039f"
            ],
            [
             0.2222222222222222,
             "#7201a8"
            ],
            [
             0.3333333333333333,
             "#9c179e"
            ],
            [
             0.4444444444444444,
             "#bd3786"
            ],
            [
             0.5555555555555556,
             "#d8576b"
            ],
            [
             0.6666666666666666,
             "#ed7953"
            ],
            [
             0.7777777777777778,
             "#fb9f3a"
            ],
            [
             0.8888888888888888,
             "#fdca26"
            ],
            [
             1.0,
             "#f0f921"
            ]
           ],
           "sequentialminus": [
            [
             0.0,
             "#0d0887"
            ],
            [
             0.1111111111111111,
             "#46039f"
            ],
            [
             0.2222222222222222,
             "#7201a8"
            ],
            [
             0.3333333333333333,
             "#9c179e"
            ],
            [
             0.4444444444444444,
             "#bd3786"
            ],
            [
             0.5555555555555556,
             "#d8576b"
            ],
            [
             0.6666666666666666,
             "#ed7953"
            ],
            [
             0.7777777777777778,
             "#fb9f3a"
            ],
            [
             0.8888888888888888,
             "#fdca26"
            ],
            [
             1.0,
             "#f0f921"
            ]
           ],
           "diverging": [
            [
             0,
             "#8e0152"
            ],
            [
             0.1,
             "#c51b7d"
            ],
            [
             0.2,
             "#de77ae"
            ],
            [
             0.3,
             "#f1b6da"
            ],
            [
             0.4,
             "#fde0ef"
            ],
            [
             0.5,
             "#f7f7f7"
            ],
            [
             0.6,
             "#e6f5d0"
            ],
            [
             0.7,
             "#b8e186"
            ],
            [
             0.8,
             "#7fbc41"
            ],
            [
             0.9,
             "#4d9221"
            ],
            [
             1,
             "#276419"
            ]
           ]
          },
          "xaxis": {
           "gridcolor": "#283442",
           "linecolor": "#506784",
           "ticks": "",
           "title": {
            "standoff": 15
           },
           "zerolinecolor": "#283442",
           "automargin": true,
           "zerolinewidth": 2
          },
          "yaxis": {
           "gridcolor": "#283442",
           "linecolor": "#506784",
           "ticks": "",
           "title": {
            "standoff": 15
           },
           "zerolinecolor": "#283442",
           "automargin": true,
           "zerolinewidth": 2
          },
          "scene": {
           "xaxis": {
            "backgroundcolor": "rgb(17,17,17)",
            "gridcolor": "#506784",
            "linecolor": "#506784",
            "showbackground": true,
            "ticks": "",
            "zerolinecolor": "#C8D4E3",
            "gridwidth": 2
           },
           "yaxis": {
            "backgroundcolor": "rgb(17,17,17)",
            "gridcolor": "#506784",
            "linecolor": "#506784",
            "showbackground": true,
            "ticks": "",
            "zerolinecolor": "#C8D4E3",
            "gridwidth": 2
           },
           "zaxis": {
            "backgroundcolor": "rgb(17,17,17)",
            "gridcolor": "#506784",
            "linecolor": "#506784",
            "showbackground": true,
            "ticks": "",
            "zerolinecolor": "#C8D4E3",
            "gridwidth": 2
           }
          },
          "shapedefaults": {
           "line": {
            "color": "#f2f5fa"
           }
          },
          "annotationdefaults": {
           "arrowcolor": "#f2f5fa",
           "arrowhead": 0,
           "arrowwidth": 1
          },
          "geo": {
           "bgcolor": "rgb(17,17,17)",
           "landcolor": "rgb(17,17,17)",
           "subunitcolor": "#506784",
           "showland": true,
           "showlakes": true,
           "lakecolor": "rgb(17,17,17)"
          },
          "title": {
           "x": 0.05
          },
          "updatemenudefaults": {
           "bgcolor": "#506784",
           "borderwidth": 0
          },
          "sliderdefaults": {
           "bgcolor": "#C8D4E3",
           "borderwidth": 1,
           "bordercolor": "rgb(17,17,17)",
           "tickwidth": 0
          },
          "mapbox": {
           "style": "dark"
          }
         }
        },
        "yaxis": {
         "tickfont": {
          "color": "rgba(0.12156862745098039, 0.4666666666666667, 0.7058823529411765, 0.8)"
         }
        },
        "yaxis2": {
         "tickfont": {
          "color": "rgba(0.5643983083429451, 0.36993464052287583, 0.5132641291810843, 0.8)"
         },
         "overlaying": "y"
        },
        "yaxis3": {
         "tickfont": {
          "color": "rgba(0.7372549019607844, 0.7411764705882353, 0.13333333333333333, 0.8)"
         },
         "overlaying": "y"
        },
        "xaxis": {
         "tickformat": "%Y-%m-%d"
        },
        "title": {
         "text": "Balance: 6257.282589 USD ~ Equity: 6096.474271 ~ Margin: 3989.798400 ~ Free Margin: 2106.675871 ~ Margin Level: 1.528016"
        },
        "width": 1400,
        "height": 600
       },
       "config": {
        "plotlyServerURL": "https://plot.ly"
       }
      },
      "text/html": "<div>                            <div id=\"56190b6f-bb14-4507-849f-b6910b351797\" class=\"plotly-graph-div\" style=\"height:600px; width:1400px;\"></div>            <script type=\"text/javascript\">                require([\"plotly\"], function(Plotly) {                    window.PLOTLYENV=window.PLOTLYENV || {};                                    if (document.getElementById(\"56190b6f-bb14-4507-849f-b6910b351797\")) {                    Plotly.newPlot(                        \"56190b6f-bb14-4507-849f-b6910b351797\",                        [{\"hovertext\":[\"balance: 10000.000000 USD\\u003cbr\\u003eequity: 10000.000000\\u003cbr\\u003emargin: 0.000000\\u003cbr\\u003efree margin: 10000.000000\\u003cbr\\u003emargin level: inf\",\"balance: 10000.000000 USD\\u003cbr\\u003eequity: 10000.000000\\u003cbr\\u003emargin: 0.000000\\u003cbr\\u003efree margin: 10000.000000\\u003cbr\\u003emargin level: inf\",\"balance: 10000.000000 USD\\u003cbr\\u003eequity: 10000.000000\\u003cbr\\u003emargin: 0.000000\\u003cbr\\u003efree margin: 10000.000000\\u003cbr\\u003emargin level: inf\",\"balance: 10000.000000 USD\\u003cbr\\u003eequity: 10000.000000\\u003cbr\\u003emargin: 0.000000\\u003cbr\\u003efree margin: 10000.000000\\u003cbr\\u003emargin level: inf\",\"balance: 10000.000000 USD\\u003cbr\\u003eequity: 10000.000000\\u003cbr\\u003emargin: 0.000000\\u003cbr\\u003efree margin: 10000.000000\\u003cbr\\u003emargin level: inf\",\"balance: 10000.000000 USD\\u003cbr\\u003eequity: 10000.000000\\u003cbr\\u003emargin: 0.000000\\u003cbr\\u003efree margin: 10000.000000\\u003cbr\\u003emargin level: inf\",\"balance: 10000.000000 USD\\u003cbr\\u003eequity: 10000.000000\\u003cbr\\u003emargin: 0.000000\\u003cbr\\u003efree margin: 10000.000000\\u003cbr\\u003emargin level: inf\",\"balance: 10000.000000 USD\\u003cbr\\u003eequity: 10000.000000\\u003cbr\\u003emargin: 0.000000\\u003cbr\\u003efree margin: 10000.000000\\u003cbr\\u003emargin level: inf\",\"balance: 10000.000000 USD\\u003cbr\\u003eequity: 10000.000000\\u003cbr\\u003emargin: 0.000000\\u003cbr\\u003efree margin: 10000.000000\\u003cbr\\u003emargin level: inf\",\"balance: 10000.000000 USD\\u003cbr\\u003eequity: 10000.000000\\u003cbr\\u003emargin: 0.000000\\u003cbr\\u003efree margin: 10000.000000\\u003cbr\\u003emargin level: inf\",\"balance: 10000.000000 USD\\u003cbr\\u003eequity: 7962.618496\\u003cbr\\u003emargin: 5010.979000\\u003cbr\\u003efree margin: 2951.639496\\u003cbr\\u003emargin level: 1.589034\",\"balance: 7962.618496 USD\\u003cbr\\u003eequity: 7962.618496\\u003cbr\\u003emargin: 0.000000\\u003cbr\\u003efree margin: 7962.618496\\u003cbr\\u003emargin level: inf\",\"balance: 7962.618496 USD\\u003cbr\\u003eequity: 7962.618496\\u003cbr\\u003emargin: 0.000000\\u003cbr\\u003efree margin: 7962.618496\\u003cbr\\u003emargin level: inf\",\"balance: 7962.618496 USD\\u003cbr\\u003eequity: 7962.618496\\u003cbr\\u003emargin: 0.000000\\u003cbr\\u003efree margin: 7962.618496\\u003cbr\\u003emargin level: inf\",\"balance: 7962.618496 USD\\u003cbr\\u003eequity: 7962.618496\\u003cbr\\u003emargin: 0.000000\\u003cbr\\u003efree margin: 7962.618496\\u003cbr\\u003emargin level: inf\",\"balance: 7962.618496 USD\\u003cbr\\u003eequity: 7962.618496\\u003cbr\\u003emargin: 0.000000\\u003cbr\\u003efree margin: 7962.618496\\u003cbr\\u003emargin level: inf\",\"balance: 7962.618496 USD\\u003cbr\\u003eequity: 7894.357370\\u003cbr\\u003emargin: 2426.247800\\u003cbr\\u003efree margin: 5468.109570\\u003cbr\\u003emargin level: 3.253731\",\"balance: 7894.357370 USD\\u003cbr\\u003eequity: 7894.357370\\u003cbr\\u003emargin: 0.000000\\u003cbr\\u003efree margin: 7894.357370\\u003cbr\\u003emargin level: inf\",\"balance: 7894.357370 USD\\u003cbr\\u003eequity: 7894.357370\\u003cbr\\u003emargin: 0.000000\\u003cbr\\u003efree margin: 7894.357370\\u003cbr\\u003emargin level: inf\",\"balance: 7894.357370 USD\\u003cbr\\u003eequity: 7894.357370\\u003cbr\\u003emargin: 0.000000\\u003cbr\\u003efree margin: 7894.357370\\u003cbr\\u003emargin level: inf\",\"balance: 7894.357370 USD\\u003cbr\\u003eequity: 7894.357370\\u003cbr\\u003emargin: 0.000000\\u003cbr\\u003efree margin: 7894.357370\\u003cbr\\u003emargin level: inf\",\"balance: 7894.357370 USD\\u003cbr\\u003eequity: 7894.357370\\u003cbr\\u003emargin: 0.000000\\u003cbr\\u003efree margin: 7894.357370\\u003cbr\\u003emargin level: inf\",\"balance: 7894.357370 USD\\u003cbr\\u003eequity: 7894.357370\\u003cbr\\u003emargin: 0.000000\\u003cbr\\u003efree margin: 7894.357370\\u003cbr\\u003emargin level: inf\",\"balance: 7894.357370 USD\\u003cbr\\u003eequity: 7894.357370\\u003cbr\\u003emargin: 0.000000\\u003cbr\\u003efree margin: 7894.357370\\u003cbr\\u003emargin level: inf\",\"balance: 7894.357370 USD\\u003cbr\\u003eequity: 9186.383618\\u003cbr\\u003emargin: 5980.000000\\u003cbr\\u003efree margin: 3206.383618\\u003cbr\\u003emargin level: 1.536185\",\"balance: 9186.383618 USD\\u003cbr\\u003eequity: 9423.108104\\u003cbr\\u003emargin: 2490.000000\\u003cbr\\u003efree margin: 6933.108104\\u003cbr\\u003emargin level: 3.784381\",\"balance: 9186.383618 USD\\u003cbr\\u003eequity: 8742.712021\\u003cbr\\u003emargin: 2490.000000\\u003cbr\\u003efree margin: 6252.712021\\u003cbr\\u003emargin level: 3.511129\",\"balance: 8742.712021 USD\\u003cbr\\u003eequity: 8742.712021\\u003cbr\\u003emargin: 0.000000\\u003cbr\\u003efree margin: 8742.712021\\u003cbr\\u003emargin level: inf\",\"balance: 8742.712021 USD\\u003cbr\\u003eequity: 8742.712021\\u003cbr\\u003emargin: 0.000000\\u003cbr\\u003efree margin: 8742.712021\\u003cbr\\u003emargin level: inf\",\"balance: 8742.712021 USD\\u003cbr\\u003eequity: 8947.368524\\u003cbr\\u003emargin: 4860.120000\\u003cbr\\u003efree margin: 4087.248524\\u003cbr\\u003emargin level: 1.840977\",\"balance: 8947.368524 USD\\u003cbr\\u003eequity: 8947.368524\\u003cbr\\u003emargin: 0.000000\\u003cbr\\u003efree margin: 8947.368524\\u003cbr\\u003emargin level: inf\",\"balance: 8947.368524 USD\\u003cbr\\u003eequity: 8947.368524\\u003cbr\\u003emargin: 0.000000\\u003cbr\\u003efree margin: 8947.368524\\u003cbr\\u003emargin level: inf\",\"balance: 8947.368524 USD\\u003cbr\\u003eequity: 8947.368524\\u003cbr\\u003emargin: 0.000000\\u003cbr\\u003efree margin: 8947.368524\\u003cbr\\u003emargin level: inf\",\"balance: 8947.368524 USD\\u003cbr\\u003eequity: 8947.368524\\u003cbr\\u003emargin: 0.000000\\u003cbr\\u003efree margin: 8947.368524\\u003cbr\\u003emargin level: inf\",\"balance: 8947.368524 USD\\u003cbr\\u003eequity: 8947.368524\\u003cbr\\u003emargin: 0.000000\\u003cbr\\u003efree margin: 8947.368524\\u003cbr\\u003emargin level: inf\",\"balance: 8947.368524 USD\\u003cbr\\u003eequity: 8947.368524\\u003cbr\\u003emargin: 0.000000\\u003cbr\\u003efree margin: 8947.368524\\u003cbr\\u003emargin level: inf\",\"balance: 8947.368524 USD\\u003cbr\\u003eequity: 8947.368524\\u003cbr\\u003emargin: 0.000000\\u003cbr\\u003efree margin: 8947.368524\\u003cbr\\u003emargin level: inf\",\"balance: 8947.368524 USD\\u003cbr\\u003eequity: 8239.639877\\u003cbr\\u003emargin: 1433.457415\\u003cbr\\u003efree margin: 6806.182462\\u003cbr\\u003emargin level: 5.748088\",\"balance: 8239.639877 USD\\u003cbr\\u003eequity: 8239.639877\\u003cbr\\u003emargin: 0.000000\\u003cbr\\u003efree margin: 8239.639877\\u003cbr\\u003emargin level: inf\",\"balance: 8239.639877 USD\\u003cbr\\u003eequity: 8239.639877\\u003cbr\\u003emargin: 0.000000\\u003cbr\\u003efree margin: 8239.639877\\u003cbr\\u003emargin level: inf\",\"balance: 8239.639877 USD\\u003cbr\\u003eequity: 8239.639877\\u003cbr\\u003emargin: 0.000000\\u003cbr\\u003efree margin: 8239.639877\\u003cbr\\u003emargin level: inf\",\"balance: 8239.639877 USD\\u003cbr\\u003eequity: 8239.639877\\u003cbr\\u003emargin: 0.000000\\u003cbr\\u003efree margin: 8239.639877\\u003cbr\\u003emargin level: inf\",\"balance: 8239.639877 USD\\u003cbr\\u003eequity: 8239.639877\\u003cbr\\u003emargin: 0.000000\\u003cbr\\u003efree margin: 8239.639877\\u003cbr\\u003emargin level: inf\",\"balance: 8239.639877 USD\\u003cbr\\u003eequity: 8218.521895\\u003cbr\\u003emargin: 3262.765000\\u003cbr\\u003efree margin: 4955.756895\\u003cbr\\u003emargin level: 2.518883\",\"balance: 8239.639877 USD\\u003cbr\\u003eequity: 9326.771895\\u003cbr\\u003emargin: 3262.765000\\u003cbr\\u003efree margin: 6064.006895\\u003cbr\\u003emargin level: 2.858548\",\"balance: 8239.639877 USD\\u003cbr\\u003eequity: 10228.771895\\u003cbr\\u003emargin: 3262.765000\\u003cbr\\u003efree margin: 6966.006895\\u003cbr\\u003emargin level: 3.135001\",\"balance: 10228.771895 USD\\u003cbr\\u003eequity: 10228.771895\\u003cbr\\u003emargin: 0.000000\\u003cbr\\u003efree margin: 10228.771895\\u003cbr\\u003emargin level: inf\",\"balance: 10228.771895 USD\\u003cbr\\u003eequity: 8757.721436\\u003cbr\\u003emargin: 4998.547800\\u003cbr\\u003efree margin: 3759.173636\\u003cbr\\u003emargin level: 1.752053\",\"balance: 8757.721436 USD\\u003cbr\\u003eequity: 8757.721436\\u003cbr\\u003emargin: 0.000000\\u003cbr\\u003efree margin: 8757.721436\\u003cbr\\u003emargin level: inf\",\"balance: 8757.721436 USD\\u003cbr\\u003eequity: 10286.953142\\u003cbr\\u003emargin: 2194.211000\\u003cbr\\u003efree margin: 8092.742142\\u003cbr\\u003emargin level: 4.688224\",\"balance: 8757.721436 USD\\u003cbr\\u003eequity: 9189.903142\\u003cbr\\u003emargin: 2194.211000\\u003cbr\\u003efree margin: 6995.692142\\u003cbr\\u003emargin level: 4.188250\",\"balance: 9189.903142 USD\\u003cbr\\u003eequity: 9189.903142\\u003cbr\\u003emargin: 0.000000\\u003cbr\\u003efree margin: 9189.903142\\u003cbr\\u003emargin level: inf\",\"balance: 9189.903142 USD\\u003cbr\\u003eequity: 9189.903142\\u003cbr\\u003emargin: 0.000000\\u003cbr\\u003efree margin: 9189.903142\\u003cbr\\u003emargin level: inf\",\"balance: 9189.903142 USD\\u003cbr\\u003eequity: 9189.903142\\u003cbr\\u003emargin: 0.000000\\u003cbr\\u003efree margin: 9189.903142\\u003cbr\\u003emargin level: inf\",\"balance: 9189.903142 USD\\u003cbr\\u003eequity: 9189.903142\\u003cbr\\u003emargin: 0.000000\\u003cbr\\u003efree margin: 9189.903142\\u003cbr\\u003emargin level: inf\",\"balance: 9189.903142 USD\\u003cbr\\u003eequity: 9189.903142\\u003cbr\\u003emargin: 0.000000\\u003cbr\\u003efree margin: 9189.903142\\u003cbr\\u003emargin level: inf\",\"balance: 9189.903142 USD\\u003cbr\\u003eequity: 9189.903142\\u003cbr\\u003emargin: 0.000000\\u003cbr\\u003efree margin: 9189.903142\\u003cbr\\u003emargin level: inf\",\"balance: 9189.903142 USD\\u003cbr\\u003eequity: 9189.903142\\u003cbr\\u003emargin: 0.000000\\u003cbr\\u003efree margin: 9189.903142\\u003cbr\\u003emargin level: inf\",\"balance: 9189.903142 USD\\u003cbr\\u003eequity: 9189.903142\\u003cbr\\u003emargin: 0.000000\\u003cbr\\u003efree margin: 9189.903142\\u003cbr\\u003emargin level: inf\",\"balance: 9189.903142 USD\\u003cbr\\u003eequity: 9189.903142\\u003cbr\\u003emargin: 0.000000\\u003cbr\\u003efree margin: 9189.903142\\u003cbr\\u003emargin level: inf\",\"balance: 9189.903142 USD\\u003cbr\\u003eequity: 9189.903142\\u003cbr\\u003emargin: 0.000000\\u003cbr\\u003efree margin: 9189.903142\\u003cbr\\u003emargin level: inf\",\"balance: 9189.903142 USD\\u003cbr\\u003eequity: 9189.903142\\u003cbr\\u003emargin: 0.000000\\u003cbr\\u003efree margin: 9189.903142\\u003cbr\\u003emargin level: inf\",\"balance: 9189.903142 USD\\u003cbr\\u003eequity: 9189.903142\\u003cbr\\u003emargin: 0.000000\\u003cbr\\u003efree margin: 9189.903142\\u003cbr\\u003emargin level: inf\",\"balance: 9189.903142 USD\\u003cbr\\u003eequity: 9189.903142\\u003cbr\\u003emargin: 0.000000\\u003cbr\\u003efree margin: 9189.903142\\u003cbr\\u003emargin level: inf\",\"balance: 9189.903142 USD\\u003cbr\\u003eequity: 9189.903142\\u003cbr\\u003emargin: 0.000000\\u003cbr\\u003efree margin: 9189.903142\\u003cbr\\u003emargin level: inf\",\"balance: 9189.903142 USD\\u003cbr\\u003eequity: 9189.903142\\u003cbr\\u003emargin: 0.000000\\u003cbr\\u003efree margin: 9189.903142\\u003cbr\\u003emargin level: inf\",\"balance: 9189.903142 USD\\u003cbr\\u003eequity: 9189.903142\\u003cbr\\u003emargin: 0.000000\\u003cbr\\u003efree margin: 9189.903142\\u003cbr\\u003emargin level: inf\",\"balance: 9189.903142 USD\\u003cbr\\u003eequity: 9189.903142\\u003cbr\\u003emargin: 0.000000\\u003cbr\\u003efree margin: 9189.903142\\u003cbr\\u003emargin level: inf\",\"balance: 9189.903142 USD\\u003cbr\\u003eequity: 9189.903142\\u003cbr\\u003emargin: 0.000000\\u003cbr\\u003efree margin: 9189.903142\\u003cbr\\u003emargin level: inf\",\"balance: 9189.903142 USD\\u003cbr\\u003eequity: 9189.903142\\u003cbr\\u003emargin: 0.000000\\u003cbr\\u003efree margin: 9189.903142\\u003cbr\\u003emargin level: inf\",\"balance: 9189.903142 USD\\u003cbr\\u003eequity: 9189.903142\\u003cbr\\u003emargin: 0.000000\\u003cbr\\u003efree margin: 9189.903142\\u003cbr\\u003emargin level: inf\",\"balance: 9189.903142 USD\\u003cbr\\u003eequity: 9189.903142\\u003cbr\\u003emargin: 0.000000\\u003cbr\\u003efree margin: 9189.903142\\u003cbr\\u003emargin level: inf\",\"balance: 9189.903142 USD\\u003cbr\\u003eequity: 9044.708053\\u003cbr\\u003emargin: 246.321600\\u003cbr\\u003efree margin: 8798.386453\\u003cbr\\u003emargin level: 36.719102\",\"balance: 9044.708053 USD\\u003cbr\\u003eequity: 9044.708053\\u003cbr\\u003emargin: 0.000000\\u003cbr\\u003efree margin: 9044.708053\\u003cbr\\u003emargin level: inf\",\"balance: 9044.708053 USD\\u003cbr\\u003eequity: 9044.708053\\u003cbr\\u003emargin: 0.000000\\u003cbr\\u003efree margin: 9044.708053\\u003cbr\\u003emargin level: inf\",\"balance: 9044.708053 USD\\u003cbr\\u003eequity: 9044.708053\\u003cbr\\u003emargin: 0.000000\\u003cbr\\u003efree margin: 9044.708053\\u003cbr\\u003emargin level: inf\",\"balance: 9044.708053 USD\\u003cbr\\u003eequity: 9044.708053\\u003cbr\\u003emargin: 0.000000\\u003cbr\\u003efree margin: 9044.708053\\u003cbr\\u003emargin level: inf\",\"balance: 9044.708053 USD\\u003cbr\\u003eequity: 9044.708053\\u003cbr\\u003emargin: 0.000000\\u003cbr\\u003efree margin: 9044.708053\\u003cbr\\u003emargin level: inf\",\"balance: 9044.708053 USD\\u003cbr\\u003eequity: 9044.708053\\u003cbr\\u003emargin: 0.000000\\u003cbr\\u003efree margin: 9044.708053\\u003cbr\\u003emargin level: inf\",\"balance: 9044.708053 USD\\u003cbr\\u003eequity: 9044.708053\\u003cbr\\u003emargin: 0.000000\\u003cbr\\u003efree margin: 9044.708053\\u003cbr\\u003emargin level: inf\",\"balance: 9044.708053 USD\\u003cbr\\u003eequity: 9044.708053\\u003cbr\\u003emargin: 0.000000\\u003cbr\\u003efree margin: 9044.708053\\u003cbr\\u003emargin level: inf\",\"balance: 9044.708053 USD\\u003cbr\\u003eequity: 9044.708053\\u003cbr\\u003emargin: 0.000000\\u003cbr\\u003efree margin: 9044.708053\\u003cbr\\u003emargin level: inf\",\"balance: 9044.708053 USD\\u003cbr\\u003eequity: 9044.708053\\u003cbr\\u003emargin: 0.000000\\u003cbr\\u003efree margin: 9044.708053\\u003cbr\\u003emargin level: inf\",\"balance: 9044.708053 USD\\u003cbr\\u003eequity: 8856.802589\\u003cbr\\u003emargin: 7266.028000\\u003cbr\\u003efree margin: 1590.774589\\u003cbr\\u003emargin level: 1.218933\",\"balance: 9044.708053 USD\\u003cbr\\u003eequity: 8111.442589\\u003cbr\\u003emargin: 7266.028000\\u003cbr\\u003efree margin: 845.414589\\u003cbr\\u003emargin level: 1.116352\",\"balance: 9044.708053 USD\\u003cbr\\u003eequity: 6257.282589\\u003cbr\\u003emargin: 7266.028000\\u003cbr\\u003efree margin: -1008.745411\\u003cbr\\u003emargin level: 0.861170\",\"balance: 6257.282589 USD\\u003cbr\\u003eequity: 6257.282589\\u003cbr\\u003emargin: 0.000000\\u003cbr\\u003efree margin: 6257.282589\\u003cbr\\u003emargin level: inf\",\"balance: 6257.282589 USD\\u003cbr\\u003eequity: 6096.474271\\u003cbr\\u003emargin: 3989.798400\\u003cbr\\u003efree margin: 2106.675871\\u003cbr\\u003emargin level: 1.528016\"],\"legendgroup\":\"g1\",\"line\":{\"color\":\"rgba(0.12156862745098039, 0.4666666666666667, 0.7058823529411765, 1.0)\"},\"mode\":\"lines+markers\",\"name\":\"GBPCAD\",\"opacity\":1.0,\"x\":[\"2021-05-05T00:00:00+00:00\",\"2021-05-06T00:00:00+00:00\",\"2021-05-07T00:00:00+00:00\",\"2021-05-10T00:00:00+00:00\",\"2021-05-11T00:00:00+00:00\",\"2021-05-12T00:00:00+00:00\",\"2021-05-13T00:00:00+00:00\",\"2021-05-14T00:00:00+00:00\",\"2021-05-17T00:00:00+00:00\",\"2021-05-18T00:00:00+00:00\",\"2021-05-19T00:00:00+00:00\",\"2021-05-20T00:00:00+00:00\",\"2021-05-21T00:00:00+00:00\",\"2021-05-24T00:00:00+00:00\",\"2021-05-25T00:00:00+00:00\",\"2021-05-26T00:00:00+00:00\",\"2021-05-27T00:00:00+00:00\",\"2021-05-28T00:00:00+00:00\",\"2021-05-31T00:00:00+00:00\",\"2021-06-01T00:00:00+00:00\",\"2021-06-02T00:00:00+00:00\",\"2021-06-03T00:00:00+00:00\",\"2021-06-04T00:00:00+00:00\",\"2021-06-07T00:00:00+00:00\",\"2021-06-08T00:00:00+00:00\",\"2021-06-09T00:00:00+00:00\",\"2021-06-10T00:00:00+00:00\",\"2021-06-11T00:00:00+00:00\",\"2021-06-14T00:00:00+00:00\",\"2021-06-15T00:00:00+00:00\",\"2021-06-16T00:00:00+00:00\",\"2021-06-17T00:00:00+00:00\",\"2021-06-18T00:00:00+00:00\",\"2021-06-21T00:00:00+00:00\",\"2021-06-22T00:00:00+00:00\",\"2021-06-23T00:00:00+00:00\",\"2021-06-24T00:00:00+00:00\",\"2021-06-25T00:00:00+00:00\",\"2021-06-28T00:00:00+00:00\",\"2021-06-29T00:00:00+00:00\",\"2021-06-30T00:00:00+00:00\",\"2021-07-01T00:00:00+00:00\",\"2021-07-02T00:00:00+00:00\",\"2021-07-05T00:00:00+00:00\",\"2021-07-06T00:00:00+00:00\",\"2021-07-07T00:00:00+00:00\",\"2021-07-08T00:00:00+00:00\",\"2021-07-09T00:00:00+00:00\",\"2021-07-12T00:00:00+00:00\",\"2021-07-13T00:00:00+00:00\",\"2021-07-14T00:00:00+00:00\",\"2021-07-15T00:00:00+00:00\",\"2021-07-16T00:00:00+00:00\",\"2021-07-19T00:00:00+00:00\",\"2021-07-20T00:00:00+00:00\",\"2021-07-21T00:00:00+00:00\",\"2021-07-22T00:00:00+00:00\",\"2021-07-23T00:00:00+00:00\",\"2021-07-26T00:00:00+00:00\",\"2021-07-27T00:00:00+00:00\",\"2021-07-28T00:00:00+00:00\",\"2021-07-29T00:00:00+00:00\",\"2021-07-30T00:00:00+00:00\",\"2021-08-02T00:00:00+00:00\",\"2021-08-03T00:00:00+00:00\",\"2021-08-04T00:00:00+00:00\",\"2021-08-05T00:00:00+00:00\",\"2021-08-06T00:00:00+00:00\",\"2021-08-09T00:00:00+00:00\",\"2021-08-10T00:00:00+00:00\",\"2021-08-11T00:00:00+00:00\",\"2021-08-12T00:00:00+00:00\",\"2021-08-13T00:00:00+00:00\",\"2021-08-16T00:00:00+00:00\",\"2021-08-17T00:00:00+00:00\",\"2021-08-18T00:00:00+00:00\",\"2021-08-19T00:00:00+00:00\",\"2021-08-20T00:00:00+00:00\",\"2021-08-23T00:00:00+00:00\",\"2021-08-24T00:00:00+00:00\",\"2021-08-25T00:00:00+00:00\",\"2021-08-26T00:00:00+00:00\",\"2021-08-27T00:00:00+00:00\",\"2021-08-30T00:00:00+00:00\",\"2021-08-31T00:00:00+00:00\",\"2021-09-01T00:00:00+00:00\",\"2021-09-02T00:00:00+00:00\",\"2021-09-03T00:00:00+00:00\"],\"y\":[1.70525,1.68648,1.69619,1.7070699999999999,1.71108,1.70468,1.7082899999999999,1.70635,1.7059199999999999,1.71128,1.71211,1.7107,1.70726,1.7044000000000001,1.7066,1.71089,1.71345,1.71356,1.7132399999999999,1.70755,1.70462,1.7068400000000001,1.70999,1.71255,1.7139199999999999,1.70927,1.71433,1.71691,1.71341,1.71492,1.71638,1.71949,1.72017,1.72173,1.7158099999999998,1.7177,1.7149299999999998,1.70721,1.71244,1.71535,1.71437,1.71059,1.70511,1.70716,1.71879,1.72167,1.72692,1.7307000000000001,1.72832,1.72767,1.73236,1.7407,1.73684,1.74244,1.7273800000000001,1.72183,1.72851,1.72728,1.73336,1.7481900000000001,1.7405300000000001,1.73688,1.73335,1.73577,1.7441499999999999,1.7412999999999998,1.7408299999999999,1.7419799999999999,1.7408000000000001,1.7316500000000001,1.73282,1.72889,1.7357200000000002,1.7402199999999999,1.7349700000000001,1.74061,1.74874,1.7468,1.73506,1.72784,1.73259,1.7377,1.7353399999999999,1.7338900000000002,1.73501,1.7372800000000002,1.73603,1.7362600000000001],\"yaxis\":\"y\",\"type\":\"scatter\"},{\"hovertext\":[\"order id: \\u003cbr\\u003ehold probability: 0.0000\\u003cbr\\u003ehold: False\\u003cbr\\u003evolume: -88.649371\\u003cbr\\u003emodified volume: 35.0000\\u003cbr\\u003efee: nan\\u003cbr\\u003emargin: nan\\u003cbr\\u003eerror: low free margin (order margin=49647.13488780763, order profit=-2101.4885190494247, free margin=10000.0)\",\"order id: \\u003cbr\\u003ehold probability: 0.0000\\u003cbr\\u003ehold: False\\u003cbr\\u003evolume: 14.337197\\u003cbr\\u003emodified volume: 14.3400\\u003cbr\\u003efee: nan\\u003cbr\\u003emargin: nan\\u003cbr\\u003eerror: low free margin (order margin=20342.677314227432, order profit=-787.8408544807429, free margin=7962.618496246406)\",\"order id: \\u003cbr\\u003ehold probability: 0.0000\\u003cbr\\u003ehold: False\\u003cbr\\u003evolume: -18.111078\\u003cbr\\u003emodified volume: 18.1100\\u003cbr\\u003efee: nan\\u003cbr\\u003emargin: nan\\u003cbr\\u003eerror: low free margin (order margin=25632.73569785499, order profit=-1069.5612242687848, free margin=7962.618496246406)\",\"order id: \\u003cbr\\u003ehold probability: 0.0000\\u003cbr\\u003ehold: False\\u003cbr\\u003evolume: 41.154598\\u003cbr\\u003emodified volume: 35.0000\\u003cbr\\u003efee: nan\\u003cbr\\u003emargin: nan\\u003cbr\\u003eerror: low free margin (order margin=49507.25646699986, order profit=-1831.5996222978902, free margin=7962.618496246406)\",\"order id: \\u003cbr\\u003ehold probability: 0.0000\\u003cbr\\u003ehold: False\\u003cbr\\u003evolume: -96.890039\\u003cbr\\u003emodified volume: 35.0000\\u003cbr\\u003efee: nan\\u003cbr\\u003emargin: nan\\u003cbr\\u003eerror: low free margin (order margin=49400.775481582314, order profit=-2221.119814905377, free margin=7962.618496246406)\",\"order id: \\u003cbr\\u003ehold probability: 0.0000\\u003cbr\\u003ehold: False\\u003cbr\\u003evolume: -86.628537\\u003cbr\\u003emodified volume: 35.0000\\u003cbr\\u003efee: nan\\u003cbr\\u003emargin: nan\\u003cbr\\u003eerror: low free margin (order margin=49658.1246118816, order profit=-2425.5082489355536, free margin=7894.357369775957)\",\"order id: \\u003cbr\\u003ehold probability: 0.0000\\u003cbr\\u003ehold: False\\u003cbr\\u003evolume: 72.216616\\u003cbr\\u003emodified volume: 35.0000\\u003cbr\\u003efee: nan\\u003cbr\\u003emargin: nan\\u003cbr\\u003eerror: low free margin (order margin=49584.61806969573, order profit=-2179.0820506746977, free margin=7894.357369775957)\",\"order id: \\u003cbr\\u003ehold probability: 0.0000\\u003cbr\\u003ehold: False\\u003cbr\\u003evolume: -64.112470\\u003cbr\\u003emodified volume: 35.0000\\u003cbr\\u003efee: nan\\u003cbr\\u003emargin: nan\\u003cbr\\u003eerror: low free margin (order margin=49575.602200059635, order profit=-2082.9679186880862, free margin=7894.357369775957)\",\"order id: \\u003cbr\\u003ehold probability: 0.0025\\u003cbr\\u003ehold: False\\u003cbr\\u003evolume: 32.959276\\u003cbr\\u003emodified volume: 32.9600\\u003cbr\\u003efee: nan\\u003cbr\\u003emargin: nan\\u003cbr\\u003eerror: low free margin (order margin=46731.945755302775, order profit=-1847.318280212984, free margin=7894.357369775957)\",\"order id: \\u003cbr\\u003ehold probability: 0.0001\\u003cbr\\u003ehold: False\\u003cbr\\u003evolume: 68.616301\\u003cbr\\u003emodified volume: 35.0000\\u003cbr\\u003efee: nan\\u003cbr\\u003emargin: nan\\u003cbr\\u003eerror: low free margin (order margin=49408.21096447036, order profit=-2021.4289502714519, free margin=6933.108104227871)\",\"order id: \\u003cbr\\u003ehold probability: 0.0000\\u003cbr\\u003ehold: False\\u003cbr\\u003evolume: -48.277462\\u003cbr\\u003emodified volume: 35.0000\\u003cbr\\u003efee: nan\\u003cbr\\u003emargin: nan\\u003cbr\\u003eerror: low free margin (order margin=49617.58236305902, order profit=-2074.310001588025, free margin=6252.7120213993185)\",\"order id: \\u003cbr\\u003ehold probability: 0.0000\\u003cbr\\u003ehold: False\\u003cbr\\u003evolume: -73.732794\\u003cbr\\u003emodified volume: 35.0000\\u003cbr\\u003efee: nan\\u003cbr\\u003emargin: nan\\u003cbr\\u003eerror: low free margin (order margin=49394.48613725474, order profit=-2447.383632259393, free margin=8742.712021399318)\",\"order id: \\u003cbr\\u003ehold probability: 0.0000\\u003cbr\\u003ehold: False\\u003cbr\\u003evolume: 42.531399\\u003cbr\\u003emodified volume: 35.0000\\u003cbr\\u003efee: nan\\u003cbr\\u003emargin: nan\\u003cbr\\u003eerror: low free margin (order margin=48937.159894424716, order profit=-2113.1418524071432, free margin=8947.368523973133)\",\"order id: \\u003cbr\\u003ehold probability: 0.0000\\u003cbr\\u003ehold: False\\u003cbr\\u003evolume: -36.253631\\u003cbr\\u003emodified volume: 35.0000\\u003cbr\\u003efee: nan\\u003cbr\\u003emargin: nan\\u003cbr\\u003eerror: low free margin (order margin=48862.149399783804, order profit=-1928.1077146065757, free margin=8947.368523973133)\",\"order id: 6\\u003cbr\\u003ehold probability: 0.0000\\u003cbr\\u003ehold: False\\u003cbr\\u003evolume: 1.034334\\u003cbr\\u003emodified volume: 1.0300\\u003cbr\\u003efee: 0.000730\\u003cbr\\u003emargin: 1433.457415\\u003cbr\\u003eerror: \",\"order id: \\u003cbr\\u003ehold probability: 0.0000\\u003cbr\\u003ehold: False\\u003cbr\\u003evolume: -71.665877\\u003cbr\\u003emodified volume: 35.0000\\u003cbr\\u003efee: nan\\u003cbr\\u003emargin: nan\\u003cbr\\u003eerror: low free margin (order margin=48585.07135016466, order profit=-1894.8081402349944, free margin=8239.63987711048)\",\"order id: \\u003cbr\\u003ehold probability: 0.0000\\u003cbr\\u003ehold: False\\u003cbr\\u003evolume: -59.163977\\u003cbr\\u003emodified volume: 35.0000\\u003cbr\\u003efee: nan\\u003cbr\\u003emargin: nan\\u003cbr\\u003eerror: low free margin (order margin=48401.185770750984, order profit=-1821.5053926596124, free margin=8239.63987711048)\",\"order id: \\u003cbr\\u003ehold probability: 0.0000\\u003cbr\\u003ehold: False\\u003cbr\\u003evolume: 7.454418\\u003cbr\\u003emodified volume: 7.4500\\u003cbr\\u003efee: nan\\u003cbr\\u003emargin: nan\\u003cbr\\u003eerror: low free margin (order margin=10247.996059667887, order profit=-470.4083496173217, free margin=8239.63987711048)\",\"order id: \\u003cbr\\u003ehold probability: 0.0000\\u003cbr\\u003ehold: False\\u003cbr\\u003evolume: -39.258859\\u003cbr\\u003emodified volume: 35.0000\\u003cbr\\u003efee: nan\\u003cbr\\u003emargin: nan\\u003cbr\\u003eerror: low free margin (order margin=48415.15885684652, order profit=-2255.0784351883626, free margin=4955.75689454024)\",\"order id: \\u003cbr\\u003ehold probability: 0.0000\\u003cbr\\u003ehold: False\\u003cbr\\u003evolume: -75.408855\\u003cbr\\u003emodified volume: 35.0000\\u003cbr\\u003efee: nan\\u003cbr\\u003emargin: nan\\u003cbr\\u003eerror: low free margin (order margin=48279.37217575232, order profit=-1629.4274639884436, free margin=6966.006894540222)\",\"order id: \\u003cbr\\u003ehold probability: 0.0000\\u003cbr\\u003ehold: False\\u003cbr\\u003evolume: 45.558599\\u003cbr\\u003emodified volume: 35.0000\\u003cbr\\u003efee: nan\\u003cbr\\u003emargin: nan\\u003cbr\\u003eerror: low free margin (order margin=48583.01676157127, order profit=-2123.0273800368786, free margin=8757.721435955922)\",\"order id: \\u003cbr\\u003ehold probability: 0.3056\\u003cbr\\u003ehold: False\\u003cbr\\u003evolume: 70.534950\\u003cbr\\u003emodified volume: 35.0000\\u003cbr\\u003efee: nan\\u003cbr\\u003emargin: nan\\u003cbr\\u003eerror: low free margin (order margin=48323.730140971136, order profit=-1885.5180016655918, free margin=8092.742141771239)\",\"order id: \\u003cbr\\u003ehold probability: 0.0000\\u003cbr\\u003ehold: False\\u003cbr\\u003evolume: -18.132794\\u003cbr\\u003emodified volume: 18.1300\\u003cbr\\u003efee: nan\\u003cbr\\u003emargin: nan\\u003cbr\\u003eerror: low free margin (order margin=25060.06447873075, order profit=-1013.6660033144746, free margin=9189.90314177124)\",\"order id: \\u003cbr\\u003ehold probability: 0.0140\\u003cbr\\u003ehold: False\\u003cbr\\u003evolume: 41.144514\\u003cbr\\u003emodified volume: 35.0000\\u003cbr\\u003efee: nan\\u003cbr\\u003emargin: nan\\u003cbr\\u003eerror: low free margin (order margin=47848.94942489055, order profit=-1905.9328275276337, free margin=9189.90314177124)\",\"order id: \\u003cbr\\u003ehold probability: 0.0000\\u003cbr\\u003ehold: False\\u003cbr\\u003evolume: 38.181654\\u003cbr\\u003emodified volume: 35.0000\\u003cbr\\u003efee: nan\\u003cbr\\u003emargin: nan\\u003cbr\\u003eerror: low free margin (order margin=47980.931528662426, order profit=-2081.4027037684723, free margin=9189.90314177124)\",\"order id: \\u003cbr\\u003ehold probability: 0.0000\\u003cbr\\u003ehold: False\\u003cbr\\u003evolume: 64.621665\\u003cbr\\u003emodified volume: 35.0000\\u003cbr\\u003efee: nan\\u003cbr\\u003emargin: nan\\u003cbr\\u003eerror: low free margin (order margin=48112.117401754025, order profit=-1781.2231073525852, free margin=9189.90314177124)\",\"order id: \\u003cbr\\u003ehold probability: 0.0000\\u003cbr\\u003ehold: False\\u003cbr\\u003evolume: -34.640230\\u003cbr\\u003emodified volume: 34.6400\\u003cbr\\u003efee: nan\\u003cbr\\u003emargin: nan\\u003cbr\\u003eerror: low free margin (order margin=48057.91776777849, order profit=-1973.7091609733752, free margin=9189.90314177124)\",\"order id: \\u003cbr\\u003ehold probability: 0.0000\\u003cbr\\u003ehold: False\\u003cbr\\u003evolume: 66.657012\\u003cbr\\u003emodified volume: 35.0000\\u003cbr\\u003efee: nan\\u003cbr\\u003emargin: nan\\u003cbr\\u003eerror: low free margin (order margin=48640.67165966689, order profit=-1985.751796644768, free margin=9189.90314177124)\",\"order id: \\u003cbr\\u003ehold probability: 0.0000\\u003cbr\\u003ehold: False\\u003cbr\\u003evolume: -42.889244\\u003cbr\\u003emodified volume: 35.0000\\u003cbr\\u003efee: nan\\u003cbr\\u003emargin: nan\\u003cbr\\u003eerror: low free margin (order margin=48588.34397044004, order profit=-1858.5056210620257, free margin=9189.90314177124)\",\"order id: \\u003cbr\\u003ehold probability: 0.0000\\u003cbr\\u003ehold: False\\u003cbr\\u003evolume: 76.741367\\u003cbr\\u003emodified volume: 35.0000\\u003cbr\\u003efee: nan\\u003cbr\\u003emargin: nan\\u003cbr\\u003eerror: low free margin (order margin=48700.617480933084, order profit=-1819.6881288140678, free margin=9189.90314177124)\",\"order id: \\u003cbr\\u003ehold probability: 0.0000\\u003cbr\\u003ehold: False\\u003cbr\\u003evolume: -74.020442\\u003cbr\\u003emodified volume: 35.0000\\u003cbr\\u003efee: nan\\u003cbr\\u003emargin: nan\\u003cbr\\u003eerror: low free margin (order margin=48600.87719298245, order profit=-1966.725716675113, free margin=9189.90314177124)\",\"order id: \\u003cbr\\u003ehold probability: 0.0000\\u003cbr\\u003ehold: False\\u003cbr\\u003evolume: 42.879367\\u003cbr\\u003emodified volume: 35.0000\\u003cbr\\u003efee: nan\\u003cbr\\u003emargin: nan\\u003cbr\\u003eerror: low free margin (order margin=48748.699854383696, order profit=-2123.952050371312, free margin=9189.90314177124)\",\"order id: \\u003cbr\\u003ehold probability: 0.0000\\u003cbr\\u003ehold: False\\u003cbr\\u003evolume: 95.323564\\u003cbr\\u003emodified volume: 35.0000\\u003cbr\\u003efee: nan\\u003cbr\\u003emargin: nan\\u003cbr\\u003eerror: low free margin (order margin=48411.839414659094, order profit=-1910.3944401056701, free margin=9189.90314177124)\",\"order id: \\u003cbr\\u003ehold probability: 0.0000\\u003cbr\\u003ehold: False\\u003cbr\\u003evolume: 20.877315\\u003cbr\\u003emodified volume: 20.8800\\u003cbr\\u003efee: nan\\u003cbr\\u003emargin: nan\\u003cbr\\u003eerror: low free margin (order margin=28830.71231760788, order profit=-1068.7928365503728, free margin=9189.90314177124)\",\"order id: \\u003cbr\\u003ehold probability: 0.0000\\u003cbr\\u003ehold: False\\u003cbr\\u003evolume: 19.798165\\u003cbr\\u003emodified volume: 19.8000\\u003cbr\\u003efee: nan\\u003cbr\\u003emargin: nan\\u003cbr\\u003eerror: low free margin (order margin=27462.82673144693, order profit=-1173.9041509790513, free margin=8798.386452739074)\",\"order id: \\u003cbr\\u003ehold probability: 0.0000\\u003cbr\\u003ehold: False\\u003cbr\\u003evolume: -87.365751\\u003cbr\\u003emodified volume: 35.0000\\u003cbr\\u003efee: nan\\u003cbr\\u003emargin: nan\\u003cbr\\u003eerror: low free margin (order margin=48450.18773068601, order profit=-1997.2202525884222, free margin=9044.708052739074)\",\"order id: \\u003cbr\\u003ehold probability: 0.0000\\u003cbr\\u003ehold: False\\u003cbr\\u003evolume: 94.528720\\u003cbr\\u003emodified volume: 35.0000\\u003cbr\\u003efee: nan\\u003cbr\\u003emargin: nan\\u003cbr\\u003eerror: low free margin (order margin=48046.271063900786, order profit=-1931.645554027649, free margin=9044.708052739074)\",\"order id: \\u003cbr\\u003ehold probability: 0.0000\\u003cbr\\u003ehold: False\\u003cbr\\u003evolume: 96.100963\\u003cbr\\u003emodified volume: 35.0000\\u003cbr\\u003efee: nan\\u003cbr\\u003emargin: nan\\u003cbr\\u003eerror: low free margin (order margin=48167.25710109932, order profit=-1899.3177325738266, free margin=9044.708052739074)\",\"order id: \\u003cbr\\u003ehold probability: 0.0000\\u003cbr\\u003ehold: False\\u003cbr\\u003evolume: -20.749713\\u003cbr\\u003emodified volume: 20.7500\\u003cbr\\u003efee: nan\\u003cbr\\u003emargin: nan\\u003cbr\\u003eerror: low free margin (order margin=28424.231794030937, order profit=-1139.6719570524313, free margin=9044.708052739074)\",\"order id: \\u003cbr\\u003ehold probability: 0.0000\\u003cbr\\u003ehold: False\\u003cbr\\u003evolume: -7.598337\\u003cbr\\u003emodified volume: 7.6000\\u003cbr\\u003efee: nan\\u003cbr\\u003emargin: nan\\u003cbr\\u003eerror: low free margin (order margin=10453.655092537505, order profit=-432.99777144114233, free margin=1590.7745886257135)\",\"order id: \\u003cbr\\u003ehold probability: 0.3977\\u003cbr\\u003ehold: False\\u003cbr\\u003evolume: -84.237757\\u003cbr\\u003emodified volume: 35.0000\\u003cbr\\u003efee: nan\\u003cbr\\u003emargin: nan\\u003cbr\\u003eerror: low free margin (order margin=48137.79736660616, order profit=-1873.225042752824, free margin=845.4145886256165)\",\"order id: \\u003cbr\\u003ehold probability: 0.0000\\u003cbr\\u003ehold: False\\u003cbr\\u003evolume: -13.514809\\u003cbr\\u003emodified volume: 13.5100\\u003cbr\\u003efee: nan\\u003cbr\\u003emargin: nan\\u003cbr\\u003eerror: low free margin (order margin=18685.87693999171, order profit=-722.0950505445231, free margin=6257.282588625643)\"],\"legendgroup\":\"g1\",\"marker\":{\"color\":[\"gray\",\"gray\",\"gray\",\"gray\",\"gray\",\"gray\",\"gray\",\"gray\",\"gray\",\"gray\",\"gray\",\"gray\",\"gray\",\"gray\",\"green\",\"gray\",\"gray\",\"gray\",\"gray\",\"gray\",\"gray\",\"gray\",\"gray\",\"gray\",\"gray\",\"gray\",\"gray\",\"gray\",\"gray\",\"gray\",\"gray\",\"gray\",\"gray\",\"gray\",\"gray\",\"gray\",\"gray\",\"gray\",\"gray\",\"gray\",\"gray\",\"gray\"],\"size\":[30.0,17.013714285714286,19.383428571428574,30.0,30.0,30.0,30.0,30.0,28.717714285714287,30.0,30.0,30.0,30.0,30.0,8.647428571428572,30.0,30.0,12.682857142857143,30.0,30.0,30.0,30.0,19.396,30.0,30.0,30.0,29.773714285714288,30.0,30.0,30.0,30.0,30.0,30.0,21.12457142857143,20.44571428571429,30.0,30.0,30.0,21.042857142857144,12.777142857142858,30.0,16.492],\"symbol\":[\"triangle-down\",\"triangle-down\",\"triangle-down\",\"triangle-down\",\"triangle-down\",\"triangle-down\",\"triangle-down\",\"triangle-down\",\"triangle-down\",\"triangle-down\",\"triangle-down\",\"triangle-down\",\"triangle-down\",\"triangle-down\",\"triangle-up\",\"triangle-down\",\"triangle-down\",\"triangle-down\",\"triangle-down\",\"triangle-down\",\"triangle-down\",\"triangle-down\",\"triangle-down\",\"triangle-down\",\"triangle-down\",\"triangle-down\",\"triangle-down\",\"triangle-down\",\"triangle-down\",\"triangle-down\",\"triangle-down\",\"triangle-down\",\"triangle-down\",\"triangle-down\",\"triangle-down\",\"triangle-down\",\"triangle-down\",\"triangle-down\",\"triangle-down\",\"triangle-down\",\"triangle-down\",\"triangle-down\"]},\"mode\":\"markers\",\"name\":\"GBPCAD\",\"showlegend\":false,\"x\":[\"2021-05-18T00:00:00+00:00\",\"2021-05-20T00:00:00+00:00\",\"2021-05-24T00:00:00+00:00\",\"2021-05-25T00:00:00+00:00\",\"2021-05-26T00:00:00+00:00\",\"2021-05-28T00:00:00+00:00\",\"2021-06-02T00:00:00+00:00\",\"2021-06-04T00:00:00+00:00\",\"2021-06-07T00:00:00+00:00\",\"2021-06-09T00:00:00+00:00\",\"2021-06-10T00:00:00+00:00\",\"2021-06-11T00:00:00+00:00\",\"2021-06-16T00:00:00+00:00\",\"2021-06-23T00:00:00+00:00\",\"2021-06-24T00:00:00+00:00\",\"2021-06-25T00:00:00+00:00\",\"2021-06-30T00:00:00+00:00\",\"2021-07-01T00:00:00+00:00\",\"2021-07-05T00:00:00+00:00\",\"2021-07-07T00:00:00+00:00\",\"2021-07-12T00:00:00+00:00\",\"2021-07-13T00:00:00+00:00\",\"2021-07-15T00:00:00+00:00\",\"2021-07-19T00:00:00+00:00\",\"2021-07-21T00:00:00+00:00\",\"2021-07-23T00:00:00+00:00\",\"2021-07-27T00:00:00+00:00\",\"2021-07-28T00:00:00+00:00\",\"2021-08-02T00:00:00+00:00\",\"2021-08-03T00:00:00+00:00\",\"2021-08-04T00:00:00+00:00\",\"2021-08-05T00:00:00+00:00\",\"2021-08-10T00:00:00+00:00\",\"2021-08-12T00:00:00+00:00\",\"2021-08-13T00:00:00+00:00\",\"2021-08-16T00:00:00+00:00\",\"2021-08-24T00:00:00+00:00\",\"2021-08-25T00:00:00+00:00\",\"2021-08-26T00:00:00+00:00\",\"2021-08-30T00:00:00+00:00\",\"2021-08-31T00:00:00+00:00\",\"2021-09-02T00:00:00+00:00\"],\"y\":[1.71128,1.7107,1.7044000000000001,1.7066,1.71089,1.71356,1.70462,1.70999,1.71255,1.70927,1.71433,1.71691,1.71638,1.7177,1.7149299999999998,1.70721,1.71437,1.71059,1.70716,1.72167,1.72832,1.72767,1.7407,1.74244,1.72183,1.72728,1.7481900000000001,1.7405300000000001,1.73577,1.7441499999999999,1.7412999999999998,1.7408299999999999,1.7316500000000001,1.72889,1.7357200000000002,1.7402199999999999,1.72784,1.73259,1.7377,1.7338900000000002,1.73501,1.73603],\"yaxis\":\"y\",\"type\":\"scatter\"},{\"hovertext\":[\"order id: 6\\u003cbr\\u003eorder type: Buy\\u003cbr\\u003eclose probability: 1.0000\\u003cbr\\u003emargin: 1433.457415\\u003cbr\\u003eprofit: -707.728647\"],\"legendgroup\":\"g1\",\"marker\":{\"color\":\"black\",\"line\":{\"width\":1.5},\"size\":7,\"symbol\":\"line-ns\"},\"mode\":\"markers\",\"name\":\"GBPCAD\",\"showlegend\":false,\"x\":[\"2021-06-25T00:00:00+00:00\"],\"y\":[1.70721],\"yaxis\":\"y\",\"type\":\"scatter\"},{\"hovertext\":[\"balance: 10000.000000 USD\\u003cbr\\u003eequity: 10000.000000\\u003cbr\\u003emargin: 0.000000\\u003cbr\\u003efree margin: 10000.000000\\u003cbr\\u003emargin level: inf\",\"balance: 10000.000000 USD\\u003cbr\\u003eequity: 10000.000000\\u003cbr\\u003emargin: 0.000000\\u003cbr\\u003efree margin: 10000.000000\\u003cbr\\u003emargin level: inf\",\"balance: 10000.000000 USD\\u003cbr\\u003eequity: 10000.000000\\u003cbr\\u003emargin: 0.000000\\u003cbr\\u003efree margin: 10000.000000\\u003cbr\\u003emargin level: inf\",\"balance: 10000.000000 USD\\u003cbr\\u003eequity: 10000.000000\\u003cbr\\u003emargin: 0.000000\\u003cbr\\u003efree margin: 10000.000000\\u003cbr\\u003emargin level: inf\",\"balance: 10000.000000 USD\\u003cbr\\u003eequity: 10000.000000\\u003cbr\\u003emargin: 0.000000\\u003cbr\\u003efree margin: 10000.000000\\u003cbr\\u003emargin level: inf\",\"balance: 10000.000000 USD\\u003cbr\\u003eequity: 10000.000000\\u003cbr\\u003emargin: 0.000000\\u003cbr\\u003efree margin: 10000.000000\\u003cbr\\u003emargin level: inf\",\"balance: 10000.000000 USD\\u003cbr\\u003eequity: 10000.000000\\u003cbr\\u003emargin: 0.000000\\u003cbr\\u003efree margin: 10000.000000\\u003cbr\\u003emargin level: inf\",\"balance: 10000.000000 USD\\u003cbr\\u003eequity: 10000.000000\\u003cbr\\u003emargin: 0.000000\\u003cbr\\u003efree margin: 10000.000000\\u003cbr\\u003emargin level: inf\",\"balance: 10000.000000 USD\\u003cbr\\u003eequity: 10000.000000\\u003cbr\\u003emargin: 0.000000\\u003cbr\\u003efree margin: 10000.000000\\u003cbr\\u003emargin level: inf\",\"balance: 10000.000000 USD\\u003cbr\\u003eequity: 10000.000000\\u003cbr\\u003emargin: 0.000000\\u003cbr\\u003efree margin: 10000.000000\\u003cbr\\u003emargin level: inf\",\"balance: 10000.000000 USD\\u003cbr\\u003eequity: 7962.618496\\u003cbr\\u003emargin: 5010.979000\\u003cbr\\u003efree margin: 2951.639496\\u003cbr\\u003emargin level: 1.589034\",\"balance: 7962.618496 USD\\u003cbr\\u003eequity: 7962.618496\\u003cbr\\u003emargin: 0.000000\\u003cbr\\u003efree margin: 7962.618496\\u003cbr\\u003emargin level: inf\",\"balance: 7962.618496 USD\\u003cbr\\u003eequity: 7962.618496\\u003cbr\\u003emargin: 0.000000\\u003cbr\\u003efree margin: 7962.618496\\u003cbr\\u003emargin level: inf\",\"balance: 7962.618496 USD\\u003cbr\\u003eequity: 7962.618496\\u003cbr\\u003emargin: 0.000000\\u003cbr\\u003efree margin: 7962.618496\\u003cbr\\u003emargin level: inf\",\"balance: 7962.618496 USD\\u003cbr\\u003eequity: 7962.618496\\u003cbr\\u003emargin: 0.000000\\u003cbr\\u003efree margin: 7962.618496\\u003cbr\\u003emargin level: inf\",\"balance: 7962.618496 USD\\u003cbr\\u003eequity: 7962.618496\\u003cbr\\u003emargin: 0.000000\\u003cbr\\u003efree margin: 7962.618496\\u003cbr\\u003emargin level: inf\",\"balance: 7962.618496 USD\\u003cbr\\u003eequity: 7894.357370\\u003cbr\\u003emargin: 2426.247800\\u003cbr\\u003efree margin: 5468.109570\\u003cbr\\u003emargin level: 3.253731\",\"balance: 7894.357370 USD\\u003cbr\\u003eequity: 7894.357370\\u003cbr\\u003emargin: 0.000000\\u003cbr\\u003efree margin: 7894.357370\\u003cbr\\u003emargin level: inf\",\"balance: 7894.357370 USD\\u003cbr\\u003eequity: 7894.357370\\u003cbr\\u003emargin: 0.000000\\u003cbr\\u003efree margin: 7894.357370\\u003cbr\\u003emargin level: inf\",\"balance: 7894.357370 USD\\u003cbr\\u003eequity: 7894.357370\\u003cbr\\u003emargin: 0.000000\\u003cbr\\u003efree margin: 7894.357370\\u003cbr\\u003emargin level: inf\",\"balance: 7894.357370 USD\\u003cbr\\u003eequity: 7894.357370\\u003cbr\\u003emargin: 0.000000\\u003cbr\\u003efree margin: 7894.357370\\u003cbr\\u003emargin level: inf\",\"balance: 7894.357370 USD\\u003cbr\\u003eequity: 7894.357370\\u003cbr\\u003emargin: 0.000000\\u003cbr\\u003efree margin: 7894.357370\\u003cbr\\u003emargin level: inf\",\"balance: 7894.357370 USD\\u003cbr\\u003eequity: 7894.357370\\u003cbr\\u003emargin: 0.000000\\u003cbr\\u003efree margin: 7894.357370\\u003cbr\\u003emargin level: inf\",\"balance: 7894.357370 USD\\u003cbr\\u003eequity: 7894.357370\\u003cbr\\u003emargin: 0.000000\\u003cbr\\u003efree margin: 7894.357370\\u003cbr\\u003emargin level: inf\",\"balance: 7894.357370 USD\\u003cbr\\u003eequity: 9186.383618\\u003cbr\\u003emargin: 5980.000000\\u003cbr\\u003efree margin: 3206.383618\\u003cbr\\u003emargin level: 1.536185\",\"balance: 9186.383618 USD\\u003cbr\\u003eequity: 9423.108104\\u003cbr\\u003emargin: 2490.000000\\u003cbr\\u003efree margin: 6933.108104\\u003cbr\\u003emargin level: 3.784381\",\"balance: 9186.383618 USD\\u003cbr\\u003eequity: 8742.712021\\u003cbr\\u003emargin: 2490.000000\\u003cbr\\u003efree margin: 6252.712021\\u003cbr\\u003emargin level: 3.511129\",\"balance: 8742.712021 USD\\u003cbr\\u003eequity: 8742.712021\\u003cbr\\u003emargin: 0.000000\\u003cbr\\u003efree margin: 8742.712021\\u003cbr\\u003emargin level: inf\",\"balance: 8742.712021 USD\\u003cbr\\u003eequity: 8742.712021\\u003cbr\\u003emargin: 0.000000\\u003cbr\\u003efree margin: 8742.712021\\u003cbr\\u003emargin level: inf\",\"balance: 8742.712021 USD\\u003cbr\\u003eequity: 8947.368524\\u003cbr\\u003emargin: 4860.120000\\u003cbr\\u003efree margin: 4087.248524\\u003cbr\\u003emargin level: 1.840977\",\"balance: 8947.368524 USD\\u003cbr\\u003eequity: 8947.368524\\u003cbr\\u003emargin: 0.000000\\u003cbr\\u003efree margin: 8947.368524\\u003cbr\\u003emargin level: inf\",\"balance: 8947.368524 USD\\u003cbr\\u003eequity: 8947.368524\\u003cbr\\u003emargin: 0.000000\\u003cbr\\u003efree margin: 8947.368524\\u003cbr\\u003emargin level: inf\",\"balance: 8947.368524 USD\\u003cbr\\u003eequity: 8947.368524\\u003cbr\\u003emargin: 0.000000\\u003cbr\\u003efree margin: 8947.368524\\u003cbr\\u003emargin level: inf\",\"balance: 8947.368524 USD\\u003cbr\\u003eequity: 8947.368524\\u003cbr\\u003emargin: 0.000000\\u003cbr\\u003efree margin: 8947.368524\\u003cbr\\u003emargin level: inf\",\"balance: 8947.368524 USD\\u003cbr\\u003eequity: 8947.368524\\u003cbr\\u003emargin: 0.000000\\u003cbr\\u003efree margin: 8947.368524\\u003cbr\\u003emargin level: inf\",\"balance: 8947.368524 USD\\u003cbr\\u003eequity: 8947.368524\\u003cbr\\u003emargin: 0.000000\\u003cbr\\u003efree margin: 8947.368524\\u003cbr\\u003emargin level: inf\",\"balance: 8947.368524 USD\\u003cbr\\u003eequity: 8947.368524\\u003cbr\\u003emargin: 0.000000\\u003cbr\\u003efree margin: 8947.368524\\u003cbr\\u003emargin level: inf\",\"balance: 8947.368524 USD\\u003cbr\\u003eequity: 8239.639877\\u003cbr\\u003emargin: 1433.457415\\u003cbr\\u003efree margin: 6806.182462\\u003cbr\\u003emargin level: 5.748088\",\"balance: 8239.639877 USD\\u003cbr\\u003eequity: 8239.639877\\u003cbr\\u003emargin: 0.000000\\u003cbr\\u003efree margin: 8239.639877\\u003cbr\\u003emargin level: inf\",\"balance: 8239.639877 USD\\u003cbr\\u003eequity: 8239.639877\\u003cbr\\u003emargin: 0.000000\\u003cbr\\u003efree margin: 8239.639877\\u003cbr\\u003emargin level: inf\",\"balance: 8239.639877 USD\\u003cbr\\u003eequity: 8239.639877\\u003cbr\\u003emargin: 0.000000\\u003cbr\\u003efree margin: 8239.639877\\u003cbr\\u003emargin level: inf\",\"balance: 8239.639877 USD\\u003cbr\\u003eequity: 8239.639877\\u003cbr\\u003emargin: 0.000000\\u003cbr\\u003efree margin: 8239.639877\\u003cbr\\u003emargin level: inf\",\"balance: 8239.639877 USD\\u003cbr\\u003eequity: 8239.639877\\u003cbr\\u003emargin: 0.000000\\u003cbr\\u003efree margin: 8239.639877\\u003cbr\\u003emargin level: inf\",\"balance: 8239.639877 USD\\u003cbr\\u003eequity: 8218.521895\\u003cbr\\u003emargin: 3262.765000\\u003cbr\\u003efree margin: 4955.756895\\u003cbr\\u003emargin level: 2.518883\",\"balance: 8239.639877 USD\\u003cbr\\u003eequity: 9326.771895\\u003cbr\\u003emargin: 3262.765000\\u003cbr\\u003efree margin: 6064.006895\\u003cbr\\u003emargin level: 2.858548\",\"balance: 8239.639877 USD\\u003cbr\\u003eequity: 10228.771895\\u003cbr\\u003emargin: 3262.765000\\u003cbr\\u003efree margin: 6966.006895\\u003cbr\\u003emargin level: 3.135001\",\"balance: 10228.771895 USD\\u003cbr\\u003eequity: 10228.771895\\u003cbr\\u003emargin: 0.000000\\u003cbr\\u003efree margin: 10228.771895\\u003cbr\\u003emargin level: inf\",\"balance: 10228.771895 USD\\u003cbr\\u003eequity: 8757.721436\\u003cbr\\u003emargin: 4998.547800\\u003cbr\\u003efree margin: 3759.173636\\u003cbr\\u003emargin level: 1.752053\",\"balance: 8757.721436 USD\\u003cbr\\u003eequity: 8757.721436\\u003cbr\\u003emargin: 0.000000\\u003cbr\\u003efree margin: 8757.721436\\u003cbr\\u003emargin level: inf\",\"balance: 8757.721436 USD\\u003cbr\\u003eequity: 10286.953142\\u003cbr\\u003emargin: 2194.211000\\u003cbr\\u003efree margin: 8092.742142\\u003cbr\\u003emargin level: 4.688224\",\"balance: 8757.721436 USD\\u003cbr\\u003eequity: 9189.903142\\u003cbr\\u003emargin: 2194.211000\\u003cbr\\u003efree margin: 6995.692142\\u003cbr\\u003emargin level: 4.188250\",\"balance: 9189.903142 USD\\u003cbr\\u003eequity: 9189.903142\\u003cbr\\u003emargin: 0.000000\\u003cbr\\u003efree margin: 9189.903142\\u003cbr\\u003emargin level: inf\",\"balance: 9189.903142 USD\\u003cbr\\u003eequity: 9189.903142\\u003cbr\\u003emargin: 0.000000\\u003cbr\\u003efree margin: 9189.903142\\u003cbr\\u003emargin level: inf\",\"balance: 9189.903142 USD\\u003cbr\\u003eequity: 9189.903142\\u003cbr\\u003emargin: 0.000000\\u003cbr\\u003efree margin: 9189.903142\\u003cbr\\u003emargin level: inf\",\"balance: 9189.903142 USD\\u003cbr\\u003eequity: 9189.903142\\u003cbr\\u003emargin: 0.000000\\u003cbr\\u003efree margin: 9189.903142\\u003cbr\\u003emargin level: inf\",\"balance: 9189.903142 USD\\u003cbr\\u003eequity: 9189.903142\\u003cbr\\u003emargin: 0.000000\\u003cbr\\u003efree margin: 9189.903142\\u003cbr\\u003emargin level: inf\",\"balance: 9189.903142 USD\\u003cbr\\u003eequity: 9189.903142\\u003cbr\\u003emargin: 0.000000\\u003cbr\\u003efree margin: 9189.903142\\u003cbr\\u003emargin level: inf\",\"balance: 9189.903142 USD\\u003cbr\\u003eequity: 9189.903142\\u003cbr\\u003emargin: 0.000000\\u003cbr\\u003efree margin: 9189.903142\\u003cbr\\u003emargin level: inf\",\"balance: 9189.903142 USD\\u003cbr\\u003eequity: 9189.903142\\u003cbr\\u003emargin: 0.000000\\u003cbr\\u003efree margin: 9189.903142\\u003cbr\\u003emargin level: inf\",\"balance: 9189.903142 USD\\u003cbr\\u003eequity: 9189.903142\\u003cbr\\u003emargin: 0.000000\\u003cbr\\u003efree margin: 9189.903142\\u003cbr\\u003emargin level: inf\",\"balance: 9189.903142 USD\\u003cbr\\u003eequity: 9189.903142\\u003cbr\\u003emargin: 0.000000\\u003cbr\\u003efree margin: 9189.903142\\u003cbr\\u003emargin level: inf\",\"balance: 9189.903142 USD\\u003cbr\\u003eequity: 9189.903142\\u003cbr\\u003emargin: 0.000000\\u003cbr\\u003efree margin: 9189.903142\\u003cbr\\u003emargin level: inf\",\"balance: 9189.903142 USD\\u003cbr\\u003eequity: 9189.903142\\u003cbr\\u003emargin: 0.000000\\u003cbr\\u003efree margin: 9189.903142\\u003cbr\\u003emargin level: inf\",\"balance: 9189.903142 USD\\u003cbr\\u003eequity: 9189.903142\\u003cbr\\u003emargin: 0.000000\\u003cbr\\u003efree margin: 9189.903142\\u003cbr\\u003emargin level: inf\",\"balance: 9189.903142 USD\\u003cbr\\u003eequity: 9189.903142\\u003cbr\\u003emargin: 0.000000\\u003cbr\\u003efree margin: 9189.903142\\u003cbr\\u003emargin level: inf\",\"balance: 9189.903142 USD\\u003cbr\\u003eequity: 9189.903142\\u003cbr\\u003emargin: 0.000000\\u003cbr\\u003efree margin: 9189.903142\\u003cbr\\u003emargin level: inf\",\"balance: 9189.903142 USD\\u003cbr\\u003eequity: 9189.903142\\u003cbr\\u003emargin: 0.000000\\u003cbr\\u003efree margin: 9189.903142\\u003cbr\\u003emargin level: inf\",\"balance: 9189.903142 USD\\u003cbr\\u003eequity: 9189.903142\\u003cbr\\u003emargin: 0.000000\\u003cbr\\u003efree margin: 9189.903142\\u003cbr\\u003emargin level: inf\",\"balance: 9189.903142 USD\\u003cbr\\u003eequity: 9189.903142\\u003cbr\\u003emargin: 0.000000\\u003cbr\\u003efree margin: 9189.903142\\u003cbr\\u003emargin level: inf\",\"balance: 9189.903142 USD\\u003cbr\\u003eequity: 9189.903142\\u003cbr\\u003emargin: 0.000000\\u003cbr\\u003efree margin: 9189.903142\\u003cbr\\u003emargin level: inf\",\"balance: 9189.903142 USD\\u003cbr\\u003eequity: 9189.903142\\u003cbr\\u003emargin: 0.000000\\u003cbr\\u003efree margin: 9189.903142\\u003cbr\\u003emargin level: inf\",\"balance: 9189.903142 USD\\u003cbr\\u003eequity: 9189.903142\\u003cbr\\u003emargin: 0.000000\\u003cbr\\u003efree margin: 9189.903142\\u003cbr\\u003emargin level: inf\",\"balance: 9189.903142 USD\\u003cbr\\u003eequity: 9044.708053\\u003cbr\\u003emargin: 246.321600\\u003cbr\\u003efree margin: 8798.386453\\u003cbr\\u003emargin level: 36.719102\",\"balance: 9044.708053 USD\\u003cbr\\u003eequity: 9044.708053\\u003cbr\\u003emargin: 0.000000\\u003cbr\\u003efree margin: 9044.708053\\u003cbr\\u003emargin level: inf\",\"balance: 9044.708053 USD\\u003cbr\\u003eequity: 9044.708053\\u003cbr\\u003emargin: 0.000000\\u003cbr\\u003efree margin: 9044.708053\\u003cbr\\u003emargin level: inf\",\"balance: 9044.708053 USD\\u003cbr\\u003eequity: 9044.708053\\u003cbr\\u003emargin: 0.000000\\u003cbr\\u003efree margin: 9044.708053\\u003cbr\\u003emargin level: inf\",\"balance: 9044.708053 USD\\u003cbr\\u003eequity: 9044.708053\\u003cbr\\u003emargin: 0.000000\\u003cbr\\u003efree margin: 9044.708053\\u003cbr\\u003emargin level: inf\",\"balance: 9044.708053 USD\\u003cbr\\u003eequity: 9044.708053\\u003cbr\\u003emargin: 0.000000\\u003cbr\\u003efree margin: 9044.708053\\u003cbr\\u003emargin level: inf\",\"balance: 9044.708053 USD\\u003cbr\\u003eequity: 9044.708053\\u003cbr\\u003emargin: 0.000000\\u003cbr\\u003efree margin: 9044.708053\\u003cbr\\u003emargin level: inf\",\"balance: 9044.708053 USD\\u003cbr\\u003eequity: 9044.708053\\u003cbr\\u003emargin: 0.000000\\u003cbr\\u003efree margin: 9044.708053\\u003cbr\\u003emargin level: inf\",\"balance: 9044.708053 USD\\u003cbr\\u003eequity: 9044.708053\\u003cbr\\u003emargin: 0.000000\\u003cbr\\u003efree margin: 9044.708053\\u003cbr\\u003emargin level: inf\",\"balance: 9044.708053 USD\\u003cbr\\u003eequity: 9044.708053\\u003cbr\\u003emargin: 0.000000\\u003cbr\\u003efree margin: 9044.708053\\u003cbr\\u003emargin level: inf\",\"balance: 9044.708053 USD\\u003cbr\\u003eequity: 9044.708053\\u003cbr\\u003emargin: 0.000000\\u003cbr\\u003efree margin: 9044.708053\\u003cbr\\u003emargin level: inf\",\"balance: 9044.708053 USD\\u003cbr\\u003eequity: 8856.802589\\u003cbr\\u003emargin: 7266.028000\\u003cbr\\u003efree margin: 1590.774589\\u003cbr\\u003emargin level: 1.218933\",\"balance: 9044.708053 USD\\u003cbr\\u003eequity: 8111.442589\\u003cbr\\u003emargin: 7266.028000\\u003cbr\\u003efree margin: 845.414589\\u003cbr\\u003emargin level: 1.116352\",\"balance: 9044.708053 USD\\u003cbr\\u003eequity: 6257.282589\\u003cbr\\u003emargin: 7266.028000\\u003cbr\\u003efree margin: -1008.745411\\u003cbr\\u003emargin level: 0.861170\",\"balance: 6257.282589 USD\\u003cbr\\u003eequity: 6257.282589\\u003cbr\\u003emargin: 0.000000\\u003cbr\\u003efree margin: 6257.282589\\u003cbr\\u003emargin level: inf\",\"balance: 6257.282589 USD\\u003cbr\\u003eequity: 6096.474271\\u003cbr\\u003emargin: 3989.798400\\u003cbr\\u003efree margin: 2106.675871\\u003cbr\\u003emargin level: 1.528016\"],\"legendgroup\":\"g2\",\"line\":{\"color\":\"rgba(0.5643983083429451, 0.36993464052287583, 0.5132641291810843, 1.0)\"},\"mode\":\"lines+markers\",\"name\":\"EURUSD\",\"opacity\":1.0,\"x\":[\"2021-05-05T00:00:00+00:00\",\"2021-05-06T00:00:00+00:00\",\"2021-05-07T00:00:00+00:00\",\"2021-05-10T00:00:00+00:00\",\"2021-05-11T00:00:00+00:00\",\"2021-05-12T00:00:00+00:00\",\"2021-05-13T00:00:00+00:00\",\"2021-05-14T00:00:00+00:00\",\"2021-05-17T00:00:00+00:00\",\"2021-05-18T00:00:00+00:00\",\"2021-05-19T00:00:00+00:00\",\"2021-05-20T00:00:00+00:00\",\"2021-05-21T00:00:00+00:00\",\"2021-05-24T00:00:00+00:00\",\"2021-05-25T00:00:00+00:00\",\"2021-05-26T00:00:00+00:00\",\"2021-05-27T00:00:00+00:00\",\"2021-05-28T00:00:00+00:00\",\"2021-05-31T00:00:00+00:00\",\"2021-06-01T00:00:00+00:00\",\"2021-06-02T00:00:00+00:00\",\"2021-06-03T00:00:00+00:00\",\"2021-06-04T00:00:00+00:00\",\"2021-06-07T00:00:00+00:00\",\"2021-06-08T00:00:00+00:00\",\"2021-06-09T00:00:00+00:00\",\"2021-06-10T00:00:00+00:00\",\"2021-06-11T00:00:00+00:00\",\"2021-06-14T00:00:00+00:00\",\"2021-06-15T00:00:00+00:00\",\"2021-06-16T00:00:00+00:00\",\"2021-06-17T00:00:00+00:00\",\"2021-06-18T00:00:00+00:00\",\"2021-06-21T00:00:00+00:00\",\"2021-06-22T00:00:00+00:00\",\"2021-06-23T00:00:00+00:00\",\"2021-06-24T00:00:00+00:00\",\"2021-06-25T00:00:00+00:00\",\"2021-06-28T00:00:00+00:00\",\"2021-06-29T00:00:00+00:00\",\"2021-06-30T00:00:00+00:00\",\"2021-07-01T00:00:00+00:00\",\"2021-07-02T00:00:00+00:00\",\"2021-07-05T00:00:00+00:00\",\"2021-07-06T00:00:00+00:00\",\"2021-07-07T00:00:00+00:00\",\"2021-07-08T00:00:00+00:00\",\"2021-07-09T00:00:00+00:00\",\"2021-07-12T00:00:00+00:00\",\"2021-07-13T00:00:00+00:00\",\"2021-07-14T00:00:00+00:00\",\"2021-07-15T00:00:00+00:00\",\"2021-07-16T00:00:00+00:00\",\"2021-07-19T00:00:00+00:00\",\"2021-07-20T00:00:00+00:00\",\"2021-07-21T00:00:00+00:00\",\"2021-07-22T00:00:00+00:00\",\"2021-07-23T00:00:00+00:00\",\"2021-07-26T00:00:00+00:00\",\"2021-07-27T00:00:00+00:00\",\"2021-07-28T00:00:00+00:00\",\"2021-07-29T00:00:00+00:00\",\"2021-07-30T00:00:00+00:00\",\"2021-08-02T00:00:00+00:00\",\"2021-08-03T00:00:00+00:00\",\"2021-08-04T00:00:00+00:00\",\"2021-08-05T00:00:00+00:00\",\"2021-08-06T00:00:00+00:00\",\"2021-08-09T00:00:00+00:00\",\"2021-08-10T00:00:00+00:00\",\"2021-08-11T00:00:00+00:00\",\"2021-08-12T00:00:00+00:00\",\"2021-08-13T00:00:00+00:00\",\"2021-08-16T00:00:00+00:00\",\"2021-08-17T00:00:00+00:00\",\"2021-08-18T00:00:00+00:00\",\"2021-08-19T00:00:00+00:00\",\"2021-08-20T00:00:00+00:00\",\"2021-08-23T00:00:00+00:00\",\"2021-08-24T00:00:00+00:00\",\"2021-08-25T00:00:00+00:00\",\"2021-08-26T00:00:00+00:00\",\"2021-08-27T00:00:00+00:00\",\"2021-08-30T00:00:00+00:00\",\"2021-08-31T00:00:00+00:00\",\"2021-09-01T00:00:00+00:00\",\"2021-09-02T00:00:00+00:00\",\"2021-09-03T00:00:00+00:00\"],\"y\":[1.20036,1.20646,1.21618,1.21282,1.2147000000000001,1.20705,1.20791,1.21441,1.21511,1.2221899999999999,1.21744,1.22269,1.21806,1.2215,1.22497,1.21922,1.21934,1.21896,1.2225,1.22126,1.221,1.21265,1.21662,1.21893,1.21726,1.21787,1.21751,1.21063,1.212,1.21264,1.19943,1.19069,1.18597,1.19185,1.19413,1.19258,1.19315,1.1937,1.19242,1.1896,1.1856,1.18497,1.18646,1.18634,1.18231,1.17903,1.18449,1.18774,1.18606,1.17765,1.18358,1.18118,1.18055,1.17987,1.17805,1.17946,1.17707,1.17689,1.18029,1.18165,1.18441,1.18865,1.1873,1.18688,1.18637,1.18367,1.18327,1.17611,1.17362,1.17203,1.17388,1.17296,1.17962,1.17768,1.17081,1.17108,1.16756,1.16996,1.1745700000000001,1.17555,1.17716,1.17515,1.1795499999999999,1.17962,1.18083,1.18384,1.18744,1.18772],\"yaxis\":\"y2\",\"type\":\"scatter\"},{\"hovertext\":[\"order id: 1\\u003cbr\\u003ehold probability: 0.0000\\u003cbr\\u003ehold: False\\u003cbr\\u003evolume: 4.100518\\u003cbr\\u003emodified volume: 4.1000\\u003cbr\\u003efee: 0.000219\\u003cbr\\u003emargin: 5010.979000\\u003cbr\\u003eerror: \",\"order id: \\u003cbr\\u003ehold probability: 0.0000\\u003cbr\\u003ehold: False\\u003cbr\\u003evolume: 35.993521\\u003cbr\\u003emodified volume: 35.9900\\u003cbr\\u003efee: nan\\u003cbr\\u003emargin: nan\\u003cbr\\u003eerror: low free margin (order margin=43815.66560000001, order profit=-873.1669239955594, free margin=7962.618496246406)\",\"order id: \\u003cbr\\u003ehold probability: 0.0000\\u003cbr\\u003ehold: False\\u003cbr\\u003evolume: -16.433795\\u003cbr\\u003emodified volume: 16.4300\\u003cbr\\u003efee: nan\\u003cbr\\u003emargin: nan\\u003cbr\\u003eerror: low free margin (order margin=20126.2571, order profit=-317.70094478329133, free margin=7962.618496246406)\",\"order id: 2\\u003cbr\\u003ehold probability: 0.0000\\u003cbr\\u003ehold: False\\u003cbr\\u003evolume: -1.986553\\u003cbr\\u003emodified volume: 1.9900\\u003cbr\\u003efee: 0.000223\\u003cbr\\u003emargin: 2426.247800\\u003cbr\\u003eerror: \",\"order id: \\u003cbr\\u003ehold probability: 0.0000\\u003cbr\\u003ehold: False\\u003cbr\\u003evolume: 84.663274\\u003cbr\\u003emodified volume: 84.6600\\u003cbr\\u003efee: nan\\u003cbr\\u003emargin: nan\\u003cbr\\u003eerror: low free margin (order margin=103197.15360000002, order profit=-1685.8811154837167, free margin=7894.357369775957)\",\"order id: \\u003cbr\\u003ehold probability: 0.0000\\u003cbr\\u003ehold: False\\u003cbr\\u003evolume: -19.700762\\u003cbr\\u003emodified volume: 19.7000\\u003cbr\\u003efee: nan\\u003cbr\\u003emargin: nan\\u003cbr\\u003eerror: low free margin (order margin=24058.822, order profit=-399.9929437953734, free margin=7894.357369775957)\",\"order id: \\u003cbr\\u003ehold probability: 0.0000\\u003cbr\\u003ehold: False\\u003cbr\\u003evolume: -51.673231\\u003cbr\\u003emodified volume: 51.6700\\u003cbr\\u003efee: nan\\u003cbr\\u003emargin: nan\\u003cbr\\u003eerror: low free margin (order margin=62862.7554, order profit=-1046.8672826854809, free margin=7894.357369775957)\",\"order id: \\u003cbr\\u003ehold probability: 0.0000\\u003cbr\\u003ehold: False\\u003cbr\\u003evolume: 36.946882\\u003cbr\\u003emodified volume: 36.9500\\u003cbr\\u003efee: nan\\u003cbr\\u003emargin: nan\\u003cbr\\u003eerror: low free margin (order margin=45039.463500000005, order profit=-740.0890908937645, free margin=7894.357369775957)\",\"order id: \\u003cbr\\u003ehold probability: 0.0000\\u003cbr\\u003ehold: False\\u003cbr\\u003evolume: 50.143312\\u003cbr\\u003emodified volume: 50.1400\\u003cbr\\u003efee: nan\\u003cbr\\u003emargin: nan\\u003cbr\\u003eerror: low free margin (order margin=61033.416399999995, order profit=-872.9210796160663, free margin=3206.383618396718)\",\"order id: \\u003cbr\\u003ehold probability: 0.0000\\u003cbr\\u003ehold: False\\u003cbr\\u003evolume: 7.014819\\u003cbr\\u003emodified volume: 7.0100\\u003cbr\\u003efee: nan\\u003cbr\\u003emargin: nan\\u003cbr\\u003eerror: low free margin (order margin=8537.2687, order profit=-138.41062040439832, free margin=6933.108104227871)\",\"order id: \\u003cbr\\u003ehold probability: 0.0000\\u003cbr\\u003ehold: False\\u003cbr\\u003evolume: 63.660085\\u003cbr\\u003emodified volume: 63.6600\\u003cbr\\u003efee: nan\\u003cbr\\u003emargin: nan\\u003cbr\\u003eerror: low free margin (order margin=77068.70580000001, order profit=-1298.2587869932013, free margin=8742.712021399318)\",\"order id: 5\\u003cbr\\u003ehold probability: 0.0000\\u003cbr\\u003ehold: False\\u003cbr\\u003evolume: 4.014272\\u003cbr\\u003emodified volume: 4.0100\\u003cbr\\u003efee: 0.000130\\u003cbr\\u003emargin: 4860.120000\\u003cbr\\u003eerror: \",\"order id: \\u003cbr\\u003ehold probability: 0.1273\\u003cbr\\u003ehold: False\\u003cbr\\u003evolume: 87.593781\\u003cbr\\u003emodified volume: 87.5900\\u003cbr\\u003efee: nan\\u003cbr\\u003emargin: nan\\u003cbr\\u003eerror: low free margin (order margin=103879.11230000001, order profit=-1850.8949396893674, free margin=8947.368523973133)\",\"order id: \\u003cbr\\u003ehold probability: 0.0000\\u003cbr\\u003ehold: False\\u003cbr\\u003evolume: 30.850245\\u003cbr\\u003emodified volume: 30.8500\\u003cbr\\u003efee: nan\\u003cbr\\u003emargin: nan\\u003cbr\\u003eerror: low free margin (order margin=36768.5725, order profit=-486.95156512532, free margin=8947.368523973133)\",\"order id: \\u003cbr\\u003ehold probability: 0.0000\\u003cbr\\u003ehold: False\\u003cbr\\u003evolume: 31.957633\\u003cbr\\u003emodified volume: 31.9600\\u003cbr\\u003efee: nan\\u003cbr\\u003emargin: nan\\u003cbr\\u003eerror: low free margin (order margin=38164.394799999995, order profit=-512.7595806870963, free margin=8947.368523973133)\",\"order id: \\u003cbr\\u003ehold probability: 0.0000\\u003cbr\\u003ehold: False\\u003cbr\\u003evolume: -56.880629\\u003cbr\\u003emodified volume: 56.8800\\u003cbr\\u003efee: nan\\u003cbr\\u003emargin: nan\\u003cbr\\u003eerror: low free margin (order margin=67897.656, order profit=-1246.0437688084228, free margin=8239.63987711048)\",\"order id: \\u003cbr\\u003ehold probability: 0.0000\\u003cbr\\u003ehold: False\\u003cbr\\u003evolume: -45.881728\\u003cbr\\u003emodified volume: 45.8800\\u003cbr\\u003efee: nan\\u003cbr\\u003emargin: nan\\u003cbr\\u003eerror: low free margin (order margin=54708.2296, order profit=-933.027919886708, free margin=8239.63987711048)\",\"order id: \\u003cbr\\u003ehold probability: 0.0000\\u003cbr\\u003ehold: False\\u003cbr\\u003evolume: -40.134265\\u003cbr\\u003emodified volume: 40.1300\\u003cbr\\u003efee: nan\\u003cbr\\u003emargin: nan\\u003cbr\\u003eerror: low free margin (order margin=47578.128000000004, order profit=-1003.5272411875746, free margin=8239.63987711048)\",\"order id: \\u003cbr\\u003ehold probability: 0.0000\\u003cbr\\u003ehold: False\\u003cbr\\u003evolume: -40.344866\\u003cbr\\u003emodified volume: 40.3400\\u003cbr\\u003efee: nan\\u003cbr\\u003emargin: nan\\u003cbr\\u003eerror: low free margin (order margin=47801.68980000001, order profit=-674.1719057248519, free margin=8239.63987711048)\",\"order id: 7\\u003cbr\\u003ehold probability: 0.0000\\u003cbr\\u003ehold: False\\u003cbr\\u003evolume: -2.750716\\u003cbr\\u003emodified volume: 2.7500\\u003cbr\\u003efee: 0.000197\\u003cbr\\u003emargin: 3262.765000\\u003cbr\\u003eerror: \",\"order id: \\u003cbr\\u003ehold probability: 0.0000\\u003cbr\\u003ehold: False\\u003cbr\\u003evolume: -65.420820\\u003cbr\\u003emodified volume: 65.4200\\u003cbr\\u003efee: nan\\u003cbr\\u003emargin: nan\\u003cbr\\u003eerror: low free margin (order margin=77346.7202, order profit=-1546.7150942897526, free margin=6064.0068945402345)\",\"order id: \\u003cbr\\u003ehold probability: 0.0000\\u003cbr\\u003ehold: False\\u003cbr\\u003evolume: -73.692529\\u003cbr\\u003emodified volume: 73.6900\\u003cbr\\u003efee: nan\\u003cbr\\u003emargin: nan\\u003cbr\\u003eerror: low free margin (order margin=86882.7207, order profit=-1331.948124992926, free margin=10228.771894540221)\",\"order id: 8\\u003cbr\\u003ehold probability: 0.0000\\u003cbr\\u003ehold: False\\u003cbr\\u003evolume: -4.222355\\u003cbr\\u003emodified volume: 4.2200\\u003cbr\\u003efee: 0.000236\\u003cbr\\u003emargin: 4998.547800\\u003cbr\\u003eerror: \",\"order id: \\u003cbr\\u003ehold probability: 0.0000\\u003cbr\\u003ehold: False\\u003cbr\\u003evolume: 73.401818\\u003cbr\\u003emodified volume: 73.4000\\u003cbr\\u003efee: nan\\u003cbr\\u003emargin: nan\\u003cbr\\u003eerror: low free margin (order margin=87180.11600000001, order profit=-1479.9967656975093, free margin=8757.721435955922)\",\"order id: 9\\u003cbr\\u003ehold probability: 0.0000\\u003cbr\\u003ehold: False\\u003cbr\\u003evolume: -1.846379\\u003cbr\\u003emodified volume: 1.8500\\u003cbr\\u003efee: 0.000144\\u003cbr\\u003emargin: 2194.211000\\u003cbr\\u003eerror: \",\"order id: \\u003cbr\\u003ehold probability: 0.0000\\u003cbr\\u003ehold: False\\u003cbr\\u003evolume: -97.442651\\u003cbr\\u003emodified volume: 97.4400\\u003cbr\\u003efee: nan\\u003cbr\\u003emargin: nan\\u003cbr\\u003eerror: low free margin (order margin=114750.21600000001, order profit=-1828.501908261111, free margin=8092.742141771239)\",\"order id: \\u003cbr\\u003ehold probability: 0.0000\\u003cbr\\u003ehold: False\\u003cbr\\u003evolume: -13.150982\\u003cbr\\u003emodified volume: 13.1500\\u003cbr\\u003efee: nan\\u003cbr\\u003emargin: nan\\u003cbr\\u003eerror: low free margin (order margin=15515.290500000001, order profit=-241.87742364234768, free margin=9189.90314177124)\",\"order id: \\u003cbr\\u003ehold probability: 0.0000\\u003cbr\\u003ehold: False\\u003cbr\\u003evolume: -86.071664\\u003cbr\\u003emodified volume: 86.0700\\u003cbr\\u003efee: nan\\u003cbr\\u003emargin: nan\\u003cbr\\u003eerror: low free margin (order margin=101516.12219999998, order profit=-792.1345897028467, free margin=9189.90314177124)\",\"order id: \\u003cbr\\u003ehold probability: 0.0000\\u003cbr\\u003ehold: False\\u003cbr\\u003evolume: -19.321800\\u003cbr\\u003emodified volume: 19.3200\\u003cbr\\u003efee: nan\\u003cbr\\u003emargin: nan\\u003cbr\\u003eerror: low free margin (order margin=22740.992400000003, order profit=-368.6307176232195, free margin=9189.90314177124)\",\"order id: \\u003cbr\\u003ehold probability: 0.0000\\u003cbr\\u003ehold: False\\u003cbr\\u003evolume: -43.302046\\u003cbr\\u003emodified volume: 43.3000\\u003cbr\\u003efee: nan\\u003cbr\\u003emargin: nan\\u003cbr\\u003eerror: low free margin (order margin=51106.557, order profit=-880.1230243140242, free margin=9189.90314177124)\",\"order id: \\u003cbr\\u003ehold probability: 0.0000\\u003cbr\\u003ehold: False\\u003cbr\\u003evolume: 76.239325\\u003cbr\\u003emodified volume: 76.2400\\u003cbr\\u003efee: nan\\u003cbr\\u003emargin: nan\\u003cbr\\u003eerror: low free margin (order margin=90088.996, order profit=-1549.3476003993428, free margin=9189.90314177124)\",\"order id: \\u003cbr\\u003ehold probability: 0.0000\\u003cbr\\u003ehold: False\\u003cbr\\u003evolume: -93.306684\\u003cbr\\u003emodified volume: 93.3100\\u003cbr\\u003efee: nan\\u003cbr\\u003emargin: nan\\u003cbr\\u003eerror: low free margin (order margin=110912.9315, order profit=-1577.8613844079293, free margin=9189.90314177124)\",\"order id: \\u003cbr\\u003ehold probability: 0.0000\\u003cbr\\u003ehold: False\\u003cbr\\u003evolume: -15.782012\\u003cbr\\u003emodified volume: 15.7800\\u003cbr\\u003efee: nan\\u003cbr\\u003emargin: nan\\u003cbr\\u003eerror: low free margin (order margin=18728.966399999998, order profit=-329.2424328107112, free margin=9189.90314177124)\",\"order id: \\u003cbr\\u003ehold probability: 0.0000\\u003cbr\\u003ehold: False\\u003cbr\\u003evolume: 72.379376\\u003cbr\\u003emodified volume: 72.3800\\u003cbr\\u003efee: nan\\u003cbr\\u003emargin: nan\\u003cbr\\u003eerror: low free margin (order margin=85674.03460000001, order profit=-1417.9492422339206, free margin=9189.90314177124)\",\"order id: \\u003cbr\\u003ehold probability: 0.0012\\u003cbr\\u003ehold: False\\u003cbr\\u003evolume: -20.873326\\u003cbr\\u003emodified volume: 20.8700\\u003cbr\\u003efee: nan\\u003cbr\\u003emargin: nan\\u003cbr\\u003eerror: low free margin (order margin=24694.844900000004, order profit=-389.0657274324453, free margin=9189.90314177124)\",\"order id: \\u003cbr\\u003ehold probability: 0.0118\\u003cbr\\u003ehold: False\\u003cbr\\u003evolume: -84.471425\\u003cbr\\u003emodified volume: 84.4700\\u003cbr\\u003efee: nan\\u003cbr\\u003emargin: nan\\u003cbr\\u003eerror: low free margin (order margin=99346.0117, order profit=-1915.3584147055217, free margin=9189.90314177124)\",\"order id: \\u003cbr\\u003ehold probability: 0.0000\\u003cbr\\u003ehold: False\\u003cbr\\u003evolume: -90.634475\\u003cbr\\u003emodified volume: 90.6300\\u003cbr\\u003efee: nan\\u003cbr\\u003emargin: nan\\u003cbr\\u003eerror: low free margin (order margin=106365.1806, order profit=-2418.4431193106107, free margin=9189.90314177124)\",\"order id: \\u003cbr\\u003ehold probability: 0.0000\\u003cbr\\u003ehold: False\\u003cbr\\u003evolume: 56.032026\\u003cbr\\u003emodified volume: 56.0300\\u003cbr\\u003efee: nan\\u003cbr\\u003emargin: nan\\u003cbr\\u003eerror: low free margin (order margin=65668.8409, order profit=-1024.1773914685457, free margin=9189.90314177124)\",\"order id: \\u003cbr\\u003ehold probability: 0.0000\\u003cbr\\u003ehold: False\\u003cbr\\u003evolume: -39.265314\\u003cbr\\u003emodified volume: 39.2700\\u003cbr\\u003efee: nan\\u003cbr\\u003emargin: nan\\u003cbr\\u003eerror: low free margin (order margin=46098.26760000001, order profit=-839.7647257809373, free margin=9189.90314177124)\",\"order id: 10\\u003cbr\\u003ehold probability: 0.0000\\u003cbr\\u003ehold: False\\u003cbr\\u003evolume: -0.212809\\u003cbr\\u003emodified volume: 0.2100\\u003cbr\\u003efee: 0.000254\\u003cbr\\u003emargin: 246.321600\\u003cbr\\u003eerror: \",\"order id: \\u003cbr\\u003ehold probability: 0.0000\\u003cbr\\u003ehold: False\\u003cbr\\u003evolume: -56.720475\\u003cbr\\u003emodified volume: 56.7200\\u003cbr\\u003efee: nan\\u003cbr\\u003emargin: nan\\u003cbr\\u003eerror: low free margin (order margin=66908.04639999999, order profit=-1176.5565347538359, free margin=9044.708052739074)\",\"order id: \\u003cbr\\u003ehold probability: 0.0000\\u003cbr\\u003ehold: False\\u003cbr\\u003evolume: 38.483820\\u003cbr\\u003emodified volume: 38.4800\\u003cbr\\u003efee: nan\\u003cbr\\u003emargin: nan\\u003cbr\\u003eerror: low free margin (order margin=45235.16400000001, order profit=-796.5268733511842, free margin=9044.708052739074)\",\"order id: \\u003cbr\\u003ehold probability: 0.0000\\u003cbr\\u003ehold: False\\u003cbr\\u003evolume: 44.483326\\u003cbr\\u003emodified volume: 44.4800\\u003cbr\\u003efee: nan\\u003cbr\\u003emargin: nan\\u003cbr\\u003eerror: low free margin (order margin=52360.076799999995, order profit=-1015.1229815874391, free margin=9044.708052739074)\",\"order id: \\u003cbr\\u003ehold probability: 0.0003\\u003cbr\\u003ehold: False\\u003cbr\\u003evolume: -64.194468\\u003cbr\\u003emodified volume: 64.1900\\u003cbr\\u003efee: nan\\u003cbr\\u003emargin: nan\\u003cbr\\u003eerror: low free margin (order margin=75432.87849999999, order profit=-1147.608389344158, free margin=9044.708052739074)\",\"order id: 11\\u003cbr\\u003ehold probability: 0.0000\\u003cbr\\u003ehold: False\\u003cbr\\u003evolume: -6.162373\\u003cbr\\u003emodified volume: 6.1600\\u003cbr\\u003efee: 0.000235\\u003cbr\\u003emargin: 7266.028000\\u003cbr\\u003eerror: \",\"order id: \\u003cbr\\u003ehold probability: 0.0000\\u003cbr\\u003ehold: False\\u003cbr\\u003evolume: 55.312267\\u003cbr\\u003emodified volume: 55.3100\\u003cbr\\u003efee: nan\\u003cbr\\u003emargin: nan\\u003cbr\\u003eerror: low free margin (order margin=65311.7073, order profit=-993.2863909345741, free margin=845.4145886256165)\",\"order id: 12\\u003cbr\\u003ehold probability: 0.0000\\u003cbr\\u003ehold: False\\u003cbr\\u003evolume: -3.357521\\u003cbr\\u003emodified volume: 3.3600\\u003cbr\\u003efee: 0.000199\\u003cbr\\u003emargin: 3989.798400\\u003cbr\\u003eerror: \"],\"legendgroup\":\"g2\",\"marker\":{\"color\":[\"green\",\"gray\",\"gray\",\"red\",\"gray\",\"gray\",\"gray\",\"gray\",\"gray\",\"gray\",\"gray\",\"green\",\"gray\",\"gray\",\"gray\",\"gray\",\"gray\",\"gray\",\"gray\",\"red\",\"gray\",\"gray\",\"red\",\"gray\",\"red\",\"gray\",\"gray\",\"gray\",\"gray\",\"gray\",\"gray\",\"gray\",\"gray\",\"gray\",\"gray\",\"gray\",\"gray\",\"gray\",\"gray\",\"red\",\"gray\",\"gray\",\"gray\",\"gray\",\"red\",\"gray\",\"red\"],\"size\":[8.913325232887809,16.01721344673957,11.65998379910895,8.443296881328473,26.85905224787363,12.38841636289996,19.510125556905628,16.23106520858647,19.16929931146213,9.56156338598623,22.18104495747266,8.893276630214661,27.51174564601053,14.872215471850952,15.119481571486432,20.670716889428917,18.220332118266505,16.939449169704332,16.986229242608346,8.612596192790603,22.573106520858644,24.415350344268933,8.940056703118671,24.350749291211017,8.412110166059133,29.705953827460508,10.929323612798704,27.17314702308627,12.303766707168894,17.645605508302957,24.983394086674764,28.785945727014983,11.515188335358445,24.12353179424868,12.64904819765087,26.8167274200081,28.18894289185905,20.48136897529364,16.747873633049817,8.04678007290401,20.635074929121103,16.571891454029974,17.908464965573106,22.299108950992302,9.372215471850952,20.320980153908465,8.748481166464156],\"symbol\":[\"triangle-up\",\"triangle-down\",\"triangle-down\",\"triangle-down\",\"triangle-down\",\"triangle-down\",\"triangle-down\",\"triangle-down\",\"triangle-down\",\"triangle-down\",\"triangle-down\",\"triangle-up\",\"triangle-down\",\"triangle-down\",\"triangle-down\",\"triangle-down\",\"triangle-down\",\"triangle-down\",\"triangle-down\",\"triangle-down\",\"triangle-down\",\"triangle-down\",\"triangle-down\",\"triangle-down\",\"triangle-down\",\"triangle-down\",\"triangle-down\",\"triangle-down\",\"triangle-down\",\"triangle-down\",\"triangle-down\",\"triangle-down\",\"triangle-down\",\"triangle-down\",\"triangle-down\",\"triangle-down\",\"triangle-down\",\"triangle-down\",\"triangle-down\",\"triangle-down\",\"triangle-down\",\"triangle-down\",\"triangle-down\",\"triangle-down\",\"triangle-down\",\"triangle-down\",\"triangle-down\"]},\"mode\":\"markers\",\"name\":\"EURUSD\",\"showlegend\":false,\"x\":[\"2021-05-18T00:00:00+00:00\",\"2021-05-19T00:00:00+00:00\",\"2021-05-25T00:00:00+00:00\",\"2021-05-26T00:00:00+00:00\",\"2021-05-28T00:00:00+00:00\",\"2021-06-01T00:00:00+00:00\",\"2021-06-04T00:00:00+00:00\",\"2021-06-07T00:00:00+00:00\",\"2021-06-08T00:00:00+00:00\",\"2021-06-09T00:00:00+00:00\",\"2021-06-11T00:00:00+00:00\",\"2021-06-14T00:00:00+00:00\",\"2021-06-18T00:00:00+00:00\",\"2021-06-21T00:00:00+00:00\",\"2021-06-22T00:00:00+00:00\",\"2021-06-25T00:00:00+00:00\",\"2021-06-28T00:00:00+00:00\",\"2021-06-30T00:00:00+00:00\",\"2021-07-01T00:00:00+00:00\",\"2021-07-02T00:00:00+00:00\",\"2021-07-06T00:00:00+00:00\",\"2021-07-07T00:00:00+00:00\",\"2021-07-08T00:00:00+00:00\",\"2021-07-09T00:00:00+00:00\",\"2021-07-12T00:00:00+00:00\",\"2021-07-13T00:00:00+00:00\",\"2021-07-19T00:00:00+00:00\",\"2021-07-21T00:00:00+00:00\",\"2021-07-22T00:00:00+00:00\",\"2021-07-26T00:00:00+00:00\",\"2021-07-27T00:00:00+00:00\",\"2021-07-29T00:00:00+00:00\",\"2021-08-02T00:00:00+00:00\",\"2021-08-04T00:00:00+00:00\",\"2021-08-05T00:00:00+00:00\",\"2021-08-06T00:00:00+00:00\",\"2021-08-09T00:00:00+00:00\",\"2021-08-10T00:00:00+00:00\",\"2021-08-11T00:00:00+00:00\",\"2021-08-12T00:00:00+00:00\",\"2021-08-13T00:00:00+00:00\",\"2021-08-24T00:00:00+00:00\",\"2021-08-25T00:00:00+00:00\",\"2021-08-26T00:00:00+00:00\",\"2021-08-27T00:00:00+00:00\",\"2021-08-31T00:00:00+00:00\",\"2021-09-02T00:00:00+00:00\"],\"y\":[1.2221899999999999,1.21744,1.22497,1.21922,1.21896,1.22126,1.21662,1.21893,1.21726,1.21787,1.21063,1.212,1.18597,1.19185,1.19413,1.1937,1.19242,1.1856,1.18497,1.18646,1.18231,1.17903,1.18449,1.18774,1.18606,1.17765,1.17987,1.17946,1.17707,1.18029,1.18165,1.18865,1.18688,1.18367,1.18327,1.17611,1.17362,1.17203,1.17388,1.17296,1.17962,1.17555,1.17716,1.17515,1.1795499999999999,1.18083,1.18744],\"yaxis\":\"y2\",\"type\":\"scatter\"},{\"hovertext\":[\"order id: 1\\u003cbr\\u003eorder type: Buy\\u003cbr\\u003eclose probability: 1.0000\\u003cbr\\u003emargin: 5010.979000\\u003cbr\\u003eprofit: -2037.381504\",\"order id: 2\\u003cbr\\u003eorder type: Sell\\u003cbr\\u003eclose probability: 1.0000\\u003cbr\\u003emargin: 2426.247800\\u003cbr\\u003eprofit: -68.261126\",\"order id: 5\\u003cbr\\u003eorder type: Buy\\u003cbr\\u003eclose probability: 1.0000\\u003cbr\\u003emargin: 4860.120000\\u003cbr\\u003eprofit: 204.656503\",\"order id: 7\\u003cbr\\u003eorder type: Sell\\u003cbr\\u003eclose probability: 1.0000\\u003cbr\\u003emargin: 3262.765000\\u003cbr\\u003eprofit: 1989.132017\",\"order id: 8\\u003cbr\\u003eorder type: Sell\\u003cbr\\u003eclose probability: 1.0000\\u003cbr\\u003emargin: 4998.547800\\u003cbr\\u003eprofit: -1471.050459\",\"order id: 9\\u003cbr\\u003eorder type: Sell\\u003cbr\\u003eclose probability: 0.9998\\u003cbr\\u003emargin: 2194.211000\\u003cbr\\u003eprofit: 432.181706\",\"order id: 10\\u003cbr\\u003eorder type: Sell\\u003cbr\\u003eclose probability: 1.0000\\u003cbr\\u003emargin: 246.321600\\u003cbr\\u003eprofit: -145.195089\",\"order id: 11\\u003cbr\\u003eorder type: Sell\\u003cbr\\u003eclose probability: 1.0000\\u003cbr\\u003emargin: 7266.028000\\u003cbr\\u003eprofit: -2787.425464\"],\"legendgroup\":\"g2\",\"marker\":{\"color\":\"black\",\"line\":{\"width\":1.5},\"size\":7,\"symbol\":\"line-ns\"},\"mode\":\"markers\",\"name\":\"EURUSD\",\"showlegend\":false,\"x\":[\"2021-05-19T00:00:00+00:00\",\"2021-05-27T00:00:00+00:00\",\"2021-06-15T00:00:00+00:00\",\"2021-07-07T00:00:00+00:00\",\"2021-07-09T00:00:00+00:00\",\"2021-07-14T00:00:00+00:00\",\"2021-08-13T00:00:00+00:00\",\"2021-09-01T00:00:00+00:00\"],\"y\":[1.21744,1.21934,1.21264,1.17903,1.18774,1.18358,1.17962,1.18384],\"yaxis\":\"y2\",\"type\":\"scatter\"},{\"hovertext\":[\"balance: 10000.000000 USD\\u003cbr\\u003eequity: 10000.000000\\u003cbr\\u003emargin: 0.000000\\u003cbr\\u003efree margin: 10000.000000\\u003cbr\\u003emargin level: inf\",\"balance: 10000.000000 USD\\u003cbr\\u003eequity: 10000.000000\\u003cbr\\u003emargin: 0.000000\\u003cbr\\u003efree margin: 10000.000000\\u003cbr\\u003emargin level: inf\",\"balance: 10000.000000 USD\\u003cbr\\u003eequity: 10000.000000\\u003cbr\\u003emargin: 0.000000\\u003cbr\\u003efree margin: 10000.000000\\u003cbr\\u003emargin level: inf\",\"balance: 10000.000000 USD\\u003cbr\\u003eequity: 10000.000000\\u003cbr\\u003emargin: 0.000000\\u003cbr\\u003efree margin: 10000.000000\\u003cbr\\u003emargin level: inf\",\"balance: 10000.000000 USD\\u003cbr\\u003eequity: 10000.000000\\u003cbr\\u003emargin: 0.000000\\u003cbr\\u003efree margin: 10000.000000\\u003cbr\\u003emargin level: inf\",\"balance: 10000.000000 USD\\u003cbr\\u003eequity: 10000.000000\\u003cbr\\u003emargin: 0.000000\\u003cbr\\u003efree margin: 10000.000000\\u003cbr\\u003emargin level: inf\",\"balance: 10000.000000 USD\\u003cbr\\u003eequity: 10000.000000\\u003cbr\\u003emargin: 0.000000\\u003cbr\\u003efree margin: 10000.000000\\u003cbr\\u003emargin level: inf\",\"balance: 10000.000000 USD\\u003cbr\\u003eequity: 10000.000000\\u003cbr\\u003emargin: 0.000000\\u003cbr\\u003efree margin: 10000.000000\\u003cbr\\u003emargin level: inf\",\"balance: 10000.000000 USD\\u003cbr\\u003eequity: 10000.000000\\u003cbr\\u003emargin: 0.000000\\u003cbr\\u003efree margin: 10000.000000\\u003cbr\\u003emargin level: inf\",\"balance: 10000.000000 USD\\u003cbr\\u003eequity: 10000.000000\\u003cbr\\u003emargin: 0.000000\\u003cbr\\u003efree margin: 10000.000000\\u003cbr\\u003emargin level: inf\",\"balance: 10000.000000 USD\\u003cbr\\u003eequity: 7962.618496\\u003cbr\\u003emargin: 5010.979000\\u003cbr\\u003efree margin: 2951.639496\\u003cbr\\u003emargin level: 1.589034\",\"balance: 7962.618496 USD\\u003cbr\\u003eequity: 7962.618496\\u003cbr\\u003emargin: 0.000000\\u003cbr\\u003efree margin: 7962.618496\\u003cbr\\u003emargin level: inf\",\"balance: 7962.618496 USD\\u003cbr\\u003eequity: 7962.618496\\u003cbr\\u003emargin: 0.000000\\u003cbr\\u003efree margin: 7962.618496\\u003cbr\\u003emargin level: inf\",\"balance: 7962.618496 USD\\u003cbr\\u003eequity: 7962.618496\\u003cbr\\u003emargin: 0.000000\\u003cbr\\u003efree margin: 7962.618496\\u003cbr\\u003emargin level: inf\",\"balance: 7962.618496 USD\\u003cbr\\u003eequity: 7962.618496\\u003cbr\\u003emargin: 0.000000\\u003cbr\\u003efree margin: 7962.618496\\u003cbr\\u003emargin level: inf\",\"balance: 7962.618496 USD\\u003cbr\\u003eequity: 7962.618496\\u003cbr\\u003emargin: 0.000000\\u003cbr\\u003efree margin: 7962.618496\\u003cbr\\u003emargin level: inf\",\"balance: 7962.618496 USD\\u003cbr\\u003eequity: 7894.357370\\u003cbr\\u003emargin: 2426.247800\\u003cbr\\u003efree margin: 5468.109570\\u003cbr\\u003emargin level: 3.253731\",\"balance: 7894.357370 USD\\u003cbr\\u003eequity: 7894.357370\\u003cbr\\u003emargin: 0.000000\\u003cbr\\u003efree margin: 7894.357370\\u003cbr\\u003emargin level: inf\",\"balance: 7894.357370 USD\\u003cbr\\u003eequity: 7894.357370\\u003cbr\\u003emargin: 0.000000\\u003cbr\\u003efree margin: 7894.357370\\u003cbr\\u003emargin level: inf\",\"balance: 7894.357370 USD\\u003cbr\\u003eequity: 7894.357370\\u003cbr\\u003emargin: 0.000000\\u003cbr\\u003efree margin: 7894.357370\\u003cbr\\u003emargin level: inf\",\"balance: 7894.357370 USD\\u003cbr\\u003eequity: 7894.357370\\u003cbr\\u003emargin: 0.000000\\u003cbr\\u003efree margin: 7894.357370\\u003cbr\\u003emargin level: inf\",\"balance: 7894.357370 USD\\u003cbr\\u003eequity: 7894.357370\\u003cbr\\u003emargin: 0.000000\\u003cbr\\u003efree margin: 7894.357370\\u003cbr\\u003emargin level: inf\",\"balance: 7894.357370 USD\\u003cbr\\u003eequity: 7894.357370\\u003cbr\\u003emargin: 0.000000\\u003cbr\\u003efree margin: 7894.357370\\u003cbr\\u003emargin level: inf\",\"balance: 7894.357370 USD\\u003cbr\\u003eequity: 7894.357370\\u003cbr\\u003emargin: 0.000000\\u003cbr\\u003efree margin: 7894.357370\\u003cbr\\u003emargin level: inf\",\"balance: 7894.357370 USD\\u003cbr\\u003eequity: 9186.383618\\u003cbr\\u003emargin: 5980.000000\\u003cbr\\u003efree margin: 3206.383618\\u003cbr\\u003emargin level: 1.536185\",\"balance: 9186.383618 USD\\u003cbr\\u003eequity: 9423.108104\\u003cbr\\u003emargin: 2490.000000\\u003cbr\\u003efree margin: 6933.108104\\u003cbr\\u003emargin level: 3.784381\",\"balance: 9186.383618 USD\\u003cbr\\u003eequity: 8742.712021\\u003cbr\\u003emargin: 2490.000000\\u003cbr\\u003efree margin: 6252.712021\\u003cbr\\u003emargin level: 3.511129\",\"balance: 8742.712021 USD\\u003cbr\\u003eequity: 8742.712021\\u003cbr\\u003emargin: 0.000000\\u003cbr\\u003efree margin: 8742.712021\\u003cbr\\u003emargin level: inf\",\"balance: 8742.712021 USD\\u003cbr\\u003eequity: 8742.712021\\u003cbr\\u003emargin: 0.000000\\u003cbr\\u003efree margin: 8742.712021\\u003cbr\\u003emargin level: inf\",\"balance: 8742.712021 USD\\u003cbr\\u003eequity: 8947.368524\\u003cbr\\u003emargin: 4860.120000\\u003cbr\\u003efree margin: 4087.248524\\u003cbr\\u003emargin level: 1.840977\",\"balance: 8947.368524 USD\\u003cbr\\u003eequity: 8947.368524\\u003cbr\\u003emargin: 0.000000\\u003cbr\\u003efree margin: 8947.368524\\u003cbr\\u003emargin level: inf\",\"balance: 8947.368524 USD\\u003cbr\\u003eequity: 8947.368524\\u003cbr\\u003emargin: 0.000000\\u003cbr\\u003efree margin: 8947.368524\\u003cbr\\u003emargin level: inf\",\"balance: 8947.368524 USD\\u003cbr\\u003eequity: 8947.368524\\u003cbr\\u003emargin: 0.000000\\u003cbr\\u003efree margin: 8947.368524\\u003cbr\\u003emargin level: inf\",\"balance: 8947.368524 USD\\u003cbr\\u003eequity: 8947.368524\\u003cbr\\u003emargin: 0.000000\\u003cbr\\u003efree margin: 8947.368524\\u003cbr\\u003emargin level: inf\",\"balance: 8947.368524 USD\\u003cbr\\u003eequity: 8947.368524\\u003cbr\\u003emargin: 0.000000\\u003cbr\\u003efree margin: 8947.368524\\u003cbr\\u003emargin level: inf\",\"balance: 8947.368524 USD\\u003cbr\\u003eequity: 8947.368524\\u003cbr\\u003emargin: 0.000000\\u003cbr\\u003efree margin: 8947.368524\\u003cbr\\u003emargin level: inf\",\"balance: 8947.368524 USD\\u003cbr\\u003eequity: 8947.368524\\u003cbr\\u003emargin: 0.000000\\u003cbr\\u003efree margin: 8947.368524\\u003cbr\\u003emargin level: inf\",\"balance: 8947.368524 USD\\u003cbr\\u003eequity: 8239.639877\\u003cbr\\u003emargin: 1433.457415\\u003cbr\\u003efree margin: 6806.182462\\u003cbr\\u003emargin level: 5.748088\",\"balance: 8239.639877 USD\\u003cbr\\u003eequity: 8239.639877\\u003cbr\\u003emargin: 0.000000\\u003cbr\\u003efree margin: 8239.639877\\u003cbr\\u003emargin level: inf\",\"balance: 8239.639877 USD\\u003cbr\\u003eequity: 8239.639877\\u003cbr\\u003emargin: 0.000000\\u003cbr\\u003efree margin: 8239.639877\\u003cbr\\u003emargin level: inf\",\"balance: 8239.639877 USD\\u003cbr\\u003eequity: 8239.639877\\u003cbr\\u003emargin: 0.000000\\u003cbr\\u003efree margin: 8239.639877\\u003cbr\\u003emargin level: inf\",\"balance: 8239.639877 USD\\u003cbr\\u003eequity: 8239.639877\\u003cbr\\u003emargin: 0.000000\\u003cbr\\u003efree margin: 8239.639877\\u003cbr\\u003emargin level: inf\",\"balance: 8239.639877 USD\\u003cbr\\u003eequity: 8239.639877\\u003cbr\\u003emargin: 0.000000\\u003cbr\\u003efree margin: 8239.639877\\u003cbr\\u003emargin level: inf\",\"balance: 8239.639877 USD\\u003cbr\\u003eequity: 8218.521895\\u003cbr\\u003emargin: 3262.765000\\u003cbr\\u003efree margin: 4955.756895\\u003cbr\\u003emargin level: 2.518883\",\"balance: 8239.639877 USD\\u003cbr\\u003eequity: 9326.771895\\u003cbr\\u003emargin: 3262.765000\\u003cbr\\u003efree margin: 6064.006895\\u003cbr\\u003emargin level: 2.858548\",\"balance: 8239.639877 USD\\u003cbr\\u003eequity: 10228.771895\\u003cbr\\u003emargin: 3262.765000\\u003cbr\\u003efree margin: 6966.006895\\u003cbr\\u003emargin level: 3.135001\",\"balance: 10228.771895 USD\\u003cbr\\u003eequity: 10228.771895\\u003cbr\\u003emargin: 0.000000\\u003cbr\\u003efree margin: 10228.771895\\u003cbr\\u003emargin level: inf\",\"balance: 10228.771895 USD\\u003cbr\\u003eequity: 8757.721436\\u003cbr\\u003emargin: 4998.547800\\u003cbr\\u003efree margin: 3759.173636\\u003cbr\\u003emargin level: 1.752053\",\"balance: 8757.721436 USD\\u003cbr\\u003eequity: 8757.721436\\u003cbr\\u003emargin: 0.000000\\u003cbr\\u003efree margin: 8757.721436\\u003cbr\\u003emargin level: inf\",\"balance: 8757.721436 USD\\u003cbr\\u003eequity: 10286.953142\\u003cbr\\u003emargin: 2194.211000\\u003cbr\\u003efree margin: 8092.742142\\u003cbr\\u003emargin level: 4.688224\",\"balance: 8757.721436 USD\\u003cbr\\u003eequity: 9189.903142\\u003cbr\\u003emargin: 2194.211000\\u003cbr\\u003efree margin: 6995.692142\\u003cbr\\u003emargin level: 4.188250\",\"balance: 9189.903142 USD\\u003cbr\\u003eequity: 9189.903142\\u003cbr\\u003emargin: 0.000000\\u003cbr\\u003efree margin: 9189.903142\\u003cbr\\u003emargin level: inf\",\"balance: 9189.903142 USD\\u003cbr\\u003eequity: 9189.903142\\u003cbr\\u003emargin: 0.000000\\u003cbr\\u003efree margin: 9189.903142\\u003cbr\\u003emargin level: inf\",\"balance: 9189.903142 USD\\u003cbr\\u003eequity: 9189.903142\\u003cbr\\u003emargin: 0.000000\\u003cbr\\u003efree margin: 9189.903142\\u003cbr\\u003emargin level: inf\",\"balance: 9189.903142 USD\\u003cbr\\u003eequity: 9189.903142\\u003cbr\\u003emargin: 0.000000\\u003cbr\\u003efree margin: 9189.903142\\u003cbr\\u003emargin level: inf\",\"balance: 9189.903142 USD\\u003cbr\\u003eequity: 9189.903142\\u003cbr\\u003emargin: 0.000000\\u003cbr\\u003efree margin: 9189.903142\\u003cbr\\u003emargin level: inf\",\"balance: 9189.903142 USD\\u003cbr\\u003eequity: 9189.903142\\u003cbr\\u003emargin: 0.000000\\u003cbr\\u003efree margin: 9189.903142\\u003cbr\\u003emargin level: inf\",\"balance: 9189.903142 USD\\u003cbr\\u003eequity: 9189.903142\\u003cbr\\u003emargin: 0.000000\\u003cbr\\u003efree margin: 9189.903142\\u003cbr\\u003emargin level: inf\",\"balance: 9189.903142 USD\\u003cbr\\u003eequity: 9189.903142\\u003cbr\\u003emargin: 0.000000\\u003cbr\\u003efree margin: 9189.903142\\u003cbr\\u003emargin level: inf\",\"balance: 9189.903142 USD\\u003cbr\\u003eequity: 9189.903142\\u003cbr\\u003emargin: 0.000000\\u003cbr\\u003efree margin: 9189.903142\\u003cbr\\u003emargin level: inf\",\"balance: 9189.903142 USD\\u003cbr\\u003eequity: 9189.903142\\u003cbr\\u003emargin: 0.000000\\u003cbr\\u003efree margin: 9189.903142\\u003cbr\\u003emargin level: inf\",\"balance: 9189.903142 USD\\u003cbr\\u003eequity: 9189.903142\\u003cbr\\u003emargin: 0.000000\\u003cbr\\u003efree margin: 9189.903142\\u003cbr\\u003emargin level: inf\",\"balance: 9189.903142 USD\\u003cbr\\u003eequity: 9189.903142\\u003cbr\\u003emargin: 0.000000\\u003cbr\\u003efree margin: 9189.903142\\u003cbr\\u003emargin level: inf\",\"balance: 9189.903142 USD\\u003cbr\\u003eequity: 9189.903142\\u003cbr\\u003emargin: 0.000000\\u003cbr\\u003efree margin: 9189.903142\\u003cbr\\u003emargin level: inf\",\"balance: 9189.903142 USD\\u003cbr\\u003eequity: 9189.903142\\u003cbr\\u003emargin: 0.000000\\u003cbr\\u003efree margin: 9189.903142\\u003cbr\\u003emargin level: inf\",\"balance: 9189.903142 USD\\u003cbr\\u003eequity: 9189.903142\\u003cbr\\u003emargin: 0.000000\\u003cbr\\u003efree margin: 9189.903142\\u003cbr\\u003emargin level: inf\",\"balance: 9189.903142 USD\\u003cbr\\u003eequity: 9189.903142\\u003cbr\\u003emargin: 0.000000\\u003cbr\\u003efree margin: 9189.903142\\u003cbr\\u003emargin level: inf\",\"balance: 9189.903142 USD\\u003cbr\\u003eequity: 9189.903142\\u003cbr\\u003emargin: 0.000000\\u003cbr\\u003efree margin: 9189.903142\\u003cbr\\u003emargin level: inf\",\"balance: 9189.903142 USD\\u003cbr\\u003eequity: 9189.903142\\u003cbr\\u003emargin: 0.000000\\u003cbr\\u003efree margin: 9189.903142\\u003cbr\\u003emargin level: inf\",\"balance: 9189.903142 USD\\u003cbr\\u003eequity: 9189.903142\\u003cbr\\u003emargin: 0.000000\\u003cbr\\u003efree margin: 9189.903142\\u003cbr\\u003emargin level: inf\",\"balance: 9189.903142 USD\\u003cbr\\u003eequity: 9189.903142\\u003cbr\\u003emargin: 0.000000\\u003cbr\\u003efree margin: 9189.903142\\u003cbr\\u003emargin level: inf\",\"balance: 9189.903142 USD\\u003cbr\\u003eequity: 9189.903142\\u003cbr\\u003emargin: 0.000000\\u003cbr\\u003efree margin: 9189.903142\\u003cbr\\u003emargin level: inf\",\"balance: 9189.903142 USD\\u003cbr\\u003eequity: 9044.708053\\u003cbr\\u003emargin: 246.321600\\u003cbr\\u003efree margin: 8798.386453\\u003cbr\\u003emargin level: 36.719102\",\"balance: 9044.708053 USD\\u003cbr\\u003eequity: 9044.708053\\u003cbr\\u003emargin: 0.000000\\u003cbr\\u003efree margin: 9044.708053\\u003cbr\\u003emargin level: inf\",\"balance: 9044.708053 USD\\u003cbr\\u003eequity: 9044.708053\\u003cbr\\u003emargin: 0.000000\\u003cbr\\u003efree margin: 9044.708053\\u003cbr\\u003emargin level: inf\",\"balance: 9044.708053 USD\\u003cbr\\u003eequity: 9044.708053\\u003cbr\\u003emargin: 0.000000\\u003cbr\\u003efree margin: 9044.708053\\u003cbr\\u003emargin level: inf\",\"balance: 9044.708053 USD\\u003cbr\\u003eequity: 9044.708053\\u003cbr\\u003emargin: 0.000000\\u003cbr\\u003efree margin: 9044.708053\\u003cbr\\u003emargin level: inf\",\"balance: 9044.708053 USD\\u003cbr\\u003eequity: 9044.708053\\u003cbr\\u003emargin: 0.000000\\u003cbr\\u003efree margin: 9044.708053\\u003cbr\\u003emargin level: inf\",\"balance: 9044.708053 USD\\u003cbr\\u003eequity: 9044.708053\\u003cbr\\u003emargin: 0.000000\\u003cbr\\u003efree margin: 9044.708053\\u003cbr\\u003emargin level: inf\",\"balance: 9044.708053 USD\\u003cbr\\u003eequity: 9044.708053\\u003cbr\\u003emargin: 0.000000\\u003cbr\\u003efree margin: 9044.708053\\u003cbr\\u003emargin level: inf\",\"balance: 9044.708053 USD\\u003cbr\\u003eequity: 9044.708053\\u003cbr\\u003emargin: 0.000000\\u003cbr\\u003efree margin: 9044.708053\\u003cbr\\u003emargin level: inf\",\"balance: 9044.708053 USD\\u003cbr\\u003eequity: 9044.708053\\u003cbr\\u003emargin: 0.000000\\u003cbr\\u003efree margin: 9044.708053\\u003cbr\\u003emargin level: inf\",\"balance: 9044.708053 USD\\u003cbr\\u003eequity: 9044.708053\\u003cbr\\u003emargin: 0.000000\\u003cbr\\u003efree margin: 9044.708053\\u003cbr\\u003emargin level: inf\",\"balance: 9044.708053 USD\\u003cbr\\u003eequity: 8856.802589\\u003cbr\\u003emargin: 7266.028000\\u003cbr\\u003efree margin: 1590.774589\\u003cbr\\u003emargin level: 1.218933\",\"balance: 9044.708053 USD\\u003cbr\\u003eequity: 8111.442589\\u003cbr\\u003emargin: 7266.028000\\u003cbr\\u003efree margin: 845.414589\\u003cbr\\u003emargin level: 1.116352\",\"balance: 9044.708053 USD\\u003cbr\\u003eequity: 6257.282589\\u003cbr\\u003emargin: 7266.028000\\u003cbr\\u003efree margin: -1008.745411\\u003cbr\\u003emargin level: 0.861170\",\"balance: 6257.282589 USD\\u003cbr\\u003eequity: 6257.282589\\u003cbr\\u003emargin: 0.000000\\u003cbr\\u003efree margin: 6257.282589\\u003cbr\\u003emargin level: inf\",\"balance: 6257.282589 USD\\u003cbr\\u003eequity: 6096.474271\\u003cbr\\u003emargin: 3989.798400\\u003cbr\\u003efree margin: 2106.675871\\u003cbr\\u003emargin level: 1.528016\"],\"legendgroup\":\"g3\",\"line\":{\"color\":\"rgba(0.7372549019607844, 0.7411764705882353, 0.13333333333333333, 1.0)\"},\"mode\":\"lines+markers\",\"name\":\"USDJPY\",\"opacity\":1.0,\"x\":[\"2021-05-05T00:00:00+00:00\",\"2021-05-06T00:00:00+00:00\",\"2021-05-07T00:00:00+00:00\",\"2021-05-10T00:00:00+00:00\",\"2021-05-11T00:00:00+00:00\",\"2021-05-12T00:00:00+00:00\",\"2021-05-13T00:00:00+00:00\",\"2021-05-14T00:00:00+00:00\",\"2021-05-17T00:00:00+00:00\",\"2021-05-18T00:00:00+00:00\",\"2021-05-19T00:00:00+00:00\",\"2021-05-20T00:00:00+00:00\",\"2021-05-21T00:00:00+00:00\",\"2021-05-24T00:00:00+00:00\",\"2021-05-25T00:00:00+00:00\",\"2021-05-26T00:00:00+00:00\",\"2021-05-27T00:00:00+00:00\",\"2021-05-28T00:00:00+00:00\",\"2021-05-31T00:00:00+00:00\",\"2021-06-01T00:00:00+00:00\",\"2021-06-02T00:00:00+00:00\",\"2021-06-03T00:00:00+00:00\",\"2021-06-04T00:00:00+00:00\",\"2021-06-07T00:00:00+00:00\",\"2021-06-08T00:00:00+00:00\",\"2021-06-09T00:00:00+00:00\",\"2021-06-10T00:00:00+00:00\",\"2021-06-11T00:00:00+00:00\",\"2021-06-14T00:00:00+00:00\",\"2021-06-15T00:00:00+00:00\",\"2021-06-16T00:00:00+00:00\",\"2021-06-17T00:00:00+00:00\",\"2021-06-18T00:00:00+00:00\",\"2021-06-21T00:00:00+00:00\",\"2021-06-22T00:00:00+00:00\",\"2021-06-23T00:00:00+00:00\",\"2021-06-24T00:00:00+00:00\",\"2021-06-25T00:00:00+00:00\",\"2021-06-28T00:00:00+00:00\",\"2021-06-29T00:00:00+00:00\",\"2021-06-30T00:00:00+00:00\",\"2021-07-01T00:00:00+00:00\",\"2021-07-02T00:00:00+00:00\",\"2021-07-05T00:00:00+00:00\",\"2021-07-06T00:00:00+00:00\",\"2021-07-07T00:00:00+00:00\",\"2021-07-08T00:00:00+00:00\",\"2021-07-09T00:00:00+00:00\",\"2021-07-12T00:00:00+00:00\",\"2021-07-13T00:00:00+00:00\",\"2021-07-14T00:00:00+00:00\",\"2021-07-15T00:00:00+00:00\",\"2021-07-16T00:00:00+00:00\",\"2021-07-19T00:00:00+00:00\",\"2021-07-20T00:00:00+00:00\",\"2021-07-21T00:00:00+00:00\",\"2021-07-22T00:00:00+00:00\",\"2021-07-23T00:00:00+00:00\",\"2021-07-26T00:00:00+00:00\",\"2021-07-27T00:00:00+00:00\",\"2021-07-28T00:00:00+00:00\",\"2021-07-29T00:00:00+00:00\",\"2021-07-30T00:00:00+00:00\",\"2021-08-02T00:00:00+00:00\",\"2021-08-03T00:00:00+00:00\",\"2021-08-04T00:00:00+00:00\",\"2021-08-05T00:00:00+00:00\",\"2021-08-06T00:00:00+00:00\",\"2021-08-09T00:00:00+00:00\",\"2021-08-10T00:00:00+00:00\",\"2021-08-11T00:00:00+00:00\",\"2021-08-12T00:00:00+00:00\",\"2021-08-13T00:00:00+00:00\",\"2021-08-16T00:00:00+00:00\",\"2021-08-17T00:00:00+00:00\",\"2021-08-18T00:00:00+00:00\",\"2021-08-19T00:00:00+00:00\",\"2021-08-20T00:00:00+00:00\",\"2021-08-23T00:00:00+00:00\",\"2021-08-24T00:00:00+00:00\",\"2021-08-25T00:00:00+00:00\",\"2021-08-26T00:00:00+00:00\",\"2021-08-27T00:00:00+00:00\",\"2021-08-30T00:00:00+00:00\",\"2021-08-31T00:00:00+00:00\",\"2021-09-01T00:00:00+00:00\",\"2021-09-02T00:00:00+00:00\",\"2021-09-03T00:00:00+00:00\"],\"y\":[109.188,109.09,108.604,108.81,108.615,109.699,109.453,109.362,109.209,108.888,109.227,108.767,108.945,108.74,108.747,109.139,109.808,109.872,109.556,109.467,109.547,110.276,109.524,109.238,109.492,109.618,109.319,109.682,110.071,110.056,110.708,110.221,110.211,110.314,110.658,110.949,110.874,110.778,110.614,110.538,111.101,111.521,111.02,110.962,110.61,110.608,109.748,110.102,110.349,110.627,109.95,109.831,110.081,109.447,109.843,110.286,110.149,110.547,110.381,109.774,109.909,109.47,109.656,109.305,109.042,109.473,109.761,110.217,110.267,110.56,110.428,110.386,109.592,109.243,109.595,109.763,109.763,109.799,109.694,109.679,110.023,110.081,109.85,109.913,110.007,110.025,109.937,109.712],\"yaxis\":\"y3\",\"type\":\"scatter\"},{\"hovertext\":[\"order id: \\u003cbr\\u003ehold probability: 0.0000\\u003cbr\\u003ehold: False\\u003cbr\\u003evolume: -25.063910\\u003cbr\\u003emodified volume: 25.0600\\u003cbr\\u003efee: nan\\u003cbr\\u003emargin: nan\\u003cbr\\u003eerror: low free margin (order margin=25060.0, order profit=-678.3071912183385, free margin=7962.618496246406)\",\"order id: \\u003cbr\\u003ehold probability: 0.0000\\u003cbr\\u003ehold: False\\u003cbr\\u003evolume: 20.693140\\u003cbr\\u003emodified volume: 20.6900\\u003cbr\\u003efee: nan\\u003cbr\\u003emargin: nan\\u003cbr\\u003eerror: low free margin (order margin=20690.0, order profit=-479.93012115344044, free margin=7962.618496246406)\",\"order id: \\u003cbr\\u003ehold probability: 0.0000\\u003cbr\\u003ehold: False\\u003cbr\\u003evolume: -93.549890\\u003cbr\\u003emodified volume: 93.5500\\u003cbr\\u003efee: nan\\u003cbr\\u003emargin: nan\\u003cbr\\u003eerror: low free margin (order margin=93550.0, order profit=-1693.7470301117464, free margin=7962.618496246406)\",\"order id: \\u003cbr\\u003ehold probability: 0.0000\\u003cbr\\u003ehold: False\\u003cbr\\u003evolume: 12.198657\\u003cbr\\u003emodified volume: 12.2000\\u003cbr\\u003efee: nan\\u003cbr\\u003emargin: nan\\u003cbr\\u003eerror: low free margin (order margin=12200.0, order profit=-214.540036759953, free margin=5491.98956977598)\",\"order id: \\u003cbr\\u003ehold probability: 0.0000\\u003cbr\\u003ehold: False\\u003cbr\\u003evolume: -87.094379\\u003cbr\\u003emodified volume: 87.0900\\u003cbr\\u003efee: nan\\u003cbr\\u003emargin: nan\\u003cbr\\u003eerror: low free margin (order margin=87090.00000000001, order profit=-1388.3383460890188, free margin=7894.357369775957)\",\"order id: \\u003cbr\\u003ehold probability: 0.0000\\u003cbr\\u003ehold: False\\u003cbr\\u003evolume: 75.929918\\u003cbr\\u003emodified volume: 75.9300\\u003cbr\\u003efee: nan\\u003cbr\\u003emargin: nan\\u003cbr\\u003eerror: low free margin (order margin=75930.00000000001, order profit=-1686.116023502719, free margin=7894.357369775957)\",\"order id: 3\\u003cbr\\u003ehold probability: 0.0000\\u003cbr\\u003ehold: False\\u003cbr\\u003evolume: 5.977734\\u003cbr\\u003emodified volume: 5.9800\\u003cbr\\u003efee: 0.017434\\u003cbr\\u003emargin: 5980.000000\\u003cbr\\u003eerror: \",\"order id: 4\\u003cbr\\u003ehold probability: 0.0000\\u003cbr\\u003ehold: False\\u003cbr\\u003evolume: 2.494649\\u003cbr\\u003emodified volume: 2.4900\\u003cbr\\u003efee: 0.021786\\u003cbr\\u003emargin: 2490.000000\\u003cbr\\u003eerror: \",\"order id: \\u003cbr\\u003ehold probability: 0.0000\\u003cbr\\u003ehold: False\\u003cbr\\u003evolume: -75.048469\\u003cbr\\u003emodified volume: 75.0500\\u003cbr\\u003efee: nan\\u003cbr\\u003emargin: nan\\u003cbr\\u003eerror: low free margin (order margin=75050.00000000001, order profit=-1441.2472711885641, free margin=6933.108104227871)\",\"order id: \\u003cbr\\u003ehold probability: 0.0000\\u003cbr\\u003ehold: False\\u003cbr\\u003evolume: -38.499717\\u003cbr\\u003emodified volume: 38.5000\\u003cbr\\u003efee: nan\\u003cbr\\u003emargin: nan\\u003cbr\\u003eerror: low free margin (order margin=38500.0, order profit=-757.2697197031092, free margin=8947.368523973133)\",\"order id: \\u003cbr\\u003ehold probability: 0.1202\\u003cbr\\u003ehold: False\\u003cbr\\u003evolume: 89.411305\\u003cbr\\u003emodified volume: 89.4100\\u003cbr\\u003efee: nan\\u003cbr\\u003emargin: nan\\u003cbr\\u003eerror: low free margin (order margin=89409.99999999999, order profit=-1714.108432801357, free margin=8947.368523973133)\",\"order id: \\u003cbr\\u003ehold probability: 0.0000\\u003cbr\\u003ehold: False\\u003cbr\\u003evolume: 78.597144\\u003cbr\\u003emodified volume: 78.6000\\u003cbr\\u003efee: nan\\u003cbr\\u003emargin: nan\\u003cbr\\u003eerror: low free margin (order margin=78600.00000000001, order profit=-1437.2717518305953, free margin=7452.852008376429)\",\"order id: \\u003cbr\\u003ehold probability: 0.0000\\u003cbr\\u003ehold: False\\u003cbr\\u003evolume: 9.411192\\u003cbr\\u003emodified volume: 9.4100\\u003cbr\\u003efee: nan\\u003cbr\\u003emargin: nan\\u003cbr\\u003eerror: low free margin (order margin=9409.999999999998, order profit=-185.2236036575894, free margin=8239.63987711048)\",\"order id: \\u003cbr\\u003ehold probability: 0.0136\\u003cbr\\u003ehold: False\\u003cbr\\u003evolume: 53.982204\\u003cbr\\u003emodified volume: 53.9800\\u003cbr\\u003efee: nan\\u003cbr\\u003emargin: nan\\u003cbr\\u003eerror: low free margin (order margin=53980.0, order profit=-845.9636465612514, free margin=8239.63987711048)\",\"order id: \\u003cbr\\u003ehold probability: 0.0000\\u003cbr\\u003ehold: False\\u003cbr\\u003evolume: -62.400886\\u003cbr\\u003emodified volume: 62.4000\\u003cbr\\u003efee: nan\\u003cbr\\u003emargin: nan\\u003cbr\\u003eerror: low free margin (order margin=62399.99999999999, order profit=-1276.4116717457646, free margin=10228.771894540221)\",\"order id: \\u003cbr\\u003ehold probability: 0.0000\\u003cbr\\u003ehold: False\\u003cbr\\u003evolume: 82.659009\\u003cbr\\u003emodified volume: 82.6600\\u003cbr\\u003efee: nan\\u003cbr\\u003emargin: nan\\u003cbr\\u003eerror: low free margin (order margin=82660.0, order profit=-1749.1754901604725, free margin=9189.90314177124)\",\"order id: \\u003cbr\\u003ehold probability: 0.0000\\u003cbr\\u003ehold: False\\u003cbr\\u003evolume: -52.168300\\u003cbr\\u003emodified volume: 52.1700\\u003cbr\\u003efee: nan\\u003cbr\\u003emargin: nan\\u003cbr\\u003eerror: low free margin (order margin=52169.99999999999, order profit=-818.5047950909399, free margin=9189.90314177124)\",\"order id: \\u003cbr\\u003ehold probability: 0.0000\\u003cbr\\u003ehold: False\\u003cbr\\u003evolume: 57.289685\\u003cbr\\u003emodified volume: 57.2900\\u003cbr\\u003efee: nan\\u003cbr\\u003emargin: nan\\u003cbr\\u003eerror: low free margin (order margin=57290.0, order profit=-925.2924922877133, free margin=9189.90314177124)\",\"order id: \\u003cbr\\u003ehold probability: 0.0000\\u003cbr\\u003ehold: False\\u003cbr\\u003evolume: 37.777953\\u003cbr\\u003emodified volume: 37.7800\\u003cbr\\u003efee: nan\\u003cbr\\u003emargin: nan\\u003cbr\\u003eerror: low free margin (order margin=37780.0, order profit=-687.7158382546717, free margin=9189.90314177124)\",\"order id: \\u003cbr\\u003ehold probability: 0.0000\\u003cbr\\u003ehold: False\\u003cbr\\u003evolume: -61.581287\\u003cbr\\u003emodified volume: 61.5800\\u003cbr\\u003efee: nan\\u003cbr\\u003emargin: nan\\u003cbr\\u003eerror: low free margin (order margin=61580.0, order profit=-1065.1764291933862, free margin=9189.90314177124)\",\"order id: \\u003cbr\\u003ehold probability: 0.0000\\u003cbr\\u003ehold: False\\u003cbr\\u003evolume: 58.197988\\u003cbr\\u003emodified volume: 58.2000\\u003cbr\\u003efee: nan\\u003cbr\\u003emargin: nan\\u003cbr\\u003eerror: low free margin (order margin=58199.99999999999, order profit=-1064.030289417029, free margin=9189.90314177124)\",\"order id: \\u003cbr\\u003ehold probability: 0.0000\\u003cbr\\u003ehold: False\\u003cbr\\u003evolume: -42.153585\\u003cbr\\u003emodified volume: 42.1500\\u003cbr\\u003efee: nan\\u003cbr\\u003emargin: nan\\u003cbr\\u003eerror: low free margin (order margin=42150.0, order profit=-582.343366160686, free margin=9189.90314177124)\",\"order id: \\u003cbr\\u003ehold probability: 0.0000\\u003cbr\\u003ehold: False\\u003cbr\\u003evolume: -23.963028\\u003cbr\\u003emodified volume: 23.9600\\u003cbr\\u003efee: nan\\u003cbr\\u003emargin: nan\\u003cbr\\u003eerror: low free margin (order margin=23960.0, order profit=-398.4009463548051, free margin=9189.90314177124)\",\"order id: \\u003cbr\\u003ehold probability: 0.0000\\u003cbr\\u003ehold: False\\u003cbr\\u003evolume: -78.818296\\u003cbr\\u003emodified volume: 78.8200\\u003cbr\\u003efee: nan\\u003cbr\\u003emargin: nan\\u003cbr\\u003eerror: low free margin (order margin=78820.0, order profit=-1683.713439910294, free margin=9189.90314177124)\",\"order id: \\u003cbr\\u003ehold probability: 0.0000\\u003cbr\\u003ehold: False\\u003cbr\\u003evolume: -25.075850\\u003cbr\\u003emodified volume: 25.0800\\u003cbr\\u003efee: nan\\u003cbr\\u003emargin: nan\\u003cbr\\u003eerror: low free margin (order margin=25080.000000000004, order profit=-497.8250718714562, free margin=9189.90314177124)\",\"order id: \\u003cbr\\u003ehold probability: 0.0000\\u003cbr\\u003ehold: False\\u003cbr\\u003evolume: 93.326106\\u003cbr\\u003emodified volume: 93.3300\\u003cbr\\u003efee: nan\\u003cbr\\u003emargin: nan\\u003cbr\\u003eerror: low free margin (order margin=93330.0, order profit=-1794.9878406815237, free margin=9044.708052739074)\",\"order id: \\u003cbr\\u003ehold probability: 0.0002\\u003cbr\\u003ehold: False\\u003cbr\\u003evolume: -73.438414\\u003cbr\\u003emodified volume: 73.4400\\u003cbr\\u003efee: nan\\u003cbr\\u003emargin: nan\\u003cbr\\u003eerror: low free margin (order margin=73440.0, order profit=-1314.5498975026157, free margin=9044.708052739074)\",\"order id: \\u003cbr\\u003ehold probability: 0.0000\\u003cbr\\u003ehold: False\\u003cbr\\u003evolume: -49.254232\\u003cbr\\u003emodified volume: 49.2500\\u003cbr\\u003efee: nan\\u003cbr\\u003emargin: nan\\u003cbr\\u003eerror: low free margin (order margin=49250.0, order profit=-928.1409144053158, free margin=9044.708052739074)\",\"order id: \\u003cbr\\u003ehold probability: 0.0005\\u003cbr\\u003ehold: False\\u003cbr\\u003evolume: 24.787067\\u003cbr\\u003emodified volume: 24.7900\\u003cbr\\u003efee: nan\\u003cbr\\u003emargin: nan\\u003cbr\\u003eerror: low free margin (order margin=24789.999999999996, order profit=-368.15688973273376, free margin=9044.708052739074)\",\"order id: \\u003cbr\\u003ehold probability: 0.0000\\u003cbr\\u003ehold: False\\u003cbr\\u003evolume: -38.596063\\u003cbr\\u003emodified volume: 38.6000\\u003cbr\\u003efee: nan\\u003cbr\\u003emargin: nan\\u003cbr\\u003eerror: low free margin (order margin=38600.0, order profit=-571.6737693277456, free margin=9044.708052739074)\",\"order id: \\u003cbr\\u003ehold probability: 0.0000\\u003cbr\\u003ehold: False\\u003cbr\\u003evolume: 63.967848\\u003cbr\\u003emodified volume: 63.9700\\u003cbr\\u003efee: nan\\u003cbr\\u003emargin: nan\\u003cbr\\u003eerror: low free margin (order margin=63970.0, order profit=-1119.5278590577095, free margin=9044.708052739074)\",\"order id: \\u003cbr\\u003ehold probability: 0.0000\\u003cbr\\u003ehold: False\\u003cbr\\u003evolume: 93.313546\\u003cbr\\u003emodified volume: 93.3100\\u003cbr\\u003efee: nan\\u003cbr\\u003emargin: nan\\u003cbr\\u003eerror: low free margin (order margin=93310.00000000001, order profit=-2145.458285472489, free margin=9044.708052739074)\",\"order id: \\u003cbr\\u003ehold probability: 0.0000\\u003cbr\\u003ehold: False\\u003cbr\\u003evolume: -92.542265\\u003cbr\\u003emodified volume: 92.5400\\u003cbr\\u003efee: nan\\u003cbr\\u003emargin: nan\\u003cbr\\u003eerror: low free margin (order margin=92540.0, order profit=-1670.8369046101711, free margin=1590.7745886257135)\",\"order id: \\u003cbr\\u003ehold probability: 0.0002\\u003cbr\\u003ehold: False\\u003cbr\\u003evolume: -56.930288\\u003cbr\\u003emodified volume: 56.9300\\u003cbr\\u003efee: nan\\u003cbr\\u003emargin: nan\\u003cbr\\u003eerror: low free margin (order margin=56930.0, order profit=-1148.672596387651, free margin=6257.282588625643)\"],\"legendgroup\":\"g3\",\"marker\":{\"color\":[\"gray\",\"gray\",\"gray\",\"gray\",\"gray\",\"gray\",\"green\",\"green\",\"gray\",\"gray\",\"gray\",\"gray\",\"gray\",\"gray\",\"gray\",\"gray\",\"gray\",\"gray\",\"gray\",\"gray\",\"gray\",\"gray\",\"gray\",\"gray\",\"gray\",\"gray\",\"gray\",\"gray\",\"gray\",\"gray\",\"gray\",\"gray\",\"gray\",\"gray\"],\"size\":[13.716715055993365,12.71982579842389,29.34072998755703,10.783077561177935,27.867067606802156,25.321236001659067,9.364164247200332,8.568021567814185,25.120489423475735,16.78266279552053,28.39630858564911,25.9303193695562,10.146619659892162,20.313977602654504,22.23475736209042,26.856491082538366,19.90107839070925,21.069058481957693,16.61841559518872,22.04769805060141,21.27664869348818,17.615304852758193,13.465781833264206,25.980506014102033,13.721277478224803,29.290543343011198,24.753214433844878,19.234964744919118,13.655122355868933,16.805474906677727,22.5929075072584,29.28598092077976,29.110327664869352,20.98693488179179],\"symbol\":[\"triangle-down\",\"triangle-down\",\"triangle-down\",\"triangle-down\",\"triangle-down\",\"triangle-down\",\"triangle-up\",\"triangle-up\",\"triangle-down\",\"triangle-down\",\"triangle-down\",\"triangle-down\",\"triangle-down\",\"triangle-down\",\"triangle-down\",\"triangle-down\",\"triangle-down\",\"triangle-down\",\"triangle-down\",\"triangle-down\",\"triangle-down\",\"triangle-down\",\"triangle-down\",\"triangle-down\",\"triangle-down\",\"triangle-down\",\"triangle-down\",\"triangle-down\",\"triangle-down\",\"triangle-down\",\"triangle-down\",\"triangle-down\",\"triangle-down\",\"triangle-down\"]},\"mode\":\"markers\",\"name\":\"USDJPY\",\"showlegend\":false,\"x\":[\"2021-05-19T00:00:00+00:00\",\"2021-05-21T00:00:00+00:00\",\"2021-05-24T00:00:00+00:00\",\"2021-05-26T00:00:00+00:00\",\"2021-06-02T00:00:00+00:00\",\"2021-06-04T00:00:00+00:00\",\"2021-06-07T00:00:00+00:00\",\"2021-06-08T00:00:00+00:00\",\"2021-06-09T00:00:00+00:00\",\"2021-06-16T00:00:00+00:00\",\"2021-06-21T00:00:00+00:00\",\"2021-06-24T00:00:00+00:00\",\"2021-06-28T00:00:00+00:00\",\"2021-06-29T00:00:00+00:00\",\"2021-07-07T00:00:00+00:00\",\"2021-07-15T00:00:00+00:00\",\"2021-07-16T00:00:00+00:00\",\"2021-07-21T00:00:00+00:00\",\"2021-07-22T00:00:00+00:00\",\"2021-07-28T00:00:00+00:00\",\"2021-08-04T00:00:00+00:00\",\"2021-08-06T00:00:00+00:00\",\"2021-08-09T00:00:00+00:00\",\"2021-08-10T00:00:00+00:00\",\"2021-08-11T00:00:00+00:00\",\"2021-08-13T00:00:00+00:00\",\"2021-08-17T00:00:00+00:00\",\"2021-08-18T00:00:00+00:00\",\"2021-08-20T00:00:00+00:00\",\"2021-08-23T00:00:00+00:00\",\"2021-08-24T00:00:00+00:00\",\"2021-08-25T00:00:00+00:00\",\"2021-08-30T00:00:00+00:00\",\"2021-09-01T00:00:00+00:00\"],\"y\":[109.227,108.945,108.74,109.139,109.547,109.524,109.238,109.492,109.618,110.708,110.314,110.874,110.614,110.538,110.608,109.831,110.081,110.286,110.149,109.909,109.473,110.217,110.267,110.56,110.428,109.592,109.595,109.763,109.799,109.694,109.679,110.023,109.913,110.025],\"yaxis\":\"y3\",\"type\":\"scatter\"},{\"hovertext\":[\"order id: 3\\u003cbr\\u003eorder type: Buy\\u003cbr\\u003eclose probability: 1.0000\\u003cbr\\u003emargin: 5980.000000\\u003cbr\\u003eprofit: 1292.026249\",\"order id: 4\\u003cbr\\u003eorder type: Buy\\u003cbr\\u003eclose probability: 1.0000\\u003cbr\\u003emargin: 2490.000000\\u003cbr\\u003eprofit: -443.671597\"],\"legendgroup\":\"g3\",\"marker\":{\"color\":\"black\",\"line\":{\"width\":1.5},\"size\":7,\"symbol\":\"line-ns\"},\"mode\":\"markers\",\"name\":\"USDJPY\",\"showlegend\":false,\"x\":[\"2021-06-08T00:00:00+00:00\",\"2021-06-10T00:00:00+00:00\"],\"y\":[109.492,109.319],\"yaxis\":\"y3\",\"type\":\"scatter\"}],                        {\"template\":{\"data\":{\"histogram2dcontour\":[{\"type\":\"histogram2dcontour\",\"colorbar\":{\"outlinewidth\":0,\"ticks\":\"\"},\"colorscale\":[[0.0,\"#0d0887\"],[0.1111111111111111,\"#46039f\"],[0.2222222222222222,\"#7201a8\"],[0.3333333333333333,\"#9c179e\"],[0.4444444444444444,\"#bd3786\"],[0.5555555555555556,\"#d8576b\"],[0.6666666666666666,\"#ed7953\"],[0.7777777777777778,\"#fb9f3a\"],[0.8888888888888888,\"#fdca26\"],[1.0,\"#f0f921\"]]}],\"choropleth\":[{\"type\":\"choropleth\",\"colorbar\":{\"outlinewidth\":0,\"ticks\":\"\"}}],\"histogram2d\":[{\"type\":\"histogram2d\",\"colorbar\":{\"outlinewidth\":0,\"ticks\":\"\"},\"colorscale\":[[0.0,\"#0d0887\"],[0.1111111111111111,\"#46039f\"],[0.2222222222222222,\"#7201a8\"],[0.3333333333333333,\"#9c179e\"],[0.4444444444444444,\"#bd3786\"],[0.5555555555555556,\"#d8576b\"],[0.6666666666666666,\"#ed7953\"],[0.7777777777777778,\"#fb9f3a\"],[0.8888888888888888,\"#fdca26\"],[1.0,\"#f0f921\"]]}],\"heatmap\":[{\"type\":\"heatmap\",\"colorbar\":{\"outlinewidth\":0,\"ticks\":\"\"},\"colorscale\":[[0.0,\"#0d0887\"],[0.1111111111111111,\"#46039f\"],[0.2222222222222222,\"#7201a8\"],[0.3333333333333333,\"#9c179e\"],[0.4444444444444444,\"#bd3786\"],[0.5555555555555556,\"#d8576b\"],[0.6666666666666666,\"#ed7953\"],[0.7777777777777778,\"#fb9f3a\"],[0.8888888888888888,\"#fdca26\"],[1.0,\"#f0f921\"]]}],\"heatmapgl\":[{\"type\":\"heatmapgl\",\"colorbar\":{\"outlinewidth\":0,\"ticks\":\"\"},\"colorscale\":[[0.0,\"#0d0887\"],[0.1111111111111111,\"#46039f\"],[0.2222222222222222,\"#7201a8\"],[0.3333333333333333,\"#9c179e\"],[0.4444444444444444,\"#bd3786\"],[0.5555555555555556,\"#d8576b\"],[0.6666666666666666,\"#ed7953\"],[0.7777777777777778,\"#fb9f3a\"],[0.8888888888888888,\"#fdca26\"],[1.0,\"#f0f921\"]]}],\"contourcarpet\":[{\"type\":\"contourcarpet\",\"colorbar\":{\"outlinewidth\":0,\"ticks\":\"\"}}],\"contour\":[{\"type\":\"contour\",\"colorbar\":{\"outlinewidth\":0,\"ticks\":\"\"},\"colorscale\":[[0.0,\"#0d0887\"],[0.1111111111111111,\"#46039f\"],[0.2222222222222222,\"#7201a8\"],[0.3333333333333333,\"#9c179e\"],[0.4444444444444444,\"#bd3786\"],[0.5555555555555556,\"#d8576b\"],[0.6666666666666666,\"#ed7953\"],[0.7777777777777778,\"#fb9f3a\"],[0.8888888888888888,\"#fdca26\"],[1.0,\"#f0f921\"]]}],\"surface\":[{\"type\":\"surface\",\"colorbar\":{\"outlinewidth\":0,\"ticks\":\"\"},\"colorscale\":[[0.0,\"#0d0887\"],[0.1111111111111111,\"#46039f\"],[0.2222222222222222,\"#7201a8\"],[0.3333333333333333,\"#9c179e\"],[0.4444444444444444,\"#bd3786\"],[0.5555555555555556,\"#d8576b\"],[0.6666666666666666,\"#ed7953\"],[0.7777777777777778,\"#fb9f3a\"],[0.8888888888888888,\"#fdca26\"],[1.0,\"#f0f921\"]]}],\"mesh3d\":[{\"type\":\"mesh3d\",\"colorbar\":{\"outlinewidth\":0,\"ticks\":\"\"}}],\"scatter\":[{\"marker\":{\"line\":{\"color\":\"#283442\"}},\"type\":\"scatter\"}],\"parcoords\":[{\"type\":\"parcoords\",\"line\":{\"colorbar\":{\"outlinewidth\":0,\"ticks\":\"\"}}}],\"scatterpolargl\":[{\"type\":\"scatterpolargl\",\"marker\":{\"colorbar\":{\"outlinewidth\":0,\"ticks\":\"\"}}}],\"bar\":[{\"error_x\":{\"color\":\"#f2f5fa\"},\"error_y\":{\"color\":\"#f2f5fa\"},\"marker\":{\"line\":{\"color\":\"rgb(17,17,17)\",\"width\":0.5},\"pattern\":{\"fillmode\":\"overlay\",\"size\":10,\"solidity\":0.2}},\"type\":\"bar\"}],\"scattergeo\":[{\"type\":\"scattergeo\",\"marker\":{\"colorbar\":{\"outlinewidth\":0,\"ticks\":\"\"}}}],\"scatterpolar\":[{\"type\":\"scatterpolar\",\"marker\":{\"colorbar\":{\"outlinewidth\":0,\"ticks\":\"\"}}}],\"histogram\":[{\"marker\":{\"pattern\":{\"fillmode\":\"overlay\",\"size\":10,\"solidity\":0.2}},\"type\":\"histogram\"}],\"scattergl\":[{\"marker\":{\"line\":{\"color\":\"#283442\"}},\"type\":\"scattergl\"}],\"scatter3d\":[{\"type\":\"scatter3d\",\"line\":{\"colorbar\":{\"outlinewidth\":0,\"ticks\":\"\"}},\"marker\":{\"colorbar\":{\"outlinewidth\":0,\"ticks\":\"\"}}}],\"scattermapbox\":[{\"type\":\"scattermapbox\",\"marker\":{\"colorbar\":{\"outlinewidth\":0,\"ticks\":\"\"}}}],\"scatterternary\":[{\"type\":\"scatterternary\",\"marker\":{\"colorbar\":{\"outlinewidth\":0,\"ticks\":\"\"}}}],\"scattercarpet\":[{\"type\":\"scattercarpet\",\"marker\":{\"colorbar\":{\"outlinewidth\":0,\"ticks\":\"\"}}}],\"carpet\":[{\"aaxis\":{\"endlinecolor\":\"#A2B1C6\",\"gridcolor\":\"#506784\",\"linecolor\":\"#506784\",\"minorgridcolor\":\"#506784\",\"startlinecolor\":\"#A2B1C6\"},\"baxis\":{\"endlinecolor\":\"#A2B1C6\",\"gridcolor\":\"#506784\",\"linecolor\":\"#506784\",\"minorgridcolor\":\"#506784\",\"startlinecolor\":\"#A2B1C6\"},\"type\":\"carpet\"}],\"table\":[{\"cells\":{\"fill\":{\"color\":\"#506784\"},\"line\":{\"color\":\"rgb(17,17,17)\"}},\"header\":{\"fill\":{\"color\":\"#2a3f5f\"},\"line\":{\"color\":\"rgb(17,17,17)\"}},\"type\":\"table\"}],\"barpolar\":[{\"marker\":{\"line\":{\"color\":\"rgb(17,17,17)\",\"width\":0.5},\"pattern\":{\"fillmode\":\"overlay\",\"size\":10,\"solidity\":0.2}},\"type\":\"barpolar\"}],\"pie\":[{\"automargin\":true,\"type\":\"pie\"}]},\"layout\":{\"autotypenumbers\":\"strict\",\"colorway\":[\"#636efa\",\"#EF553B\",\"#00cc96\",\"#ab63fa\",\"#FFA15A\",\"#19d3f3\",\"#FF6692\",\"#B6E880\",\"#FF97FF\",\"#FECB52\"],\"font\":{\"color\":\"#f2f5fa\"},\"hovermode\":\"closest\",\"hoverlabel\":{\"align\":\"left\"},\"paper_bgcolor\":\"rgb(17,17,17)\",\"plot_bgcolor\":\"rgb(17,17,17)\",\"polar\":{\"bgcolor\":\"rgb(17,17,17)\",\"angularaxis\":{\"gridcolor\":\"#506784\",\"linecolor\":\"#506784\",\"ticks\":\"\"},\"radialaxis\":{\"gridcolor\":\"#506784\",\"linecolor\":\"#506784\",\"ticks\":\"\"}},\"ternary\":{\"bgcolor\":\"rgb(17,17,17)\",\"aaxis\":{\"gridcolor\":\"#506784\",\"linecolor\":\"#506784\",\"ticks\":\"\"},\"baxis\":{\"gridcolor\":\"#506784\",\"linecolor\":\"#506784\",\"ticks\":\"\"},\"caxis\":{\"gridcolor\":\"#506784\",\"linecolor\":\"#506784\",\"ticks\":\"\"}},\"coloraxis\":{\"colorbar\":{\"outlinewidth\":0,\"ticks\":\"\"}},\"colorscale\":{\"sequential\":[[0.0,\"#0d0887\"],[0.1111111111111111,\"#46039f\"],[0.2222222222222222,\"#7201a8\"],[0.3333333333333333,\"#9c179e\"],[0.4444444444444444,\"#bd3786\"],[0.5555555555555556,\"#d8576b\"],[0.6666666666666666,\"#ed7953\"],[0.7777777777777778,\"#fb9f3a\"],[0.8888888888888888,\"#fdca26\"],[1.0,\"#f0f921\"]],\"sequentialminus\":[[0.0,\"#0d0887\"],[0.1111111111111111,\"#46039f\"],[0.2222222222222222,\"#7201a8\"],[0.3333333333333333,\"#9c179e\"],[0.4444444444444444,\"#bd3786\"],[0.5555555555555556,\"#d8576b\"],[0.6666666666666666,\"#ed7953\"],[0.7777777777777778,\"#fb9f3a\"],[0.8888888888888888,\"#fdca26\"],[1.0,\"#f0f921\"]],\"diverging\":[[0,\"#8e0152\"],[0.1,\"#c51b7d\"],[0.2,\"#de77ae\"],[0.3,\"#f1b6da\"],[0.4,\"#fde0ef\"],[0.5,\"#f7f7f7\"],[0.6,\"#e6f5d0\"],[0.7,\"#b8e186\"],[0.8,\"#7fbc41\"],[0.9,\"#4d9221\"],[1,\"#276419\"]]},\"xaxis\":{\"gridcolor\":\"#283442\",\"linecolor\":\"#506784\",\"ticks\":\"\",\"title\":{\"standoff\":15},\"zerolinecolor\":\"#283442\",\"automargin\":true,\"zerolinewidth\":2},\"yaxis\":{\"gridcolor\":\"#283442\",\"linecolor\":\"#506784\",\"ticks\":\"\",\"title\":{\"standoff\":15},\"zerolinecolor\":\"#283442\",\"automargin\":true,\"zerolinewidth\":2},\"scene\":{\"xaxis\":{\"backgroundcolor\":\"rgb(17,17,17)\",\"gridcolor\":\"#506784\",\"linecolor\":\"#506784\",\"showbackground\":true,\"ticks\":\"\",\"zerolinecolor\":\"#C8D4E3\",\"gridwidth\":2},\"yaxis\":{\"backgroundcolor\":\"rgb(17,17,17)\",\"gridcolor\":\"#506784\",\"linecolor\":\"#506784\",\"showbackground\":true,\"ticks\":\"\",\"zerolinecolor\":\"#C8D4E3\",\"gridwidth\":2},\"zaxis\":{\"backgroundcolor\":\"rgb(17,17,17)\",\"gridcolor\":\"#506784\",\"linecolor\":\"#506784\",\"showbackground\":true,\"ticks\":\"\",\"zerolinecolor\":\"#C8D4E3\",\"gridwidth\":2}},\"shapedefaults\":{\"line\":{\"color\":\"#f2f5fa\"}},\"annotationdefaults\":{\"arrowcolor\":\"#f2f5fa\",\"arrowhead\":0,\"arrowwidth\":1},\"geo\":{\"bgcolor\":\"rgb(17,17,17)\",\"landcolor\":\"rgb(17,17,17)\",\"subunitcolor\":\"#506784\",\"showland\":true,\"showlakes\":true,\"lakecolor\":\"rgb(17,17,17)\"},\"title\":{\"x\":0.05},\"updatemenudefaults\":{\"bgcolor\":\"#506784\",\"borderwidth\":0},\"sliderdefaults\":{\"bgcolor\":\"#C8D4E3\",\"borderwidth\":1,\"bordercolor\":\"rgb(17,17,17)\",\"tickwidth\":0},\"mapbox\":{\"style\":\"dark\"}}},\"yaxis\":{\"tickfont\":{\"color\":\"rgba(0.12156862745098039, 0.4666666666666667, 0.7058823529411765, 0.8)\"}},\"yaxis2\":{\"tickfont\":{\"color\":\"rgba(0.5643983083429451, 0.36993464052287583, 0.5132641291810843, 0.8)\"},\"overlaying\":\"y\"},\"yaxis3\":{\"tickfont\":{\"color\":\"rgba(0.7372549019607844, 0.7411764705882353, 0.13333333333333333, 0.8)\"},\"overlaying\":\"y\"},\"xaxis\":{\"tickformat\":\"%Y-%m-%d\"},\"title\":{\"text\":\"Balance: 6257.282589 USD ~ Equity: 6096.474271 ~ Margin: 3989.798400 ~ Free Margin: 2106.675871 ~ Margin Level: 1.528016\"},\"width\":1400,\"height\":600},                        {\"responsive\": true}                    ).then(function(){\n                            \nvar gd = document.getElementById('56190b6f-bb14-4507-849f-b6910b351797');\nvar x = new MutationObserver(function (mutations, observer) {{\n        var display = window.getComputedStyle(gd).display;\n        if (!display || display === 'none') {{\n            console.log([gd, 'removed!']);\n            Plotly.purge(gd);\n            observer.disconnect();\n        }}\n}});\n\n// Listen for the removal of the full notebook cells\nvar notebookContainer = gd.closest('#notebook-container');\nif (notebookContainer) {{\n    x.observe(notebookContainer, {childList: true});\n}}\n\n// Listen for the clearing of the current output cell\nvar outputEl = gd.closest('.output');\nif (outputEl) {{\n    x.observe(outputEl, {childList: true});\n}}\n\n                        })                };                });            </script>        </div>"
     },
     "metadata": {},
     "output_type": "display_data"
    }
   ],
   "source": [
    "env.render('advanced_figure', time_format='%Y-%m-%d')"
   ],
   "metadata": {
    "collapsed": false,
    "ExecuteTime": {
     "end_time": "2024-01-29T17:49:06.193591Z",
     "start_time": "2024-01-29T17:49:05.977781Z"
    }
   },
   "id": "c64f72ee6e1cd942",
   "execution_count": 117
  }
 ],
 "metadata": {
  "kernelspec": {
   "display_name": "Python 3",
   "language": "python",
   "name": "python3"
  },
  "language_info": {
   "codemirror_mode": {
    "name": "ipython",
    "version": 2
   },
   "file_extension": ".py",
   "mimetype": "text/x-python",
   "name": "python",
   "nbconvert_exporter": "python",
   "pygments_lexer": "ipython2",
   "version": "2.7.6"
  }
 },
 "nbformat": 4,
 "nbformat_minor": 5
}
